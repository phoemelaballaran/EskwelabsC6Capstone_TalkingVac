{
 "cells": [
  {
   "cell_type": "code",
   "execution_count": 19,
   "id": "4069d0ac",
   "metadata": {},
   "outputs": [],
   "source": [
    "import pandas as pd\n",
    "import numpy as np\n",
    "import re\n",
    "\n",
    "import scipy\n",
    "\n",
    "from transformers import BertForQuestionAnswering\n",
    "from transformers import BertTokenizer, AutoTokenizer\n",
    "from sentence_transformers import SentenceTransformer\n",
    "from transformers import pipeline"
   ]
  },
  {
   "cell_type": "markdown",
   "id": "dc28160b",
   "metadata": {},
   "source": [
    "# Process Dataset"
   ]
  },
  {
   "cell_type": "code",
   "execution_count": 2,
   "id": "5024c947",
   "metadata": {},
   "outputs": [],
   "source": [
    "df = pd.read_csv('datasets/QA.csv',index_col=False)"
   ]
  },
  {
   "cell_type": "code",
   "execution_count": 3,
   "id": "1a6f0852",
   "metadata": {},
   "outputs": [
    {
     "data": {
      "text/html": [
       "<div>\n",
       "<style scoped>\n",
       "    .dataframe tbody tr th:only-of-type {\n",
       "        vertical-align: middle;\n",
       "    }\n",
       "\n",
       "    .dataframe tbody tr th {\n",
       "        vertical-align: top;\n",
       "    }\n",
       "\n",
       "    .dataframe thead th {\n",
       "        text-align: right;\n",
       "    }\n",
       "</style>\n",
       "<table border=\"1\" class=\"dataframe\">\n",
       "  <thead>\n",
       "    <tr style=\"text-align: right;\">\n",
       "      <th></th>\n",
       "      <th>question</th>\n",
       "      <th>answer</th>\n",
       "      <th>source</th>\n",
       "      <th>link</th>\n",
       "      <th>last_updated</th>\n",
       "    </tr>\n",
       "  </thead>\n",
       "  <tbody>\n",
       "    <tr>\n",
       "      <th>0</th>\n",
       "      <td>What is COVID-19?</td>\n",
       "      <td>COVID-19 is the disease caused by a new corona...</td>\n",
       "      <td>World Health Organization (WHO)</td>\n",
       "      <td>https://www.who.int/news-room/q-a-detail</td>\n",
       "      <td>3/29/2021</td>\n",
       "    </tr>\n",
       "    <tr>\n",
       "      <th>1</th>\n",
       "      <td>What are the symptoms of COVID-19?</td>\n",
       "      <td>The most common symptoms of COVID-19 are fever...</td>\n",
       "      <td>World Health Organization (WHO)</td>\n",
       "      <td>https://www.who.int/news-room/q-a-detail</td>\n",
       "      <td>3/29/2021</td>\n",
       "    </tr>\n",
       "    <tr>\n",
       "      <th>2</th>\n",
       "      <td>What happens to people who get COVID-19?</td>\n",
       "      <td>Among those who develop symptoms, most (about ...</td>\n",
       "      <td>World Health Organization (WHO)</td>\n",
       "      <td>https://www.who.int/news-room/q-a-detail</td>\n",
       "      <td>3/29/2021</td>\n",
       "    </tr>\n",
       "    <tr>\n",
       "      <th>3</th>\n",
       "      <td>Who is most at risk of severe illness from COV...</td>\n",
       "      <td>People aged 60 years and over, and those with ...</td>\n",
       "      <td>World Health Organization (WHO)</td>\n",
       "      <td>https://www.who.int/news-room/q-a-detail</td>\n",
       "      <td>3/29/2021</td>\n",
       "    </tr>\n",
       "    <tr>\n",
       "      <th>4</th>\n",
       "      <td>Are there long-term effects of COVID-19?</td>\n",
       "      <td>Some people who have had COVID-19, whether the...</td>\n",
       "      <td>World Health Organization (WHO)</td>\n",
       "      <td>https://www.who.int/news-room/q-a-detail</td>\n",
       "      <td>3/29/2021</td>\n",
       "    </tr>\n",
       "  </tbody>\n",
       "</table>\n",
       "</div>"
      ],
      "text/plain": [
       "                                            question  \\\n",
       "0                                  What is COVID-19?   \n",
       "1                 What are the symptoms of COVID-19?   \n",
       "2           What happens to people who get COVID-19?   \n",
       "3  Who is most at risk of severe illness from COV...   \n",
       "4           Are there long-term effects of COVID-19?   \n",
       "\n",
       "                                              answer  \\\n",
       "0  COVID-19 is the disease caused by a new corona...   \n",
       "1  The most common symptoms of COVID-19 are fever...   \n",
       "2  Among those who develop symptoms, most (about ...   \n",
       "3  People aged 60 years and over, and those with ...   \n",
       "4  Some people who have had COVID-19, whether the...   \n",
       "\n",
       "                            source                                      link  \\\n",
       "0  World Health Organization (WHO)  https://www.who.int/news-room/q-a-detail   \n",
       "1  World Health Organization (WHO)  https://www.who.int/news-room/q-a-detail   \n",
       "2  World Health Organization (WHO)  https://www.who.int/news-room/q-a-detail   \n",
       "3  World Health Organization (WHO)  https://www.who.int/news-room/q-a-detail   \n",
       "4  World Health Organization (WHO)  https://www.who.int/news-room/q-a-detail   \n",
       "\n",
       "  last_updated  \n",
       "0    3/29/2021  \n",
       "1    3/29/2021  \n",
       "2    3/29/2021  \n",
       "3    3/29/2021  \n",
       "4    3/29/2021  "
      ]
     },
     "execution_count": 3,
     "metadata": {},
     "output_type": "execute_result"
    }
   ],
   "source": [
    "df.head()"
   ]
  },
  {
   "cell_type": "code",
   "execution_count": 4,
   "id": "2d7b45f0",
   "metadata": {},
   "outputs": [
    {
     "data": {
      "text/plain": [
       "(831, 5)"
      ]
     },
     "execution_count": 4,
     "metadata": {},
     "output_type": "execute_result"
    }
   ],
   "source": [
    "df.shape"
   ]
  },
  {
   "cell_type": "markdown",
   "id": "e84ca3d5",
   "metadata": {},
   "source": [
    "Transform question column to lowercase"
   ]
  },
  {
   "cell_type": "code",
   "execution_count": 5,
   "id": "ff816a77",
   "metadata": {},
   "outputs": [],
   "source": [
    "df['qprocessed'] = df['question'].str.lower()\n",
    "df['qprocessed'] = df['qprocessed'].astype(str)"
   ]
  },
  {
   "cell_type": "markdown",
   "id": "becb14eb",
   "metadata": {},
   "source": [
    "Remove numbers"
   ]
  },
  {
   "cell_type": "code",
   "execution_count": 6,
   "id": "a501bcdc",
   "metadata": {},
   "outputs": [],
   "source": [
    "df['qprocessed'] = [re.sub(r'\\w*\\d\\w*','',i).strip() for i in df['qprocessed']]"
   ]
  },
  {
   "cell_type": "markdown",
   "id": "3dd40c92",
   "metadata": {},
   "source": [
    "Remove punctuations"
   ]
  },
  {
   "cell_type": "code",
   "execution_count": 7,
   "id": "05d378a7",
   "metadata": {},
   "outputs": [
    {
     "name": "stderr",
     "output_type": "stream",
     "text": [
      "<ipython-input-7-1803e3c5a20d>:1: FutureWarning: The default value of regex will change from True to False in a future version.\n",
      "  df['qprocessed'] = df['qprocessed'].str.replace('[^ \\w\\s]','')\n"
     ]
    }
   ],
   "source": [
    "df['qprocessed'] = df['qprocessed'].str.replace('[^ \\w\\s]','')"
   ]
  },
  {
   "cell_type": "code",
   "execution_count": 8,
   "id": "07f5dd87",
   "metadata": {
    "scrolled": false
   },
   "outputs": [
    {
     "data": {
      "text/plain": [
       "0                                          what is covid\n",
       "1                         what are the symptoms of covid\n",
       "2                   what happens to people who get covid\n",
       "3       who is most at risk of severe illness from covid\n",
       "4                    are there longterm effects of covid\n",
       "                             ...                        \n",
       "826         what are the antibody levels postvaccination\n",
       "827    how soon are antibody levels  formed postvacci...\n",
       "828    if the vaccine will require regular or booster...\n",
       "829                            will i need booster shots\n",
       "830               does the vaccine require booster shots\n",
       "Name: qprocessed, Length: 831, dtype: object"
      ]
     },
     "execution_count": 8,
     "metadata": {},
     "output_type": "execute_result"
    }
   ],
   "source": [
    "df['qprocessed']"
   ]
  },
  {
   "cell_type": "markdown",
   "id": "3e7e5324",
   "metadata": {},
   "source": [
    "# Create embeddings"
   ]
  },
  {
   "cell_type": "markdown",
   "id": "b0db92f2",
   "metadata": {},
   "source": [
    "Load model for sentence transformer"
   ]
  },
  {
   "cell_type": "code",
   "execution_count": 9,
   "id": "79e5daaf",
   "metadata": {},
   "outputs": [],
   "source": [
    "name = 'mrm8488/bert-medium-finetuned-squadv2'"
   ]
  },
  {
   "cell_type": "code",
   "execution_count": 10,
   "id": "51cbf007",
   "metadata": {},
   "outputs": [],
   "source": [
    "stmodel = SentenceTransformer(name)"
   ]
  },
  {
   "cell_type": "markdown",
   "id": "d1db36d7",
   "metadata": {},
   "source": [
    "Create embeddings of the processed questions column"
   ]
  },
  {
   "cell_type": "code",
   "execution_count": 11,
   "id": "31700a2d",
   "metadata": {
    "scrolled": true
   },
   "outputs": [
    {
     "name": "stderr",
     "output_type": "stream",
     "text": [
      "Asking to truncate to max_length but no maximum length is provided and the model has no predefined maximum length. Default to no truncation.\n"
     ]
    }
   ],
   "source": [
    "sentence_embeddings = stmodel.encode(df['qprocessed'])"
   ]
  },
  {
   "cell_type": "markdown",
   "id": "fa8905dd",
   "metadata": {},
   "source": [
    "Save embeddings as an array for future use (optional)"
   ]
  },
  {
   "cell_type": "code",
   "execution_count": null,
   "id": "94eb9174",
   "metadata": {},
   "outputs": [],
   "source": [
    "sentence_embeddings_save = np.array(sentence_embeddings)\n",
    "np.save('files/sentence_embeddings.npy', sentence_embeddings_save)"
   ]
  },
  {
   "cell_type": "code",
   "execution_count": null,
   "id": "3dbd99f1",
   "metadata": {},
   "outputs": [],
   "source": [
    "#sentence_embeddings = np.load('datasets/sentence_embeddings.npy')"
   ]
  },
  {
   "cell_type": "markdown",
   "id": "844c014a",
   "metadata": {},
   "source": [
    "# Create functions for the processes"
   ]
  },
  {
   "cell_type": "markdown",
   "id": "fb162034",
   "metadata": {},
   "source": [
    "Function for processing the format and creating embeddings of the input question"
   ]
  },
  {
   "cell_type": "code",
   "execution_count": 12,
   "id": "a9102264",
   "metadata": {},
   "outputs": [],
   "source": [
    "def process_query(query):\n",
    "    query = query.lower()\n",
    "    query = re.sub(r'\\w*\\d\\w*','',query).strip()\n",
    "    query = re.sub(r'[^\\w\\s]','',query).strip()\n",
    "    query = [query]\n",
    "    query_embeddings = stmodel.encode(query)\n",
    "    \n",
    "    return query, query_embeddings"
   ]
  },
  {
   "cell_type": "markdown",
   "id": "0c8ed1c1",
   "metadata": {},
   "source": [
    "Function for getting the index of the closest question match and the cosine score"
   ]
  },
  {
   "cell_type": "code",
   "execution_count": 13,
   "id": "6761c015",
   "metadata": {},
   "outputs": [],
   "source": [
    "def semantic_search(query, query_embeddings):\n",
    "    for query, query_embedding in zip(query, query_embeddings):\n",
    "        distances = scipy.spatial.distance.cdist([query_embedding], sentence_embeddings, \"cosine\")[0]\n",
    "\n",
    "        results = zip(range(len(distances)), distances)\n",
    "        results = sorted(results, key=lambda x: x[1])\n",
    "\n",
    "        for index, distance in results[0:1]:\n",
    "            cosine_score = 1-distance\n",
    "            return index, cosine_score"
   ]
  },
  {
   "cell_type": "markdown",
   "id": "cc556c0a",
   "metadata": {},
   "source": [
    "Function for extracting the concise reply from the context"
   ]
  },
  {
   "cell_type": "code",
   "execution_count": 14,
   "id": "47fe56ac",
   "metadata": {},
   "outputs": [],
   "source": [
    "def search_reply(question, context):\n",
    "    bertQA = BertForQuestionAnswering.from_pretrained(name)\n",
    "    tokenizer = BertTokenizer.from_pretrained(name)\n",
    "    nlp = pipeline('question-answering', model=bertQA, tokenizer=tokenizer)\n",
    "    reply = nlp({'question': question,'context': context})\n",
    "    return reply['answer']"
   ]
  },
  {
   "cell_type": "markdown",
   "id": "6628e60f",
   "metadata": {},
   "source": [
    "# QA Process"
   ]
  },
  {
   "cell_type": "markdown",
   "id": "83edc5a9",
   "metadata": {},
   "source": [
    "Ask a question"
   ]
  },
  {
   "cell_type": "code",
   "execution_count": 15,
   "id": "987c91eb",
   "metadata": {},
   "outputs": [],
   "source": [
    "search_input = 'What vaccines are available?'"
   ]
  },
  {
   "cell_type": "code",
   "execution_count": 17,
   "id": "c3828530",
   "metadata": {},
   "outputs": [],
   "source": [
    "query, query_embeddings = process_query(search_input)\n",
    "\n",
    "index, cosine_score = semantic_search(query, query_embeddings)"
   ]
  },
  {
   "cell_type": "code",
   "execution_count": 22,
   "id": "9f87819b",
   "metadata": {},
   "outputs": [
    {
     "name": "stdout",
     "output_type": "stream",
     "text": [
      "Answer: Sinovac and AstraZeneca vaccines \n",
      "\n",
      "Context: The government is currently in the initial phase of vaccine rollout with the availability of Sinovac and AstraZeneca vaccines in the country. Likewise, the country is in the advanced stages of negotiations with the COVAX Facility and various other vaccine manufacturers. For more information on the available vaccine brands in the Philippines, please visit DOH's website: https://doh.gov.ph/covid19vaccinestracker \n",
      "\n",
      "Source: Philippine Department of Health (DOH) \n",
      "\n",
      "Link: https://doh.gov.ph/COVID-19/FAQs \n",
      "\n",
      "This information was last updated on 3/31/2021. \n",
      "\n"
     ]
    }
   ],
   "source": [
    "if cosine_score >= 0.85 :\n",
    "        \n",
    "    match_question = str(df['question'][index])\n",
    "    context = str(df['answer'][index])\n",
    "    source = str(df['source'][index])\n",
    "    date_accessed = str(df['last_updated'][index])\n",
    "    link = str(df['link'][index])\n",
    "        \n",
    "    reply = search_reply(match_question, context)\n",
    "    \n",
    "    print(f\"Answer: {reply} \\n\")\n",
    "    print(f\"Context: {context} \\n\")\n",
    "    print(f\"Source: {source} \\n\")\n",
    "    print(f\"Link: {link} \\n\")\n",
    "    print(f\"This information was last updated on {date_accessed}. \\n\")\n",
    "    \n",
    "else:\n",
    "    print(\"Sorry, I don't know the answer yet.\")"
   ]
  },
  {
   "cell_type": "code",
   "execution_count": null,
   "id": "fcd7c246",
   "metadata": {},
   "outputs": [],
   "source": []
  }
 ],
 "metadata": {
  "kernelspec": {
   "display_name": "Python 3",
   "language": "python",
   "name": "python3"
  },
  "language_info": {
   "codemirror_mode": {
    "name": "ipython",
    "version": 3
   },
   "file_extension": ".py",
   "mimetype": "text/x-python",
   "name": "python",
   "nbconvert_exporter": "python",
   "pygments_lexer": "ipython3",
   "version": "3.8.5"
  }
 },
 "nbformat": 4,
 "nbformat_minor": 5
}
