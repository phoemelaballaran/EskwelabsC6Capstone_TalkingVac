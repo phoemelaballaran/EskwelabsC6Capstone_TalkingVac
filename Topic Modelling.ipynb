{
 "cells": [
  {
   "cell_type": "markdown",
   "metadata": {},
   "source": [
    "# Topic Modelling"
   ]
  },
  {
   "cell_type": "markdown",
   "metadata": {},
   "source": [
    "## 1. Import Libraries"
   ]
  },
  {
   "cell_type": "code",
   "execution_count": 1,
   "metadata": {},
   "outputs": [],
   "source": [
    "import numpy as np\n",
    "import pandas as pd\n",
    "import spacy\n",
    "from nltk.corpus import stopwords\n",
    "import matplotlib.pyplot as plt\n",
    "\n",
    "import re"
   ]
  },
  {
   "cell_type": "markdown",
   "metadata": {},
   "source": [
    "## 2. Process data"
   ]
  },
  {
   "cell_type": "code",
   "execution_count": 2,
   "metadata": {},
   "outputs": [],
   "source": [
    "df = pd.read_csv('datasets/translated_tweets.csv', index_col= False)"
   ]
  },
  {
   "cell_type": "markdown",
   "metadata": {},
   "source": [
    "### 2.1 Check dataset"
   ]
  },
  {
   "cell_type": "code",
   "execution_count": 3,
   "metadata": {
    "scrolled": true
   },
   "outputs": [
    {
     "name": "stdout",
     "output_type": "stream",
     "text": [
      "<class 'pandas.core.frame.DataFrame'>\n",
      "RangeIndex: 3333 entries, 0 to 3332\n",
      "Data columns (total 6 columns):\n",
      " #   Column            Non-Null Count  Dtype \n",
      "---  ------            --------------  ----- \n",
      " 0   id                3333 non-null   int64 \n",
      " 1   date              3333 non-null   object\n",
      " 2   tweet             3333 non-null   object\n",
      " 3   city              3333 non-null   object\n",
      " 4   retweets          3333 non-null   int64 \n",
      " 5   translated_tweet  3333 non-null   object\n",
      "dtypes: int64(2), object(4)\n",
      "memory usage: 156.4+ KB\n"
     ]
    }
   ],
   "source": [
    "df.info()"
   ]
  },
  {
   "cell_type": "markdown",
   "metadata": {},
   "source": [
    "Check null"
   ]
  },
  {
   "cell_type": "code",
   "execution_count": 4,
   "metadata": {
    "scrolled": true
   },
   "outputs": [
    {
     "data": {
      "text/plain": [
       "id                  0\n",
       "date                0\n",
       "tweet               0\n",
       "city                0\n",
       "retweets            0\n",
       "translated_tweet    0\n",
       "dtype: int64"
      ]
     },
     "execution_count": 4,
     "metadata": {},
     "output_type": "execute_result"
    }
   ],
   "source": [
    "df.isna().sum()"
   ]
  },
  {
   "cell_type": "markdown",
   "metadata": {},
   "source": [
    "Check for duplicates"
   ]
  },
  {
   "cell_type": "code",
   "execution_count": 5,
   "metadata": {},
   "outputs": [
    {
     "data": {
      "text/html": [
       "<div>\n",
       "<style scoped>\n",
       "    .dataframe tbody tr th:only-of-type {\n",
       "        vertical-align: middle;\n",
       "    }\n",
       "\n",
       "    .dataframe tbody tr th {\n",
       "        vertical-align: top;\n",
       "    }\n",
       "\n",
       "    .dataframe thead th {\n",
       "        text-align: right;\n",
       "    }\n",
       "</style>\n",
       "<table border=\"1\" class=\"dataframe\">\n",
       "  <thead>\n",
       "    <tr style=\"text-align: right;\">\n",
       "      <th></th>\n",
       "      <th>id</th>\n",
       "      <th>date</th>\n",
       "      <th>tweet</th>\n",
       "      <th>city</th>\n",
       "      <th>retweets</th>\n",
       "      <th>translated_tweet</th>\n",
       "    </tr>\n",
       "  </thead>\n",
       "  <tbody>\n",
       "  </tbody>\n",
       "</table>\n",
       "</div>"
      ],
      "text/plain": [
       "Empty DataFrame\n",
       "Columns: [id, date, tweet, city, retweets, translated_tweet]\n",
       "Index: []"
      ]
     },
     "execution_count": 5,
     "metadata": {},
     "output_type": "execute_result"
    }
   ],
   "source": [
    "df[df.duplicated(subset='id', keep = 'first')]"
   ]
  },
  {
   "cell_type": "markdown",
   "metadata": {},
   "source": [
    "### 2.2 Transform format for modelling"
   ]
  },
  {
   "cell_type": "code",
   "execution_count": 6,
   "metadata": {},
   "outputs": [],
   "source": [
    "df_processed = df.copy()"
   ]
  },
  {
   "cell_type": "markdown",
   "metadata": {},
   "source": [
    "Transform text to lowercase"
   ]
  },
  {
   "cell_type": "code",
   "execution_count": 7,
   "metadata": {},
   "outputs": [],
   "source": [
    "df_processed['lower'] = df_processed['translated_tweet'].str.lower()\n",
    "df_processed['lower'] = df_processed['lower'].astype(str)"
   ]
  },
  {
   "cell_type": "markdown",
   "metadata": {},
   "source": [
    "Remove numbers"
   ]
  },
  {
   "cell_type": "code",
   "execution_count": 8,
   "metadata": {},
   "outputs": [],
   "source": [
    "df_processed['no_num'] = [re.sub(r'\\w*\\d\\w*','',i).strip() for i in df_processed['lower']]"
   ]
  },
  {
   "cell_type": "code",
   "execution_count": 9,
   "metadata": {},
   "outputs": [
    {
     "data": {
      "text/plain": [
       "3328    additional fact checks on the covid- vaccines ...\n",
       "3329    sharing these frequently asked questions (faqs...\n",
       "3330                this , \"may the best vaccine win\" 💉💉💉\n",
       "3331    protect yourself and your loved ones #bevaccin...\n",
       "3332    mayor marcelino teodoro and sec. vince dizon d...\n",
       "Name: no_num, dtype: object"
      ]
     },
     "execution_count": 9,
     "metadata": {},
     "output_type": "execute_result"
    }
   ],
   "source": [
    "df_processed['no_num'].tail()"
   ]
  },
  {
   "cell_type": "markdown",
   "metadata": {},
   "source": [
    "Remove punctuations"
   ]
  },
  {
   "cell_type": "code",
   "execution_count": 10,
   "metadata": {},
   "outputs": [
    {
     "name": "stderr",
     "output_type": "stream",
     "text": [
      "<ipython-input-10-03b6d98412da>:1: FutureWarning: The default value of regex will change from True to False in a future version.\n",
      "  df_processed['no_punct'] = df_processed['no_num'].str.replace('[^ \\w\\s]','')\n"
     ]
    }
   ],
   "source": [
    "df_processed['no_punct'] = df_processed['no_num'].str.replace('[^ \\w\\s]','')"
   ]
  },
  {
   "cell_type": "code",
   "execution_count": 11,
   "metadata": {
    "scrolled": true
   },
   "outputs": [
    {
     "data": {
      "text/plain": [
       "3328    additional fact checks on the covid vaccines f...\n",
       "3329    sharing these frequently asked questions faqs ...\n",
       "3330                      this  may the best vaccine win \n",
       "3331    protect yourself and your loved ones bevaccina...\n",
       "3332    mayor marcelino teodoro and sec vince dizon du...\n",
       "Name: no_punct, dtype: object"
      ]
     },
     "execution_count": 11,
     "metadata": {},
     "output_type": "execute_result"
    }
   ],
   "source": [
    "df_processed['no_punct'].tail()"
   ]
  },
  {
   "cell_type": "markdown",
   "metadata": {},
   "source": [
    "Remove stopwords"
   ]
  },
  {
   "cell_type": "code",
   "execution_count": 12,
   "metadata": {},
   "outputs": [],
   "source": [
    "nlp = spacy.load('en_core_web_lg',disable=['parser', 'ner'])\n",
    "stop = stopwords.words('english')"
   ]
  },
  {
   "cell_type": "code",
   "execution_count": 13,
   "metadata": {},
   "outputs": [],
   "source": [
    "newStopWords = ['vaccine','vax','covid','corona', 'what', 'zeneca', 'yesterday', 'years','u','ko','dun','bobo','vaccinate','vaccination',\n",
    "                'year','vaccination','vax','covidvaccine','covidvaccination','covidvax', 'covidph','coronavirus','virus',\n",
    "                'vaccineph','covidcaccine','getvaccinated','sinovac','astrazeneca', 'az', 'coronovac',\n",
    "                'novovax', 'sputnikv','pfizer', 'moderna', 'fda' 'resbakuna', 'vaccineswork', 'nasaanangbakuna','ar','bat',\n",
    "                'astrazeneca','astra zeneca','mo','eh','sa','na','aba','pa','po','ba','ni','si','via', 'gurl','s','c,''baket',\n",
    "                'yung','yun','yon','po','pong','nalang','ba','yong','ung','na','mag','kaka','pa','opo','naku','n', 'eme','ai','ka']\n",
    "stop.extend(newStopWords)"
   ]
  },
  {
   "cell_type": "code",
   "execution_count": 14,
   "metadata": {},
   "outputs": [],
   "source": [
    "df_processed['no_stopwords'] = df_processed['no_punct'].apply(lambda words: ' '.join(word.lower() for word in words.split() if word not in stop))"
   ]
  },
  {
   "cell_type": "code",
   "execution_count": 15,
   "metadata": {},
   "outputs": [
    {
     "data": {
      "text/plain": [
       "3328    additional fact checks vaccines uppgh bayaniha...\n",
       "3329    sharing frequently asked questions faqs pgh ba...\n",
       "3330                                         may best win\n",
       "3331    protect loved ones bevaccinated philippine gen...\n",
       "3332    mayor marcelino teodoro sec vince dizon simula...\n",
       "Name: no_stopwords, dtype: object"
      ]
     },
     "execution_count": 15,
     "metadata": {},
     "output_type": "execute_result"
    }
   ],
   "source": [
    "df_processed['no_stopwords'].tail()"
   ]
  },
  {
   "cell_type": "markdown",
   "metadata": {},
   "source": [
    "Tokenize"
   ]
  },
  {
   "cell_type": "code",
   "execution_count": 16,
   "metadata": {},
   "outputs": [],
   "source": [
    "df_processed['tokenized'] = df_processed['no_stopwords'].apply(lambda x: nlp(x))\n",
    "df_processed['tokenized'] = df_processed['tokenized'].apply(lambda x: [word.text for word in x])"
   ]
  },
  {
   "cell_type": "code",
   "execution_count": 17,
   "metadata": {},
   "outputs": [
    {
     "data": {
      "text/plain": [
       "3328    [additional, fact, checks, vaccines, uppgh, ba...\n",
       "3329    [sharing, frequently, asked, questions, faqs, ...\n",
       "3330                                     [may, best, win]\n",
       "3331    [protect, loved, ones, bevaccinated, philippin...\n",
       "3332    [mayor, marcelino, teodoro, sec, vince, dizon,...\n",
       "Name: tokenized, dtype: object"
      ]
     },
     "execution_count": 17,
     "metadata": {},
     "output_type": "execute_result"
    }
   ],
   "source": [
    "df_processed['tokenized'].tail()"
   ]
  },
  {
   "cell_type": "markdown",
   "metadata": {},
   "source": [
    "Combining two or three related words (bigrams or trigrams)"
   ]
  },
  {
   "cell_type": "code",
   "execution_count": 18,
   "metadata": {},
   "outputs": [],
   "source": [
    "import gensim.models"
   ]
  },
  {
   "cell_type": "code",
   "execution_count": 19,
   "metadata": {},
   "outputs": [],
   "source": [
    "# creating bigrams and trigrams\n",
    "\n",
    "bigram = gensim.models.Phrases(df_processed['tokenized'], min_count=10, threshold=100) \n",
    "trigram = gensim.models.Phrases(bigram[df_processed['tokenized']], threshold=100)"
   ]
  },
  {
   "cell_type": "code",
   "execution_count": 20,
   "metadata": {
    "scrolled": true
   },
   "outputs": [],
   "source": [
    "df_processed['bigram'] = df_processed['tokenized'].apply(lambda x: bigram[x]) \n",
    "df_processed['trigram'] = df_processed['bigram'].apply(lambda x: trigram[x])"
   ]
  },
  {
   "cell_type": "markdown",
   "metadata": {},
   "source": [
    "Joining all words before lemmatizing"
   ]
  },
  {
   "cell_type": "code",
   "execution_count": 21,
   "metadata": {},
   "outputs": [],
   "source": [
    "df_processed['joined'] = df_processed['trigram'].apply(lambda x: ' '.join(x))"
   ]
  },
  {
   "cell_type": "code",
   "execution_count": 22,
   "metadata": {},
   "outputs": [
    {
     "data": {
      "text/plain": [
       "3328    additional fact checks vaccines uppgh bayaniha...\n",
       "3329    sharing frequently asked questions faqs pgh ba...\n",
       "3330                                         may best win\n",
       "3331    protect loved ones bevaccinated philippine gen...\n",
       "3332    mayor marcelino teodoro sec vince_dizon simula...\n",
       "Name: joined, dtype: object"
      ]
     },
     "execution_count": 22,
     "metadata": {},
     "output_type": "execute_result"
    }
   ],
   "source": [
    "df_processed['joined'].tail()"
   ]
  },
  {
   "cell_type": "markdown",
   "metadata": {},
   "source": [
    "Lemmatization and filtering part of speech tagging; only getting the 'NOUN','ADJ','VERB','ADV'"
   ]
  },
  {
   "cell_type": "code",
   "execution_count": 23,
   "metadata": {},
   "outputs": [],
   "source": [
    "allowed_tag = ['NOUN', 'ADJ', 'VERB', 'ADV']\n",
    "\n",
    "df_processed['joined'] = df_processed['joined'].apply(lambda x: nlp(x))\n",
    "df_processed['lemmatized'] = df_processed['joined'].apply(lambda x: [word.lemma_ for word in x if word.pos_ in allowed_tag])"
   ]
  },
  {
   "cell_type": "code",
   "execution_count": 24,
   "metadata": {},
   "outputs": [],
   "source": [
    "df_processed['lemmatized'] = df_processed['lemmatized'].apply(lambda words: [word for word in words if word not in stop])"
   ]
  },
  {
   "cell_type": "code",
   "execution_count": 25,
   "metadata": {
    "scrolled": true
   },
   "outputs": [
    {
     "data": {
      "text/plain": [
       "3328          [additional, fact, check, bayanihan, group]\n",
       "3329    [share, frequently, ask, question, faqs, pgh, ...\n",
       "3330                                          [well, win]\n",
       "3331        [protect, love, one, bevaccinate, philippine]\n",
       "3332    [mayor, marcelino, sec, vince_dizon, simulatio...\n",
       "Name: lemmatized, dtype: object"
      ]
     },
     "execution_count": 25,
     "metadata": {},
     "output_type": "execute_result"
    }
   ],
   "source": [
    "df_processed['lemmatized'].tail()"
   ]
  },
  {
   "cell_type": "markdown",
   "metadata": {},
   "source": [
    "Ensure that only english words are included"
   ]
  },
  {
   "cell_type": "code",
   "execution_count": 26,
   "metadata": {
    "scrolled": true
   },
   "outputs": [
    {
     "name": "stderr",
     "output_type": "stream",
     "text": [
      "[nltk_data] Downloading package words to /Users/macbook/nltk_data...\n",
      "[nltk_data]   Package words is already up-to-date!\n"
     ]
    },
    {
     "data": {
      "text/plain": [
       "True"
      ]
     },
     "execution_count": 26,
     "metadata": {},
     "output_type": "execute_result"
    }
   ],
   "source": [
    "import nltk\n",
    "nltk.download('words')"
   ]
  },
  {
   "cell_type": "code",
   "execution_count": 27,
   "metadata": {},
   "outputs": [],
   "source": [
    "words = set(nltk.corpus.words.words())"
   ]
  },
  {
   "cell_type": "code",
   "execution_count": 28,
   "metadata": {},
   "outputs": [],
   "source": [
    "df_processed['no_foreign'] = df_processed['lemmatized'].apply(lambda x: [w for w in x if w in words])"
   ]
  },
  {
   "cell_type": "code",
   "execution_count": 29,
   "metadata": {},
   "outputs": [
    {
     "data": {
      "text/plain": [
       "3328                     [additional, fact, check, group]\n",
       "3329            [share, frequently, ask, question, group]\n",
       "3330                                          [well, win]\n",
       "3331                                 [protect, love, one]\n",
       "3332    [mayor, sec, simulation, exercise, facility, m...\n",
       "Name: no_foreign, dtype: object"
      ]
     },
     "execution_count": 29,
     "metadata": {},
     "output_type": "execute_result"
    }
   ],
   "source": [
    "df_processed['no_foreign'].tail()"
   ]
  },
  {
   "cell_type": "markdown",
   "metadata": {},
   "source": [
    "Collect IDs of rows with zero length for 'no_foreign' column"
   ]
  },
  {
   "cell_type": "code",
   "execution_count": 30,
   "metadata": {},
   "outputs": [],
   "source": [
    "df_processed.reset_index(inplace=True)\n",
    "df_processed.drop('index', axis=1, inplace=True)"
   ]
  },
  {
   "cell_type": "code",
   "execution_count": 31,
   "metadata": {},
   "outputs": [],
   "source": [
    "zero_len = []\n",
    "\n",
    "for i in range(0,len(df_processed.id)):\n",
    "    if len(df_processed['no_foreign'][i]) == 0:\n",
    "        zero_len.append(df_processed['id'][i])\n",
    "        "
   ]
  },
  {
   "cell_type": "markdown",
   "metadata": {},
   "source": [
    "Filter out those rows"
   ]
  },
  {
   "cell_type": "code",
   "execution_count": 32,
   "metadata": {
    "scrolled": true
   },
   "outputs": [
    {
     "data": {
      "text/plain": [
       "(3255, 16)"
      ]
     },
     "execution_count": 32,
     "metadata": {},
     "output_type": "execute_result"
    }
   ],
   "source": [
    "df_processed = df_processed[~df_processed.id.isin(zero_len)]\n",
    "df_processed.shape"
   ]
  },
  {
   "cell_type": "code",
   "execution_count": 155,
   "metadata": {},
   "outputs": [
    {
     "name": "stderr",
     "output_type": "stream",
     "text": [
      "/opt/anaconda3/lib/python3.8/site-packages/ipykernel/ipkernel.py:287: DeprecationWarning:\n",
      "\n",
      "`should_run_async` will not call `transform_cell` automatically in the future. Please pass the result to `transformed_cell` argument and any exception that happen during thetransform in `preprocessing_exc_tuple` in IPython 7.17 and above.\n",
      "\n"
     ]
    }
   ],
   "source": [
    "#df_processed.to_csv(\"datasets/tweets_processed.csv\",index=None)"
   ]
  },
  {
   "cell_type": "markdown",
   "metadata": {},
   "source": [
    "Create dictionary and corpus\n",
    "- Dictionary() implements the concept of a Dictionary – a mapping between words and their integer ids.\n",
    "- **doc2bow** - Converts document (a list of words) into the bag-of-words format = list of (token_id, token_count) 2-tuples. Each word is assumed to be a tokenized and normalized string (either unicode or utf8-encoded)"
   ]
  },
  {
   "cell_type": "code",
   "execution_count": 33,
   "metadata": {},
   "outputs": [],
   "source": [
    "from gensim.corpora import Dictionary"
   ]
  },
  {
   "cell_type": "code",
   "execution_count": 34,
   "metadata": {},
   "outputs": [],
   "source": [
    "dictionary = Dictionary(df_processed['no_foreign'])"
   ]
  },
  {
   "cell_type": "code",
   "execution_count": 35,
   "metadata": {},
   "outputs": [],
   "source": [
    "corpus =[dictionary.doc2bow(word) for word in df_processed['no_foreign']]"
   ]
  },
  {
   "cell_type": "markdown",
   "metadata": {},
   "source": [
    "# 2. Topic Modelling"
   ]
  },
  {
   "cell_type": "code",
   "execution_count": 36,
   "metadata": {},
   "outputs": [],
   "source": [
    "import gensim\n",
    "from gensim.models import CoherenceModel, LdaModel, LsiModel, HdpModel\n",
    "from gensim.models.wrappers import LdaMallet\n",
    "import pyLDAvis.gensim"
   ]
  },
  {
   "cell_type": "markdown",
   "metadata": {},
   "source": [
    "## 2.2 Latent Semantic Index (LSI)"
   ]
  },
  {
   "cell_type": "markdown",
   "metadata": {},
   "source": [
    "LSA (Latent Semantic Analysis) also known as LSI (Latent Semantic Index) LSA uses bag of word(BoW) model, which results in a term-document matrix(occurrence of terms in a document). Rows represent terms and columns represent documents. LSA learns latent topics by performing a matrix decomposition on the document-term matrix using Singular value decomposition. LSA is typically used as a dimension reduction or noise reducing technique. *Source: https://www.datacamp.com/community/tutorials/discovering-hidden-topics-python*"
   ]
  },
  {
   "cell_type": "code",
   "execution_count": 43,
   "metadata": {
    "scrolled": true
   },
   "outputs": [
    {
     "name": "stderr",
     "output_type": "stream",
     "text": [
      "/opt/anaconda3/lib/python3.8/site-packages/ipykernel/ipkernel.py:287: DeprecationWarning: `should_run_async` will not call `transform_cell` automatically in the future. Please pass the result to `transformed_cell` argument and any exception that happen during thetransform in `preprocessing_exc_tuple` in IPython 7.17 and above.\n",
      "  and should_run_async(code)\n"
     ]
    }
   ],
   "source": [
    "def compute_coherence_values_lsi(dictionary, corpus, doc_clean, stop, start, step):\n",
    "    \"\"\"\n",
    "    Input   : dictionary : Gensim dictionary\n",
    "              corpus : Gensim corpus\n",
    "              texts : List of input texts\n",
    "              stop : Max num of topics\n",
    "    purpose : Compute c_v coherence for various number of topics\n",
    "    Output  : model_list : List of LSA topic models\n",
    "              coherence_values : Coherence values corresponding to the LDA model with respective number of topics\n",
    "    \"\"\"\n",
    "    coherence_values = []\n",
    "    model_list = []\n",
    "    for num_topics in range(start, stop, step):\n",
    "        # generate LSA model\n",
    "        model = LsiModel(corpus=corpus, num_topics=num_topics, id2word = dictionary)  # train model\n",
    "        model_list.append(model)\n",
    "        coherencemodel = CoherenceModel(model=model, texts=doc_clean, dictionary=dictionary, coherence='c_v')\n",
    "        coherence_values.append(coherencemodel.get_coherence())\n",
    "    return model_list, coherence_values"
   ]
  },
  {
   "cell_type": "code",
   "execution_count": 44,
   "metadata": {
    "scrolled": true
   },
   "outputs": [
    {
     "name": "stderr",
     "output_type": "stream",
     "text": [
      "/opt/anaconda3/lib/python3.8/site-packages/ipykernel/ipkernel.py:287: DeprecationWarning: `should_run_async` will not call `transform_cell` automatically in the future. Please pass the result to `transformed_cell` argument and any exception that happen during thetransform in `preprocessing_exc_tuple` in IPython 7.17 and above.\n",
      "  and should_run_async(code)\n"
     ]
    }
   ],
   "source": [
    "def plot_graph(model_list,coherence_values,start, stop, step):\n",
    "    model_list = model_list\n",
    "    coherence_values = coherence_values\n",
    "    # Show graph\n",
    "    x = range(start, stop, step)\n",
    "    plt.plot(x, coherence_values)\n",
    "    plt.xlabel(\"Number of Topics\")\n",
    "    plt.ylabel(\"Coherence score\")\n",
    "    plt.legend((\"coherence_values\"), loc='best')\n",
    "    plt.show()"
   ]
  },
  {
   "cell_type": "markdown",
   "metadata": {},
   "source": [
    "Get LSI models and coherence values from 5 to 12 topics"
   ]
  },
  {
   "cell_type": "code",
   "execution_count": 48,
   "metadata": {
    "scrolled": true
   },
   "outputs": [
    {
     "name": "stderr",
     "output_type": "stream",
     "text": [
      "/opt/anaconda3/lib/python3.8/site-packages/ipykernel/ipkernel.py:287: DeprecationWarning: `should_run_async` will not call `transform_cell` automatically in the future. Please pass the result to `transformed_cell` argument and any exception that happen during thetransform in `preprocessing_exc_tuple` in IPython 7.17 and above.\n",
      "  and should_run_async(code)\n"
     ]
    }
   ],
   "source": [
    "import random\n",
    "random.seed(42)\n",
    "\n",
    "texts = df_processed['no_foreign']\n",
    "start,stop,step=5,12,1\n",
    "lsi_model_list, lsi_coherence_values = compute_coherence_values_lsi(dictionary, corpus,texts,stop, start, step)"
   ]
  },
  {
   "cell_type": "markdown",
   "metadata": {},
   "source": [
    "Plot coherence scores"
   ]
  },
  {
   "cell_type": "code",
   "execution_count": 49,
   "metadata": {
    "scrolled": true
   },
   "outputs": [
    {
     "name": "stderr",
     "output_type": "stream",
     "text": [
      "/opt/anaconda3/lib/python3.8/site-packages/ipykernel/ipkernel.py:287: DeprecationWarning: `should_run_async` will not call `transform_cell` automatically in the future. Please pass the result to `transformed_cell` argument and any exception that happen during thetransform in `preprocessing_exc_tuple` in IPython 7.17 and above.\n",
      "  and should_run_async(code)\n"
     ]
    },
    {
     "data": {
      "image/png": "[encoded data removed]",
      "text/plain": [
       "<Figure size 432x288 with 1 Axes>"
      ]
     },
     "metadata": {
      "needs_background": "light"
     },
     "output_type": "display_data"
    }
   ],
   "source": [
    "plot_graph(lsi_model_list ,lsi_coherence_values, start, stop, step)"
   ]
  },
  {
   "cell_type": "markdown",
   "metadata": {},
   "source": [
    "The number of topics before the graph plateaud is 7 so let's choose 7."
   ]
  },
  {
   "cell_type": "code",
   "execution_count": 54,
   "metadata": {},
   "outputs": [
    {
     "name": "stderr",
     "output_type": "stream",
     "text": [
      "/opt/anaconda3/lib/python3.8/site-packages/ipykernel/ipkernel.py:287: DeprecationWarning: `should_run_async` will not call `transform_cell` automatically in the future. Please pass the result to `transformed_cell` argument and any exception that happen during thetransform in `preprocessing_exc_tuple` in IPython 7.17 and above.\n",
      "  and should_run_async(code)\n"
     ]
    }
   ],
   "source": [
    "lsi_model = lsi_model_list[2]"
   ]
  },
  {
   "cell_type": "code",
   "execution_count": 55,
   "metadata": {},
   "outputs": [
    {
     "name": "stderr",
     "output_type": "stream",
     "text": [
      "/opt/anaconda3/lib/python3.8/site-packages/ipykernel/ipkernel.py:287: DeprecationWarning: `should_run_async` will not call `transform_cell` automatically in the future. Please pass the result to `transformed_cell` argument and any exception that happen during thetransform in `preprocessing_exc_tuple` in IPython 7.17 and above.\n",
      "  and should_run_async(code)\n"
     ]
    },
    {
     "data": {
      "text/plain": [
       "0.33073577810224347"
      ]
     },
     "execution_count": 55,
     "metadata": {},
     "output_type": "execute_result"
    }
   ],
   "source": [
    "lsi_coherence_value = lsi_coherence_values[2]\n",
    "lsi_coherence_value"
   ]
  },
  {
   "cell_type": "markdown",
   "metadata": {},
   "source": [
    "## 2.2 Latent Dirichlet Allocation (LDA)"
   ]
  },
  {
   "cell_type": "markdown",
   "metadata": {},
   "source": [
    "LDA is used to classify text in a document to a particular topic. It builds a topic per document model and words per topic model, modeled as Dirichlet distributions.\n",
    "- Each document is modeled as a multinomial distribution of topics and each topic is modeled as a multinomial distribution of words.\n",
    "- LDA assumes that the every chunk of text we feed into it will contain words that are somehow related. Therefore choosing the right corpus of data is crucial.\n",
    "- It also assumes documents are produced from a mixture of topics. Those topics then generate words based on their probability distribution.\n",
    "\n",
    "*Source: https://towardsdatascience.com/nlp-extracting-the-main-topics-from-your-dataset-using-lda-in-minutes-21486f5aa925*"
   ]
  },
  {
   "cell_type": "code",
   "execution_count": 59,
   "metadata": {
    "scrolled": false
   },
   "outputs": [
    {
     "name": "stderr",
     "output_type": "stream",
     "text": [
      "/opt/anaconda3/lib/python3.8/site-packages/ipykernel/ipkernel.py:287: DeprecationWarning: `should_run_async` will not call `transform_cell` automatically in the future. Please pass the result to `transformed_cell` argument and any exception that happen during thetransform in `preprocessing_exc_tuple` in IPython 7.17 and above.\n",
      "  and should_run_async(code)\n"
     ]
    }
   ],
   "source": [
    "def compute_coherence_values_lda(dictionary, corpus, texts, limit, start, step):\n",
    "    \"\"\"\n",
    "    Compute c_v coherence for various number of topics\n",
    "\n",
    "    Parameters:\n",
    "    ----------\n",
    "    dictionary : Gensim dictionary\n",
    "    corpus : Gensim corpus\n",
    "    texts : List of input texts\n",
    "    limit : Max num of topics\n",
    "\n",
    "    Returns:\n",
    "    -------\n",
    "    model_list : List of LDA topic models\n",
    "    coherence_values : Coherence values corresponding to the LDA model with respective number of topics\n",
    "    \"\"\"\n",
    "    coherence_values = []\n",
    "    model_list = []\n",
    "    for num_topics in range(start, limit, step):\n",
    "        model = LdaModel(corpus=corpus, num_topics=num_topics, id2word=dictionary,random_state=1)\n",
    "        model_list.append(model)\n",
    "        coherencemodel = CoherenceModel(model=model, texts=texts, dictionary=dictionary, coherence='c_v')\n",
    "        coherence_values.append(coherencemodel.get_coherence())\n",
    "\n",
    "    return model_list, coherence_values"
   ]
  },
  {
   "cell_type": "markdown",
   "metadata": {},
   "source": [
    "Get LDA models and coherence values from 5 to 12 topics"
   ]
  },
  {
   "cell_type": "code",
   "execution_count": 60,
   "metadata": {},
   "outputs": [
    {
     "name": "stderr",
     "output_type": "stream",
     "text": [
      "/opt/anaconda3/lib/python3.8/site-packages/ipykernel/ipkernel.py:287: DeprecationWarning: `should_run_async` will not call `transform_cell` automatically in the future. Please pass the result to `transformed_cell` argument and any exception that happen during thetransform in `preprocessing_exc_tuple` in IPython 7.17 and above.\n",
      "  and should_run_async(code)\n"
     ]
    }
   ],
   "source": [
    "start,stop,step=5,12,1\n",
    "lda_model_list, lda_coherence_values = compute_coherence_values_lda(dictionary, corpus,texts,stop, start, step)"
   ]
  },
  {
   "cell_type": "markdown",
   "metadata": {},
   "source": [
    "Plot coherence scores"
   ]
  },
  {
   "cell_type": "code",
   "execution_count": 61,
   "metadata": {
    "scrolled": true
   },
   "outputs": [
    {
     "name": "stderr",
     "output_type": "stream",
     "text": [
      "/opt/anaconda3/lib/python3.8/site-packages/ipykernel/ipkernel.py:287: DeprecationWarning: `should_run_async` will not call `transform_cell` automatically in the future. Please pass the result to `transformed_cell` argument and any exception that happen during thetransform in `preprocessing_exc_tuple` in IPython 7.17 and above.\n",
      "  and should_run_async(code)\n"
     ]
    },
    {
     "data": {
      "image/png": "[encoded data removed]",
      "text/plain": [
       "<Figure size 432x288 with 1 Axes>"
      ]
     },
     "metadata": {
      "needs_background": "light"
     },
     "output_type": "display_data"
    }
   ],
   "source": [
    "plot_graph(lda_model_list, lda_coherence_values, start, stop, step)"
   ]
  },
  {
   "cell_type": "markdown",
   "metadata": {},
   "source": [
    "The LDA model with 9 topics has the highest coherence score so let's choose 9."
   ]
  },
  {
   "cell_type": "code",
   "execution_count": 62,
   "metadata": {
    "scrolled": true
   },
   "outputs": [
    {
     "name": "stderr",
     "output_type": "stream",
     "text": [
      "/opt/anaconda3/lib/python3.8/site-packages/ipykernel/ipkernel.py:287: DeprecationWarning: `should_run_async` will not call `transform_cell` automatically in the future. Please pass the result to `transformed_cell` argument and any exception that happen during thetransform in `preprocessing_exc_tuple` in IPython 7.17 and above.\n",
      "  and should_run_async(code)\n"
     ]
    }
   ],
   "source": [
    "lda_model = lda_model_list[4]"
   ]
  },
  {
   "cell_type": "code",
   "execution_count": 63,
   "metadata": {},
   "outputs": [
    {
     "name": "stderr",
     "output_type": "stream",
     "text": [
      "/opt/anaconda3/lib/python3.8/site-packages/ipykernel/ipkernel.py:287: DeprecationWarning: `should_run_async` will not call `transform_cell` automatically in the future. Please pass the result to `transformed_cell` argument and any exception that happen during thetransform in `preprocessing_exc_tuple` in IPython 7.17 and above.\n",
      "  and should_run_async(code)\n"
     ]
    },
    {
     "data": {
      "text/plain": [
       "0.30241589669530866"
      ]
     },
     "execution_count": 63,
     "metadata": {},
     "output_type": "execute_result"
    }
   ],
   "source": [
    "lda_coherence_value = lda_coherence_values[4]\n",
    "lda_coherence_value"
   ]
  },
  {
   "cell_type": "markdown",
   "metadata": {},
   "source": [
    "## 2.3 Hierarchical Dirichlet Process (HDP)"
   ]
  },
  {
   "cell_type": "markdown",
   "metadata": {},
   "source": [
    "HDP is a nonparametric Bayesian approach to clustering grouped data. It uses a Dirichlet process for each group of data, with the Dirichlet processes for all groups sharing a base distribution which is itself drawn from a Dirichlet process. *Source: https://en.wikipedia.org/wiki/Hierarchical_Dirichlet_process*"
   ]
  },
  {
   "cell_type": "code",
   "execution_count": 153,
   "metadata": {},
   "outputs": [
    {
     "name": "stderr",
     "output_type": "stream",
     "text": [
      "/opt/anaconda3/lib/python3.8/site-packages/ipykernel/ipkernel.py:287: DeprecationWarning:\n",
      "\n",
      "`should_run_async` will not call `transform_cell` automatically in the future. Please pass the result to `transformed_cell` argument and any exception that happen during thetransform in `preprocessing_exc_tuple` in IPython 7.17 and above.\n",
      "\n"
     ]
    }
   ],
   "source": [
    "hdpmodel = HdpModel(corpus=corpus,id2word=dictionary, random_state=4244)"
   ]
  },
  {
   "cell_type": "code",
   "execution_count": 154,
   "metadata": {
    "scrolled": true
   },
   "outputs": [
    {
     "name": "stderr",
     "output_type": "stream",
     "text": [
      "/opt/anaconda3/lib/python3.8/site-packages/ipykernel/ipkernel.py:287: DeprecationWarning:\n",
      "\n",
      "`should_run_async` will not call `transform_cell` automatically in the future. Please pass the result to `transformed_cell` argument and any exception that happen during thetransform in `preprocessing_exc_tuple` in IPython 7.17 and above.\n",
      "\n"
     ]
    },
    {
     "data": {
      "text/plain": [
       "0.7639231930823178"
      ]
     },
     "execution_count": 154,
     "metadata": {},
     "output_type": "execute_result"
    }
   ],
   "source": [
    "hdp_coherence = CoherenceModel(model=hdpmodel,\n",
    "                             texts=texts,\n",
    "                             dictionary=dictionary).get_coherence()\n",
    "hdp_coherence"
   ]
  },
  {
   "cell_type": "markdown",
   "metadata": {},
   "source": [
    "**Why not HDP if it has a high coherence score?**\n",
    "\n",
    "HDP is supposed to give the number of optimal topics, but in gensim (python library used for LSI, LDA, and HDP) it automatically creates 150 topics. [This thread from stackoverflow](https://stackoverflow.com/questions/31543542/hierarchical-dirichlet-process-gensim-topic-number-independent-of-corpus-size) mentions a technique of looking at the alpha vector of topics but it wasn’t specified how to use the alpha vector to determine the optimal number of topics. [There’s this other thread](https://gensim.narkive.com/CsjEw3ob/gensim-9520-having-hdp-ldp-determine-number-of-topics) asking the same thing but no answer was given.\n",
    "\n",
    "Since gensim’s HDP is too complex to use (at least for our current level of expertise or the lack of it), LDA Mallet was chosen instead. But there’s an [article from Towards Data Science](https://towardsdatascience.com/dont-be-afraid-of-nonparametric-topic-models-part-2-python-e5666db347a) mentioning another Python library (tomotopy) that can be used for HDP, that’s something that could be explored in the future."
   ]
  },
  {
   "cell_type": "markdown",
   "metadata": {},
   "source": [
    "## 2.4 LDA Mallet"
   ]
  },
  {
   "cell_type": "markdown",
   "metadata": {},
   "source": [
    "Mallet, an open source toolkit, was written by Andrew McCullum. It is basically a Java based package which is used for NLP, document classification, clustering, topic modeling, and many other machine learning applications to text. It provides us the Mallet Topic Modeling toolkit which contains efficient, sampling-based implementations of LDA as well as Hierarchical LDA. \n",
    "\n",
    "Python provides Gensim wrapper for Latent Dirichlet Allocation (LDA). The syntax of that wrapper is gensim.models.wrappers.LdaMallet. This module, collapsed gibbs sampling from MALLET, allows LDA model estimation from a training corpus and inference of topic distribution on new, unseen documents as well.\n",
    "\n",
    "Download Mallet file here: http://mallet.cs.umass.edu/dist/mallet-2.0.8.zip"
   ]
  },
  {
   "cell_type": "code",
   "execution_count": 64,
   "metadata": {},
   "outputs": [
    {
     "name": "stderr",
     "output_type": "stream",
     "text": [
      "/opt/anaconda3/lib/python3.8/site-packages/ipykernel/ipkernel.py:287: DeprecationWarning: `should_run_async` will not call `transform_cell` automatically in the future. Please pass the result to `transformed_cell` argument and any exception that happen during thetransform in `preprocessing_exc_tuple` in IPython 7.17 and above.\n",
      "  and should_run_async(code)\n"
     ]
    }
   ],
   "source": [
    "import os\n",
    "os.environ.update({'MALLET_HOME':r'*/mallet-2.0.8'}) \n",
    "mallet_path = 'mallet-2.0.8/bin/mallet'\n"
   ]
  },
  {
   "cell_type": "code",
   "execution_count": 65,
   "metadata": {
    "scrolled": true
   },
   "outputs": [
    {
     "name": "stderr",
     "output_type": "stream",
     "text": [
      "/opt/anaconda3/lib/python3.8/site-packages/ipykernel/ipkernel.py:287: DeprecationWarning: `should_run_async` will not call `transform_cell` automatically in the future. Please pass the result to `transformed_cell` argument and any exception that happen during thetransform in `preprocessing_exc_tuple` in IPython 7.17 and above.\n",
      "  and should_run_async(code)\n"
     ]
    }
   ],
   "source": [
    "def compute_coherence_values_lda_mallet(dictionary, corpus, texts, limit, start, step):\n",
    "    \"\"\"\n",
    "    Compute c_v coherence for various number of topics\n",
    "\n",
    "    Parameters:\n",
    "    ----------\n",
    "    dictionary : Gensim dictionary\n",
    "    corpus : Gensim corpus\n",
    "    texts : List of input texts\n",
    "    limit : Max num of topics\n",
    "\n",
    "    Returns:\n",
    "    -------\n",
    "    model_list : List of LDA topic models\n",
    "    coherence_values : Coherence values corresponding to the LDA model with respective number of topics\n",
    "    \"\"\"\n",
    "    coherence_values = []\n",
    "    model_list = []\n",
    "    for num_topics in range(start, limit, step):\n",
    "        model = LdaMallet(mallet_path, corpus=corpus, num_topics=num_topics, id2word=dictionary,random_seed=1)\n",
    "        model_list.append(model)\n",
    "        coherencemodel = CoherenceModel(model=model, texts=texts, dictionary=dictionary, coherence='c_v')\n",
    "        coherence_values.append(coherencemodel.get_coherence())\n",
    "\n",
    "    return model_list, coherence_values"
   ]
  },
  {
   "cell_type": "markdown",
   "metadata": {},
   "source": [
    "Get LDA Mallet models and coherence values from 5 to 12 topics"
   ]
  },
  {
   "cell_type": "code",
   "execution_count": 67,
   "metadata": {
    "scrolled": true
   },
   "outputs": [
    {
     "name": "stderr",
     "output_type": "stream",
     "text": [
      "/opt/anaconda3/lib/python3.8/site-packages/ipykernel/ipkernel.py:287: DeprecationWarning: `should_run_async` will not call `transform_cell` automatically in the future. Please pass the result to `transformed_cell` argument and any exception that happen during thetransform in `preprocessing_exc_tuple` in IPython 7.17 and above.\n",
      "  and should_run_async(code)\n"
     ]
    }
   ],
   "source": [
    "start,stop,step=5,12,1\n",
    "mallet_model_list, mallet_coherence_values = compute_coherence_values_lda_mallet(dictionary, corpus,texts,stop, start, step)"
   ]
  },
  {
   "cell_type": "markdown",
   "metadata": {},
   "source": [
    "Plot coherence scores"
   ]
  },
  {
   "cell_type": "code",
   "execution_count": 68,
   "metadata": {
    "scrolled": true
   },
   "outputs": [
    {
     "name": "stderr",
     "output_type": "stream",
     "text": [
      "/opt/anaconda3/lib/python3.8/site-packages/ipykernel/ipkernel.py:287: DeprecationWarning: `should_run_async` will not call `transform_cell` automatically in the future. Please pass the result to `transformed_cell` argument and any exception that happen during thetransform in `preprocessing_exc_tuple` in IPython 7.17 and above.\n",
      "  and should_run_async(code)\n"
     ]
    },
    {
     "data": {
      "image/png": "[encoded data removed]",
      "text/plain": [
       "<Figure size 432x288 with 1 Axes>"
      ]
     },
     "metadata": {
      "needs_background": "light"
     },
     "output_type": "display_data"
    }
   ],
   "source": [
    "plot_graph(mallet_model_list, mallet_coherence_values, start, stop, step)"
   ]
  },
  {
   "cell_type": "markdown",
   "metadata": {},
   "source": [
    "Take 10 as the number of topics"
   ]
  },
  {
   "cell_type": "code",
   "execution_count": 69,
   "metadata": {},
   "outputs": [
    {
     "name": "stderr",
     "output_type": "stream",
     "text": [
      "/opt/anaconda3/lib/python3.8/site-packages/ipykernel/ipkernel.py:287: DeprecationWarning: `should_run_async` will not call `transform_cell` automatically in the future. Please pass the result to `transformed_cell` argument and any exception that happen during thetransform in `preprocessing_exc_tuple` in IPython 7.17 and above.\n",
      "  and should_run_async(code)\n"
     ]
    }
   ],
   "source": [
    "lda_mallet = mallet_model_list[5]"
   ]
  },
  {
   "cell_type": "code",
   "execution_count": 71,
   "metadata": {},
   "outputs": [
    {
     "name": "stderr",
     "output_type": "stream",
     "text": [
      "/opt/anaconda3/lib/python3.8/site-packages/ipykernel/ipkernel.py:287: DeprecationWarning: `should_run_async` will not call `transform_cell` automatically in the future. Please pass the result to `transformed_cell` argument and any exception that happen during thetransform in `preprocessing_exc_tuple` in IPython 7.17 and above.\n",
      "  and should_run_async(code)\n"
     ]
    },
    {
     "data": {
      "text/plain": [
       "0.39223001767879034"
      ]
     },
     "execution_count": 71,
     "metadata": {},
     "output_type": "execute_result"
    }
   ],
   "source": [
    "mallet_coherence_score = mallet_coherence_values[5]\n",
    "mallet_coherence_score"
   ]
  },
  {
   "cell_type": "markdown",
   "metadata": {},
   "source": [
    "Convert LDA Mallet to LDA before visualizing through pyLDAvis"
   ]
  },
  {
   "cell_type": "code",
   "execution_count": 74,
   "metadata": {},
   "outputs": [
    {
     "name": "stderr",
     "output_type": "stream",
     "text": [
      "/opt/anaconda3/lib/python3.8/site-packages/ipykernel/ipkernel.py:287: DeprecationWarning: `should_run_async` will not call `transform_cell` automatically in the future. Please pass the result to `transformed_cell` argument and any exception that happen during thetransform in `preprocessing_exc_tuple` in IPython 7.17 and above.\n",
      "  and should_run_async(code)\n"
     ]
    }
   ],
   "source": [
    "def ldaMalletConvertToldaGen(mallet_model):\n",
    "    model_gensim = LdaModel(id2word=mallet_model.id2word, num_topics=mallet_model.num_topics, alpha=mallet_model.alpha, eta=0, gamma_threshold=0.001, dtype=np.float32)\n",
    "    model_gensim.state.sstats[...] = mallet_model.wordtopics\n",
    "    model_gensim.sync_state()\n",
    "    return model_gensim\n",
    "\n",
    "ldamallet_model = ldaMalletConvertToldaGen(lda_mallet)"
   ]
  },
  {
   "cell_type": "code",
   "execution_count": 75,
   "metadata": {
    "scrolled": true
   },
   "outputs": [
    {
     "name": "stderr",
     "output_type": "stream",
     "text": [
      "/opt/anaconda3/lib/python3.8/site-packages/ipykernel/ipkernel.py:287: DeprecationWarning: `should_run_async` will not call `transform_cell` automatically in the future. Please pass the result to `transformed_cell` argument and any exception that happen during thetransform in `preprocessing_exc_tuple` in IPython 7.17 and above.\n",
      "  and should_run_async(code)\n"
     ]
    },
    {
     "data": {
      "text/html": [
       "\n",
       "<link rel=\"stylesheet\" type=\"text/css\" href=\"https://cdn.jsdelivr.net/gh/bmabey/pyLDAvis@3.2.2/pyLDAvis/js/ldavis.v1.0.0.css\">\n",
       "\n",
       "\n",
       "<div id=\"ldavis_el12726764659872297972194\"></div>\n",
       "<script type=\"text/javascript\">\n",
       "\n",
       "var ldavis_el12726764659872297972194_data = {\"mdsDat\": {\"x\": [-0.08083094866086248, -0.06781298935013949, 0.28592281815704784, -0.05630646179564701, 0.2746871127874334, -0.09619523771622189, -0.03536109804612134, -0.24357887945107412, 0.0088519334289174, 0.010623750646667787], \"y\": [-0.22124333567148247, 0.10664460803794722, -0.12220747603528823, 0.23173094366593153, -0.011224933158048353, -0.15446544089840947, 0.029145881942557895, -0.09847081467393268, -0.032451704242697985, 0.27254227103342266], \"topics\": [1, 2, 3, 4, 5, 6, 7, 8, 9, 10], \"cluster\": [1, 1, 1, 1, 1, 1, 1, 1, 1, 1], \"Freq\": [10.10481633026786, 10.101583264945628, 10.056950323240358, 10.029047725960094, 9.987605511508054, 9.969888584361179, 9.955657266547856, 9.947007932959826, 9.937374032791734, 9.910069027417412]}, \"tinfo\": {\"Term\": [\"government\", \"people\", \"give\", \"country\", \"good\", \"make\", \"dose\", \"inject\", \"china\", \"hope\", \"work\", \"time\", \"incur\", \"plot\", \"joke\", \"information\", \"connection\", \"preparation\", \"episode\", \"thinking\", \"public\", \"medical\", \"protect\", \"launch\", \"official\", \"unregistered\", \"risk\", \"law\", \"unreliable\", \"day\", \"relieve\", \"province\", \"successive\", \"unresolved\", \"floor\", \"evaluation\", \"frame\", \"fiasco\", \"efficacy\", \"effective\", \"case\", \"high\", \"low\", \"datum\", \"show\", \"result\", \"trial\", \"safety\", \"clown\", \"life\", \"leave\", \"killing\", \"explanation\", \"failure\", \"toxic\", \"realize\", \"sale\", \"beneficiary\", \"people\", \"world\", \"trust\", \"expert\", \"live\", \"problem\", \"follow\", \"face\", \"bring\", \"wait\", \"doctor\", \"lot\", \"plan\", \"mayor\", \"char\", \"country\", \"annoy\", \"luck\", \"return\", \"mind\", \"situation\", \"czar\", \"measure\", \"program\", \"lack\", \"variant\", \"surge\", \"procurement\", \"science\", \"area\", \"focus\", \"lead\", \"china\", \"push\", \"procure\", \"grandmother\", \"angry\", \"deduction\", \"government\", \"half\", \"salary\", \"tax\", \"national\", \"step\", \"budget\", \"fund\", \"percent\", \"make\", \"company\", \"order\", \"early\", \"god\", \"rampant\", \"normal\", \"modern\", \"render\", \"nice\", \"profile\", \"effect\", \"deadline\", \"health\", \"start\", \"expensive\", \"feel\", \"hospital\", \"end\", \"test\", \"expect\", \"prefer\", \"today\", \"brand\", \"receive\", \"choose\", \"cost\", \"person\", \"eye\", \"agree\", \"fortunate\", \"uncle\", \"fend\", \"playful\", \"pass\", \"inject\", \"base\", \"priority\", \"price\", \"choice\", \"die\", \"ill\", \"question\", \"leader\", \"good\", \"cover\", \"regard\", \"hear\", \"father\", \"foolish\", \"animal\", \"meter\", \"sew\", \"bash\", \"give\", \"pandemic\", \"care\", \"move\", \"friend\", \"hope\", \"issue\", \"safe\", \"news\", \"stupid\", \"big\", \"money\", \"owe\", \"indigent\", \"pay\", \"free\", \"hall\", \"rape\", \"statement\", \"check\", \"smuggle\", \"donate\", \"purchase\", \"provide\", \"roque\", \"buy\", \"arrive\", \"long\", \"city\", \"sec\", \"secure\", \"global\", \"dose\", \"regulatory\", \"para\", \"register\", \"approve\", \"formal\", \"incomplete\", \"town\", \"president\", \"local\", \"supply\", \"deal\", \"arrival\", \"approval\", \"march\"], \"Freq\": [324.0, 307.0, 269.0, 258.0, 228.0, 200.0, 176.0, 173.0, 167.0, 165.0, 111.4507136844282, 156.53189760189096, 1.2522552213132814, 5.0090208852531255, 6.261275769081792, 22.540593308669838, 5.0090208852531255, 10.018041770506251, 2.5045104426265627, 11.270296654334919, 128.98228880772183, 87.65786481696047, 65.11726745847527, 61.36050213202003, 55.099228387845926, 52.594719970127045, 51.342463061390696, 50.09020615265434, 2.4559688052398903, 99.46673973294942, 1.2279844026199451, 8.595891071372092, 2.4559688052398903, 1.2279844026199451, 1.2279844026199451, 7.367906247031353, 2.4559688052398903, 2.4559688052398903, 157.18200353535298, 125.25440619953301, 124.02643082173803, 83.50294106503944, 67.53914239712945, 60.1712361500981, 58.943249976250826, 57.7152692004297, 50.34736295339835, 77.3630155938292, 3.764991475514146, 56.47487213271219, 18.82495737757073, 3.764991475514146, 11.294974426542439, 20.0799549839234, 3.764991475514146, 11.294974426542439, 5.01998874598085, 1.2549971864952125, 306.2193138407178, 76.55482846017945, 64.00485508374048, 61.494862558122875, 57.729871082608724, 47.689890231787366, 46.434896656066286, 40.1599099678468, 28.864935541304362, 121.7347261663492, 48.9448891816839, 51.45488170730151, 87.84980288672189, 76.26090508056127, 14.218135481373375, 258.51154446267043, 5.170231023235034, 3.8776730999492433, 9.047903788230213, 9.047903788230213, 27.143712704506896, 60.75021134094804, 24.558596188027188, 138.30368003901418, 55.57998366725365, 51.702308892534084, 41.36184818588027, 40.06928992764042, 34.89905957431351, 28.43627096274675, 54.28742540901379, 38.77673166940056, 167.68567276861137, 42.83940539339941, 57.52719794478477, 3.6719488049862616, 15.911778154940468, 2.447965869990841, 324.3554884480252, 14.687795219945047, 4.895931739981682, 19.58372695992673, 101.59058360461991, 42.83940539339941, 39.16745391985346, 37.94347098485804, 31.823556309880935, 197.06126320850146, 94.2466859946474, 66.09507848975271, 63.50602095021534, 23.65910584419787, 1.245216097063046, 17.43302535888264, 8.71651267944132, 3.7356482911891375, 8.71651267944132, 4.980864388252184, 29.8851863295131, 1.245216097063046, 129.50247409455676, 89.6555589885393, 68.48688533846753, 67.24166924140448, 58.52515656196316, 54.78950827077402, 49.808643882521835, 42.33734730014356, 36.11126681482833, 67.24166924140448, 61.01558875608925, 88.41034289147626, 95.03699076722133, 63.357999164861276, 31.678999582430638, 8.870119776679637, 35.48047910671855, 7.602959713581706, 5.068639919888785, 2.5343199599443924, 1.2671599799721962, 19.007398951451325, 173.6009133492813, 77.29675653390912, 68.42663675722947, 65.89231530102185, 65.89231530102185, 43.083438155294374, 34.21331837861474, 88.70119776679637, 69.69379748533329, 228.24475668424085, 16.576434813294448, 33.152869626588895, 33.152869626588895, 8.925772745103503, 3.8253313663095394, 12.751104111413042, 3.8253313663095394, 1.2751104277520076, 1.2751104277520076, 266.4980849647552, 81.60706737612848, 51.00441644565217, 45.90397373800194, 36.978202986182836, 163.21413475225697, 104.55905690284199, 90.53284078566011, 81.60706737612848, 38.253312334239126, 54.801686574460334, 83.44802346251146, 3.7364788111090106, 1.2454929370363368, 46.0832366789906, 80.95703626086954, 4.981971748145347, 13.700421643615083, 37.36478678352086, 33.62830863619647, 83.44802346251146, 56.04718017528129, 48.574223880632516, 44.837743078169645, 38.61028038434182, 110.84886674974163, 92.1664733579812, 78.4660543695046, 62.274642869109115, 58.53816737692321, 44.24565936302188, 34.132366248247095, 176.98263745208752, 44.24565936302188, 6.320808858694974, 45.509821664329465, 102.39709609689835, 7.584970498041821, 3.7924852490209107, 5.056646888367759, 80.90635021388414, 64.47224824041439, 54.3589551256396, 54.3589551256396, 51.83063052302444, 128.94449648082878, 46.77398131779411], \"Total\": [324.0, 307.0, 269.0, 258.0, 228.0, 200.0, 176.0, 173.0, 167.0, 165.0, 111.4507136844282, 156.53189760189096, 1.2522552213132814, 5.0090208852531255, 6.261275769081792, 22.540593308669838, 5.0090208852531255, 10.018041770506251, 2.5045104426265627, 11.270296654334919, 128.98228880772183, 87.65786481696047, 65.11726745847527, 61.36050213202003, 55.099228387845926, 52.594719970127045, 51.342463061390696, 50.09020615265434, 2.4559688052398903, 99.46673973294942, 1.2279844026199451, 8.595891071372092, 2.4559688052398903, 1.2279844026199451, 1.2279844026199451, 7.367906247031353, 2.4559688052398903, 2.4559688052398903, 157.18200353535298, 125.25440619953301, 124.02643082173803, 83.50294106503944, 67.53914239712945, 60.1712361500981, 58.943249976250826, 57.7152692004297, 50.34736295339835, 78.58699852882462, 3.764991475514146, 56.47487213271219, 18.82495737757073, 3.764991475514146, 11.294974426542439, 20.0799549839234, 3.764991475514146, 11.294974426542439, 5.01998874598085, 1.2549971864952125, 307.4648067777541, 76.55482846017945, 64.00485508374048, 61.494862558122875, 57.729871082608724, 47.689890231787366, 46.434896656066286, 40.1599099678468, 28.864935541304362, 126.71101548052393, 50.16887211667932, 53.90284757729235, 120.89734213159824, 76.26090508056127, 14.218135481373375, 258.51154446267043, 5.170231023235034, 3.8776730999492433, 9.047903788230213, 9.047903788230213, 27.143712704506896, 60.75021134094804, 24.558596188027188, 138.30368003901418, 55.57998366725365, 51.702308892534084, 41.36184818588027, 40.06928992764042, 34.89905957431351, 28.43627096274675, 58.007555936345625, 47.493244348841884, 167.68567276861137, 42.83940539339941, 57.52719794478477, 3.6719488049862616, 15.911778154940468, 2.447965869990841, 324.3554884480252, 14.687795219945047, 4.895931739981682, 19.58372695992673, 101.59058360461991, 42.83940539339941, 39.16745391985346, 37.94347098485804, 31.823556309880935, 200.79774201961047, 95.49217893168372, 81.60577088954969, 63.50602095021534, 23.65910584419787, 1.245216097063046, 17.43302535888264, 8.71651267944132, 3.7356482911891375, 8.71651267944132, 4.980864388252184, 29.8851863295131, 1.245216097063046, 129.50247409455676, 89.6555589885393, 68.48688533846753, 67.24166924140448, 58.52515656196316, 54.78950827077402, 49.808643882521835, 42.33734730014356, 36.11126681482833, 68.4656521763999, 62.23957169108467, 99.61977866101867, 95.03699076722133, 63.357999164861276, 31.678999582430638, 8.870119776679637, 35.48047910671855, 7.602959713581706, 5.068639919888785, 2.5343199599443924, 1.2671599799721962, 19.007398951451325, 173.6009133492813, 77.29675653390912, 68.42663675722947, 65.89231530102185, 65.89231530102185, 43.083438155294374, 34.21331837861474, 89.92518070179179, 72.18478335940597, 228.24475668424085, 16.576434813294448, 33.152869626588895, 33.152869626588895, 8.925772745103503, 3.8253313663095394, 12.751104111413042, 3.8253313663095394, 1.2751104277520076, 1.2751104277520076, 269.02640840893906, 81.60706737612848, 51.00441644565217, 45.90397373800194, 36.978202986182836, 165.79925026387448, 105.85161465865075, 93.06716074560451, 85.34271566731762, 39.49852843130217, 54.801686574460334, 83.44802346251146, 3.7364788111090106, 1.2454929370363368, 46.0832366789906, 80.95703626086954, 4.981971748145347, 13.700421643615083, 37.36478678352086, 33.62830863619647, 83.44802346251146, 56.04718017528129, 48.574223880632516, 44.837743078169645, 38.61028038434182, 112.09408284680468, 93.4336333379534, 86.06019076637524, 65.94659167409537, 62.29493304086306, 44.24565936302188, 34.132366248247095, 176.98263745208752, 44.24565936302188, 6.320808858694974, 45.509821664329465, 102.39709609689835, 7.584970498041821, 3.7924852490209107, 5.056646888367759, 80.90635021388414, 64.47224824041439, 54.3589551256396, 54.3589551256396, 51.83063052302444, 130.1684794158242, 48.01947425483045], \"Category\": [\"Default\", \"Default\", \"Default\", \"Default\", \"Default\", \"Default\", \"Default\", \"Default\", \"Default\", \"Default\", \"Topic1\", \"Topic1\", \"Topic1\", \"Topic1\", \"Topic1\", \"Topic1\", \"Topic1\", \"Topic1\", \"Topic1\", \"Topic1\", \"Topic1\", \"Topic1\", \"Topic1\", \"Topic1\", \"Topic1\", \"Topic1\", \"Topic1\", \"Topic1\", \"Topic2\", \"Topic2\", \"Topic2\", \"Topic2\", \"Topic2\", \"Topic2\", \"Topic2\", \"Topic2\", \"Topic2\", \"Topic2\", \"Topic2\", \"Topic2\", \"Topic2\", \"Topic2\", \"Topic2\", \"Topic2\", \"Topic2\", \"Topic2\", \"Topic2\", \"Topic2\", \"Topic3\", \"Topic3\", \"Topic3\", \"Topic3\", \"Topic3\", \"Topic3\", \"Topic3\", \"Topic3\", \"Topic3\", \"Topic3\", \"Topic3\", \"Topic3\", \"Topic3\", \"Topic3\", \"Topic3\", \"Topic3\", \"Topic3\", \"Topic3\", \"Topic3\", \"Topic3\", \"Topic3\", \"Topic3\", \"Topic3\", \"Topic4\", \"Topic4\", \"Topic4\", \"Topic4\", \"Topic4\", \"Topic4\", \"Topic4\", \"Topic4\", \"Topic4\", \"Topic4\", \"Topic4\", \"Topic4\", \"Topic4\", \"Topic4\", \"Topic4\", \"Topic4\", \"Topic4\", \"Topic4\", \"Topic4\", \"Topic5\", \"Topic5\", \"Topic5\", \"Topic5\", \"Topic5\", \"Topic5\", \"Topic5\", \"Topic5\", \"Topic5\", \"Topic5\", \"Topic5\", \"Topic5\", \"Topic5\", \"Topic5\", \"Topic5\", \"Topic5\", \"Topic5\", \"Topic5\", \"Topic6\", \"Topic6\", \"Topic6\", \"Topic6\", \"Topic6\", \"Topic6\", \"Topic6\", \"Topic6\", \"Topic6\", \"Topic6\", \"Topic6\", \"Topic6\", \"Topic6\", \"Topic6\", \"Topic6\", \"Topic6\", \"Topic6\", \"Topic6\", \"Topic6\", \"Topic6\", \"Topic6\", \"Topic6\", \"Topic7\", \"Topic7\", \"Topic7\", \"Topic7\", \"Topic7\", \"Topic7\", \"Topic7\", \"Topic7\", \"Topic7\", \"Topic7\", \"Topic7\", \"Topic7\", \"Topic7\", \"Topic7\", \"Topic7\", \"Topic7\", \"Topic7\", \"Topic7\", \"Topic7\", \"Topic8\", \"Topic8\", \"Topic8\", \"Topic8\", \"Topic8\", \"Topic8\", \"Topic8\", \"Topic8\", \"Topic8\", \"Topic8\", \"Topic8\", \"Topic8\", \"Topic8\", \"Topic8\", \"Topic8\", \"Topic8\", \"Topic8\", \"Topic8\", \"Topic8\", \"Topic8\", \"Topic9\", \"Topic9\", \"Topic9\", \"Topic9\", \"Topic9\", \"Topic9\", \"Topic9\", \"Topic9\", \"Topic9\", \"Topic9\", \"Topic9\", \"Topic9\", \"Topic9\", \"Topic9\", \"Topic9\", \"Topic9\", \"Topic9\", \"Topic9\", \"Topic9\", \"Topic9\", \"Topic10\", \"Topic10\", \"Topic10\", \"Topic10\", \"Topic10\", \"Topic10\", \"Topic10\", \"Topic10\", \"Topic10\", \"Topic10\", \"Topic10\", \"Topic10\", \"Topic10\", \"Topic10\", \"Topic10\", \"Topic10\", \"Topic10\"], \"logprob\": [10.0, 9.0, 8.0, 7.0, 6.0, 5.0, 4.0, 3.0, 2.0, 1.0, -3.2585, -2.9189, -7.7472, -6.3609, -6.1377, -4.8568, -6.3609, -5.6677, -7.054, -5.5499, -3.1124, -3.4987, -3.7959, -3.8553, -3.963, -4.0095, -4.0336, -4.0583, -7.0733, -3.372, -7.7664, -5.8205, -7.0733, -7.7664, -7.7664, -5.9747, -7.0733, -7.0733, -2.9144, -3.1414, -3.1513, -3.5469, -3.7591, -3.8746, -3.8952, -3.9163, -4.0528, -3.6233, -6.6416, -3.9336, -5.0322, -6.6416, -5.543, -4.9676, -6.6416, -5.543, -6.3539, -7.7402, -2.2431, -3.6294, -3.8084, -3.8484, -3.9116, -4.1026, -4.1293, -4.2745, -4.6047, -3.1655, -4.0767, -4.0267, -3.4917, -3.6304, -5.3101, -2.4096, -6.3217, -6.6093, -5.7621, -5.7621, -4.6634, -3.8578, -4.7635, -3.0351, -3.9468, -4.0191, -4.2422, -4.274, -4.4121, -4.6169, -3.9703, -4.3068, -2.8384, -4.203, -3.9082, -6.6597, -5.1934, -7.0652, -2.1786, -5.2734, -6.372, -4.9857, -3.3395, -4.203, -4.2926, -4.3243, -4.5002, -2.6769, -3.4145, -3.7693, -3.8075, -4.7949, -7.7394, -5.1003, -5.7934, -6.6407, -5.7934, -6.3531, -4.5613, -7.7394, -3.095, -3.4627, -3.732, -3.7504, -3.8892, -3.9552, -4.0505, -4.213, -4.3721, -3.7504, -3.8475, -3.4767, -3.403, -3.8084, -4.5016, -5.7746, -4.3883, -5.9287, -6.3342, -7.0273, -7.7205, -5.0124, -2.8005, -3.6096, -3.7315, -3.7692, -3.7692, -4.1941, -4.4246, -3.472, -3.7131, -2.526, -5.1484, -4.4552, -4.4552, -5.7674, -6.6147, -5.4108, -6.6147, -7.7133, -7.7133, -2.371, -3.5545, -4.0245, -4.1298, -4.346, -2.8613, -3.3066, -3.4507, -3.5545, -4.3121, -3.9517, -3.5312, -6.6373, -7.7359, -4.125, -3.5615, -6.3496, -5.338, -4.3347, -4.44, -3.5312, -3.9292, -4.0723, -4.1524, -4.3019, -3.2472, -3.4318, -3.5927, -3.8238, -3.8857, -4.1629, -4.4224, -2.7766, -4.1629, -6.1088, -4.1347, -3.3238, -5.9265, -6.6196, -6.3319, -3.5594, -3.7864, -3.957, -3.957, -4.0047, -3.0933, -4.1073], \"loglift\": [10.0, 9.0, 8.0, 7.0, 6.0, 5.0, 4.0, 3.0, 2.0, 1.0, 2.2922, 2.2922, 2.2922, 2.2922, 2.2922, 2.2922, 2.2922, 2.2922, 2.2922, 2.2922, 2.2922, 2.2922, 2.2922, 2.2922, 2.2922, 2.2922, 2.2922, 2.2922, 2.2925, 2.2925, 2.2925, 2.2925, 2.2925, 2.2925, 2.2925, 2.2925, 2.2925, 2.2925, 2.2925, 2.2925, 2.2925, 2.2925, 2.2925, 2.2925, 2.2925, 2.2925, 2.2925, 2.2768, 2.2969, 2.2969, 2.2969, 2.2969, 2.2969, 2.2969, 2.2969, 2.2969, 2.2969, 2.2969, 2.2928, 2.2969, 2.2969, 2.2969, 2.2969, 2.2969, 2.2969, 2.2969, 2.2969, 2.2568, 2.2722, 2.2504, 1.9776, 2.2997, 2.2997, 2.2997, 2.2997, 2.2997, 2.2997, 2.2997, 2.2997, 2.2997, 2.2997, 2.2997, 2.2997, 2.2997, 2.2997, 2.2997, 2.2997, 2.2997, 2.2334, 2.0969, 2.3038, 2.3038, 2.3038, 2.3038, 2.3038, 2.3038, 2.3038, 2.3038, 2.3038, 2.3038, 2.3038, 2.3038, 2.3038, 2.3038, 2.3038, 2.285, 2.2907, 2.093, 2.3056, 2.3056, 2.3056, 2.3056, 2.3056, 2.3056, 2.3056, 2.3056, 2.3056, 2.3056, 2.3056, 2.3056, 2.3056, 2.3056, 2.3056, 2.3056, 2.3056, 2.3056, 2.3056, 2.2876, 2.2857, 2.1862, 2.307, 2.307, 2.307, 2.307, 2.307, 2.307, 2.307, 2.307, 2.307, 2.307, 2.307, 2.307, 2.307, 2.307, 2.307, 2.307, 2.307, 2.2933, 2.2719, 2.3079, 2.3079, 2.3079, 2.3079, 2.3079, 2.3079, 2.3079, 2.3079, 2.3079, 2.3079, 2.2985, 2.3079, 2.3079, 2.3079, 2.3079, 2.2922, 2.2956, 2.2803, 2.2631, 2.2759, 2.3089, 2.3089, 2.3089, 2.3089, 2.3089, 2.3089, 2.3089, 2.3089, 2.3089, 2.3089, 2.3089, 2.3089, 2.3089, 2.3089, 2.3089, 2.2977, 2.2952, 2.2165, 2.2516, 2.2467, 2.3116, 2.3116, 2.3116, 2.3116, 2.3116, 2.3116, 2.3116, 2.3116, 2.3116, 2.3116, 2.3116, 2.3116, 2.3116, 2.3116, 2.3116, 2.3022, 2.2853]}, \"token.table\": {\"Topic\": [7, 5, 8, 4, 5, 10, 10, 4, 10, 7, 9, 7, 8, 3, 9, 5, 6, 3, 5, 6, 9, 8, 2, 4, 9, 5, 7, 7, 5, 9, 3, 5, 9, 1, 7, 4, 8, 4, 2, 2, 6, 10, 5, 7, 3, 5, 9, 10, 6, 6, 2, 2, 6, 1, 2, 6, 6, 3, 3, 7, 3, 3, 8, 6, 7, 2, 2, 2, 4, 10, 3, 8, 10, 7, 2, 9, 8, 5, 8, 10, 10, 6, 8, 5, 5, 5, 9, 6, 8, 2, 4, 8, 6, 7, 10, 1, 9, 1, 7, 4, 8, 1, 3, 4, 1, 1, 4, 6, 7, 9, 3, 3, 3, 10, 1, 4, 9, 3, 5, 2, 4, 5, 9, 9, 10, 4, 4, 1, 8, 4, 6, 9, 8, 5, 6, 8, 6, 6, 1, 4, 5, 9, 8, 10, 7, 9, 3, 9, 5, 7, 3, 5, 7, 1, 6, 1, 10, 7, 7, 3, 5, 4, 6, 4, 1, 9, 2, 1, 9, 5, 5, 7, 6, 9, 3, 6, 9, 8, 10, 10, 2, 6, 2, 4, 1, 9, 7, 8, 2, 5, 5, 3, 4, 1, 9, 10, 8, 2, 4, 9, 6, 9, 5, 6, 8, 2, 10, 4, 5, 6, 1, 1, 5, 6, 10, 3, 2, 3, 7, 1, 2, 2, 4, 3, 5, 10, 1, 3], \"Freq\": [0.9864579307039976, 1.005544436592848, 1.0195195558292227, 0.9670747743243938, 0.0076823513994159235, 0.9910233305246542, 0.9961219984546966, 0.984657940440985, 1.0032677487282413, 0.01070278404333221, 0.9846561319865633, 0.9961608151853185, 0.7842458019600534, 0.7968145353318804, 1.0036187467564563, 0.016066948612103674, 0.9800838653383241, 1.004679187954616, 0.9957246667042461, 0.008921077496719138, 0.9902396021358243, 0.9999134105248145, 0.9997868936357927, 0.984657940440985, 1.0110529306669753, 1.001874502610741, 1.0016342527726672, 0.9996107750579779, 0.06065514378313579, 0.9401547286386046, 1.062419404137897, 0.9843738099980811, 0.010472061808490224, 0.998199072142086, 0.9943495822219742, 1.0018894921630863, 1.0255522488084017, 1.0041117331699485, 0.9971541859357692, 0.9953075798583272, 0.8030734603885943, 0.9933965778994472, 0.817004854731689, 0.9980633357302261, 0.9767012478582171, 0.019932678527718715, 0.999158206083986, 1.000098103114308, 1.0077784600954909, 1.0038418254857429, 0.9979688842312842, 0.998842084136483, 1.0038418254857429, 1.1978388865705032, 0.9500663777881826, 0.9920319216564988, 0.9928908237531711, 0.9919527821099665, 0.9738844537930721, 1.0146424430098262, 0.9960181691648505, 0.9960181691648505, 1.0083160592383686, 0.9964059601117744, 1.1837495057513674, 0.8143425908883428, 0.8143425908883428, 0.034478266972576686, 0.9309132082595705, 0.017239133486288343, 0.9906342710464615, 1.0456610465772462, 1.054717352172342, 1.0522218058986992, 0.8143425908883428, 1.0005306980234803, 1.000589455734918, 1.0014898219291672, 0.988750515509471, 0.011151321603490276, 0.9961219726964025, 1.0144085815434876, 0.9989276569249761, 0.9989040159310202, 1.0893398063089188, 1.0212560684146113, 1.0036186981311896, 1.003841825485743, 0.9953889473728605, 1.0059525919521015, 0.01809417108476311, 0.9831166289387956, 1.0081134928282354, 0.993765048562256, 1.054717352172342, 0.7985592577136688, 0.8028949585049516, 1.0203813043001606, 1.0022988741419565, 0.009447187019534753, 0.9919546370511492, 0.9582711609074985, 1.062419404137897, 1.0075569711438006, 0.9941248503598554, 0.998199125945311, 0.8211694217716885, 0.18950063579346657, 0.9697334637893419, 0.027706670393981198, 1.009298433931002, 0.991591443862037, 1.004679187954616, 0.9926751702739853, 0.058098871911326976, 0.034859323146796184, 0.9063424018167009, 0.9461466748462611, 0.037103791170441616, 1.0068235631444757, 1.0315464704985982, 0.9810867294551571, 0.01992054273005395, 0.020824884393635494, 0.9787695665008682, 0.9965787833191114, 1.0179734952516546, 1.0039030745701363, 1.0456610465772462, 0.9947055373983388, 1.0325230204996214, 0.9946311075574759, 1.0020918943215273, 1.0040300624413527, 0.04686984669661524, 0.9608318572806123, 1.0325230204996214, 0.9751606304718646, 0.9981990965980966, 0.19606456535598926, 0.8087663320934556, 1.0705266113399354, 1.0048149337613186, 0.9492456003864654, 0.9996107330902969, 0.9981937753294019, 0.9952358554687759, 0.003252404756433908, 1.005544436592848, 1.0101329089239104, 0.7278902782181177, 0.2729588543317941, 0.7891663371675783, 0.998199072142086, 0.9969187784134274, 0.998199072142086, 1.001157508475766, 1.0016342527726672, 0.993765048562256, 1.0065026312014016, 1.0082187569029355, 0.9982707473038442, 1.0038418254857429, 0.9978042519264236, 0.9981991342227305, 1.0036187575620716, 1.047011871750418, 1.0001373149169694, 1.0087654744708592, 1.0037487590018075, 0.01112035574680891, 0.989711661465993, 0.8030734603885943, 1.0218663603338465, 0.9738844537930721, 0.8833587183469069, 0.11041983979336337, 0.9953889473728605, 1.0107708252360552, 0.9944478313453006, 0.8143425908883428, 1.070764613851459, 1.0049333703804015, 0.9947055373983388, 0.9933298279636251, 1.0100936748394147, 0.0322347858897338, 0.9777885053219254, 0.9798058386433662, 0.012724751151212549, 1.0212560684146113, 0.9960181691648505, 1.0028923537458523, 0.06421067982168237, 0.947107527369815, 0.9944478313453006, 0.7842458019600534, 1.000962790883978, 0.9947054882995783, 0.9946311075574759, 1.003841825485743, 0.9902371506725218, 1.0037487590018075, 0.02531739889346132, 0.9620611579515301, 0.8143425908883428, 0.9933965778994472, 0.9912516436825036, 1.0212560684146113, 1.0038418254857429, 0.976016899765371, 1.0029904601252555, 0.01460586393632134, 0.9785928837335298, 0.9887975392353244, 1.062419404137897, 0.9931006723486219, 0.9999241450709617, 0.9864579214594729, 1.007705717039717, 0.8143425908883428, 0.8143425908883428, 1.0057577913606273, 0.9628207897895978, 0.015783947373599963, 0.023675921060399945, 0.9959559372073257, 1.005815068086164], \"Term\": [\"agree\", \"angry\", \"animal\", \"annoy\", \"approval\", \"approval\", \"approve\", \"area\", \"arrival\", \"arrive\", \"arrive\", \"base\", \"bash\", \"beneficiary\", \"big\", \"brand\", \"brand\", \"bring\", \"budget\", \"buy\", \"buy\", \"care\", \"case\", \"char\", \"check\", \"china\", \"choice\", \"choose\", \"city\", \"city\", \"clown\", \"company\", \"company\", \"connection\", \"cost\", \"country\", \"cover\", \"czar\", \"datum\", \"day\", \"deadline\", \"deal\", \"deduction\", \"die\", \"doctor\", \"doctor\", \"donate\", \"dose\", \"early\", \"effect\", \"effective\", \"efficacy\", \"end\", \"episode\", \"evaluation\", \"expect\", \"expensive\", \"expert\", \"explanation\", \"eye\", \"face\", \"failure\", \"father\", \"feel\", \"fend\", \"fiasco\", \"floor\", \"focus\", \"focus\", \"focus\", \"follow\", \"foolish\", \"formal\", \"fortunate\", \"frame\", \"free\", \"friend\", \"fund\", \"give\", \"give\", \"global\", \"god\", \"good\", \"government\", \"grandmother\", \"half\", \"hall\", \"health\", \"hear\", \"high\", \"hope\", \"hope\", \"hospital\", \"ill\", \"incomplete\", \"incur\", \"indigent\", \"information\", \"inject\", \"issue\", \"issue\", \"joke\", \"killing\", \"lack\", \"launch\", \"law\", \"lead\", \"lead\", \"leader\", \"leader\", \"leave\", \"life\", \"live\", \"local\", \"long\", \"long\", \"long\", \"lot\", \"lot\", \"low\", \"luck\", \"make\", \"make\", \"march\", \"march\", \"mayor\", \"measure\", \"medical\", \"meter\", \"mind\", \"modern\", \"money\", \"move\", \"national\", \"news\", \"news\", \"nice\", \"normal\", \"official\", \"order\", \"order\", \"owe\", \"pandemic\", \"para\", \"pass\", \"pay\", \"people\", \"people\", \"percent\", \"person\", \"plan\", \"plan\", \"playful\", \"plot\", \"prefer\", \"preparation\", \"president\", \"price\", \"priority\", \"problem\", \"procure\", \"procurement\", \"profile\", \"program\", \"protect\", \"provide\", \"province\", \"public\", \"purchase\", \"push\", \"question\", \"question\", \"rampant\", \"rape\", \"realize\", \"receive\", \"receive\", \"regard\", \"register\", \"regulatory\", \"relieve\", \"render\", \"result\", \"return\", \"risk\", \"roque\", \"safe\", \"safe\", \"safety\", \"safety\", \"salary\", \"sale\", \"science\", \"sec\", \"sec\", \"secure\", \"sew\", \"show\", \"situation\", \"smuggle\", \"start\", \"statement\", \"step\", \"stupid\", \"stupid\", \"successive\", \"supply\", \"surge\", \"tax\", \"test\", \"thinking\", \"time\", \"today\", \"today\", \"town\", \"toxic\", \"trial\", \"trust\", \"uncle\", \"unregistered\", \"unreliable\", \"unresolved\", \"variant\", \"wait\", \"wait\", \"wait\", \"work\", \"world\"]}, \"R\": 10, \"lambda.step\": 0.01, \"plot.opts\": {\"xlab\": \"PC1\", \"ylab\": \"PC2\"}, \"topic.order\": [9, 4, 7, 6, 10, 2, 5, 1, 8, 3]};\n",
       "\n",
       "function LDAvis_load_lib(url, callback){\n",
       "  var s = document.createElement('script');\n",
       "  s.src = url;\n",
       "  s.async = true;\n",
       "  s.onreadystatechange = s.onload = callback;\n",
       "  s.onerror = function(){console.warn(\"failed to load library \" + url);};\n",
       "  document.getElementsByTagName(\"head\")[0].appendChild(s);\n",
       "}\n",
       "\n",
       "if(typeof(LDAvis) !== \"undefined\"){\n",
       "   // already loaded: just create the visualization\n",
       "   !function(LDAvis){\n",
       "       new LDAvis(\"#\" + \"ldavis_el12726764659872297972194\", ldavis_el12726764659872297972194_data);\n",
       "   }(LDAvis);\n",
       "}else if(typeof define === \"function\" && define.amd){\n",
       "   // require.js is available: use it to load d3/LDAvis\n",
       "   require.config({paths: {d3: \"https://d3js.org/d3.v5\"}});\n",
       "   require([\"d3\"], function(d3){\n",
       "      window.d3 = d3;\n",
       "      LDAvis_load_lib(\"https://cdn.jsdelivr.net/gh/bmabey/pyLDAvis@3.2.2/pyLDAvis/js/ldavis.v3.0.0.js\", function(){\n",
       "        new LDAvis(\"#\" + \"ldavis_el12726764659872297972194\", ldavis_el12726764659872297972194_data);\n",
       "      });\n",
       "    });\n",
       "}else{\n",
       "    // require.js not available: dynamically load d3 & LDAvis\n",
       "    LDAvis_load_lib(\"https://d3js.org/d3.v5.js\", function(){\n",
       "         LDAvis_load_lib(\"https://cdn.jsdelivr.net/gh/bmabey/pyLDAvis@3.2.2/pyLDAvis/js/ldavis.v3.0.0.js\", function(){\n",
       "                 new LDAvis(\"#\" + \"ldavis_el12726764659872297972194\", ldavis_el12726764659872297972194_data);\n",
       "            })\n",
       "         });\n",
       "}\n",
       "</script>"
      ],
      "text/plain": [
       "PreparedData(topic_coordinates=              x         y  topics  cluster       Freq\n",
       "topic                                                \n",
       "8     -0.080831 -0.221243       1        1  10.104816\n",
       "3     -0.067813  0.106645       2        1  10.101583\n",
       "6      0.285923 -0.122207       3        1  10.056950\n",
       "5     -0.056306  0.231731       4        1  10.029048\n",
       "9      0.274687 -0.011225       5        1   9.987606\n",
       "1     -0.096195 -0.154465       6        1   9.969889\n",
       "4     -0.035361  0.029146       7        1   9.955657\n",
       "0     -0.243579 -0.098471       8        1   9.947008\n",
       "7      0.008852 -0.032452       9        1   9.937374\n",
       "2      0.010624  0.272542      10        1   9.910069, topic_info=           Term        Freq       Total Category  logprob  loglift\n",
       "37   government  324.000000  324.000000  Default  10.0000  10.0000\n",
       "352      people  307.000000  307.000000  Default   9.0000   9.0000\n",
       "26         give  269.000000  269.000000  Default   8.0000   8.0000\n",
       "108     country  258.000000  258.000000  Default   7.0000   7.0000\n",
       "8          good  228.000000  228.000000  Default   6.0000   6.0000\n",
       "..          ...         ...         ...      ...      ...      ...\n",
       "372      supply   54.358955   54.358955  Topic10  -3.9570   2.3116\n",
       "775        deal   54.358955   54.358955  Topic10  -3.9570   2.3116\n",
       "366     arrival   51.830631   51.830631  Topic10  -4.0047   2.3116\n",
       "335    approval  128.944496  130.168479  Topic10  -3.0933   2.3022\n",
       "973       march   46.773981   48.019474  Topic10  -4.1073   2.2853\n",
       "\n",
       "[206 rows x 6 columns], token_table=      Topic      Freq      Term\n",
       "term                           \n",
       "24        7  0.986458     agree\n",
       "32        5  1.005544     angry\n",
       "167       8  1.019520    animal\n",
       "118       4  0.967075     annoy\n",
       "335       5  0.007682  approval\n",
       "...     ...       ...       ...\n",
       "63        3  0.962821      wait\n",
       "63        5  0.015784      wait\n",
       "63       10  0.023676      wait\n",
       "23        1  0.995956      work\n",
       "517       3  1.005815     world\n",
       "\n",
       "[228 rows x 3 columns], R=10, lambda_step=0.01, plot_opts={'xlab': 'PC1', 'ylab': 'PC2'}, topic_order=[9, 4, 7, 6, 10, 2, 5, 1, 8, 3])"
      ]
     },
     "execution_count": 75,
     "metadata": {},
     "output_type": "execute_result"
    }
   ],
   "source": [
    "pyLDAvis.enable_notebook()\n",
    "pyLDAvis.gensim.prepare(ldamallet_model, corpus, dictionary, R = 10,sort_topics=True)"
   ]
  },
  {
   "cell_type": "markdown",
   "metadata": {},
   "source": [
    "Save pyLDAvis as an html (optional)"
   ]
  },
  {
   "cell_type": "code",
   "execution_count": 63,
   "metadata": {},
   "outputs": [
    {
     "name": "stderr",
     "output_type": "stream",
     "text": [
      "/opt/anaconda3/lib/python3.8/site-packages/ipykernel/ipkernel.py:287: DeprecationWarning: `should_run_async` will not call `transform_cell` automatically in the future. Please pass the result to `transformed_cell` argument and any exception that happen during thetransform in `preprocessing_exc_tuple` in IPython 7.17 and above.\n",
      "  and should_run_async(code)\n"
     ]
    }
   ],
   "source": [
    "p = pyLDAvis.gensim.prepare(ldamallet_model, corpus, dictionary, R = 10)\n",
    "pyLDAvis.save_html(p,'ldamallet.html')"
   ]
  },
  {
   "cell_type": "markdown",
   "metadata": {},
   "source": [
    "###  2.4.1 Getting documents from the model"
   ]
  },
  {
   "cell_type": "markdown",
   "metadata": {},
   "source": [
    "Assigning topics to tweets.\n",
    "\n",
    "*Source: https://www.machinelearningplus.com/nlp/topic-modeling-gensim-python/?fbclid=IwAR3WeOhcFZNPaeiqRu23qhVWms6ogHB3gA7YsJaDKT0XD5IlkudaVP-8Bz8#2prerequisitesdownloadnltkstopwordsandspacymodelforlemmatization*"
   ]
  },
  {
   "cell_type": "code",
   "execution_count": 105,
   "metadata": {},
   "outputs": [
    {
     "name": "stderr",
     "output_type": "stream",
     "text": [
      "/opt/anaconda3/lib/python3.8/site-packages/ipykernel/ipkernel.py:287: DeprecationWarning: `should_run_async` will not call `transform_cell` automatically in the future. Please pass the result to `transformed_cell` argument and any exception that happen during thetransform in `preprocessing_exc_tuple` in IPython 7.17 and above.\n",
      "  and should_run_async(code)\n"
     ]
    }
   ],
   "source": [
    "sent_topics_df = pd.DataFrame()\n",
    "\n",
    "    # Get main topic in each document\n",
    "for i, row in enumerate(ldamallet_model[corpus]):\n",
    "    row = sorted(row, key=lambda x: (x[1]), reverse=True)\n",
    "        # Get the Dominant topic, Perc Contribution and Keywords for each document\n",
    "    for j, (topic_num, prop_topic) in enumerate(row):\n",
    "        if j == 0:  # => dominant topic\n",
    "            wp = ldamallet_model.show_topic(topic_num, topn=10)\n",
    "            topic_keywords = \", \".join([word for word, prop in wp])\n",
    "            sent_topics_df = sent_topics_df.append(pd.Series([int(topic_num), round(prop_topic,4), topic_keywords]), ignore_index=True)\n",
    "        else:\n",
    "            break\n",
    "        \n",
    "sent_topics_df.columns = ['Dominant_Topic', 'Perc_Contribution', 'Topic_Keywords']"
   ]
  },
  {
   "cell_type": "code",
   "execution_count": 106,
   "metadata": {
    "scrolled": false
   },
   "outputs": [
    {
     "name": "stderr",
     "output_type": "stream",
     "text": [
      "/opt/anaconda3/lib/python3.8/site-packages/ipykernel/ipkernel.py:287: DeprecationWarning: `should_run_async` will not call `transform_cell` automatically in the future. Please pass the result to `transformed_cell` argument and any exception that happen during thetransform in `preprocessing_exc_tuple` in IPython 7.17 and above.\n",
      "  and should_run_async(code)\n"
     ]
    },
    {
     "data": {
      "text/html": [
       "<div>\n",
       "<style scoped>\n",
       "    .dataframe tbody tr th:only-of-type {\n",
       "        vertical-align: middle;\n",
       "    }\n",
       "\n",
       "    .dataframe tbody tr th {\n",
       "        vertical-align: top;\n",
       "    }\n",
       "\n",
       "    .dataframe thead th {\n",
       "        text-align: right;\n",
       "    }\n",
       "</style>\n",
       "<table border=\"1\" class=\"dataframe\">\n",
       "  <thead>\n",
       "    <tr style=\"text-align: right;\">\n",
       "      <th></th>\n",
       "      <th>Dominant_Topic</th>\n",
       "      <th>Perc_Contribution</th>\n",
       "      <th>Topic_Keywords</th>\n",
       "    </tr>\n",
       "  </thead>\n",
       "  <tbody>\n",
       "    <tr>\n",
       "      <th>0</th>\n",
       "      <td>9.0</td>\n",
       "      <td>0.1296</td>\n",
       "      <td>government, make, china, national, company, or...</td>\n",
       "    </tr>\n",
       "    <tr>\n",
       "      <th>1</th>\n",
       "      <td>0.0</td>\n",
       "      <td>0.1319</td>\n",
       "      <td>give, good, hope, issue, safe, news, pandemic,...</td>\n",
       "    </tr>\n",
       "    <tr>\n",
       "      <th>2</th>\n",
       "      <td>9.0</td>\n",
       "      <td>0.1111</td>\n",
       "      <td>government, make, china, national, company, or...</td>\n",
       "    </tr>\n",
       "    <tr>\n",
       "      <th>3</th>\n",
       "      <td>7.0</td>\n",
       "      <td>0.1231</td>\n",
       "      <td>buy, arrive, smuggle, money, free, long, city,...</td>\n",
       "    </tr>\n",
       "    <tr>\n",
       "      <th>4</th>\n",
       "      <td>8.0</td>\n",
       "      <td>0.1154</td>\n",
       "      <td>time, public, work, medical, protect, launch, ...</td>\n",
       "    </tr>\n",
       "  </tbody>\n",
       "</table>\n",
       "</div>"
      ],
      "text/plain": [
       "   Dominant_Topic  Perc_Contribution  \\\n",
       "0             9.0             0.1296   \n",
       "1             0.0             0.1319   \n",
       "2             9.0             0.1111   \n",
       "3             7.0             0.1231   \n",
       "4             8.0             0.1154   \n",
       "\n",
       "                                      Topic_Keywords  \n",
       "0  government, make, china, national, company, or...  \n",
       "1  give, good, hope, issue, safe, news, pandemic,...  \n",
       "2  government, make, china, national, company, or...  \n",
       "3  buy, arrive, smuggle, money, free, long, city,...  \n",
       "4  time, public, work, medical, protect, launch, ...  "
      ]
     },
     "execution_count": 106,
     "metadata": {},
     "output_type": "execute_result"
    }
   ],
   "source": [
    "sent_topics_df.head()"
   ]
  },
  {
   "cell_type": "code",
   "execution_count": 107,
   "metadata": {
    "scrolled": false
   },
   "outputs": [
    {
     "name": "stderr",
     "output_type": "stream",
     "text": [
      "/opt/anaconda3/lib/python3.8/site-packages/ipykernel/ipkernel.py:287: DeprecationWarning: `should_run_async` will not call `transform_cell` automatically in the future. Please pass the result to `transformed_cell` argument and any exception that happen during thetransform in `preprocessing_exc_tuple` in IPython 7.17 and above.\n",
      "  and should_run_async(code)\n"
     ]
    },
    {
     "data": {
      "text/plain": [
       "(3255, 3)"
      ]
     },
     "execution_count": 107,
     "metadata": {},
     "output_type": "execute_result"
    }
   ],
   "source": [
    "sent_topics_df.shape"
   ]
  },
  {
   "cell_type": "code",
   "execution_count": 108,
   "metadata": {
    "scrolled": true
   },
   "outputs": [
    {
     "name": "stderr",
     "output_type": "stream",
     "text": [
      "/opt/anaconda3/lib/python3.8/site-packages/ipykernel/ipkernel.py:287: DeprecationWarning: `should_run_async` will not call `transform_cell` automatically in the future. Please pass the result to `transformed_cell` argument and any exception that happen during thetransform in `preprocessing_exc_tuple` in IPython 7.17 and above.\n",
      "  and should_run_async(code)\n"
     ]
    }
   ],
   "source": [
    "df_cut = df_processed[['id','tweet','retweets','translated_tweet']]"
   ]
  },
  {
   "cell_type": "code",
   "execution_count": 109,
   "metadata": {
    "scrolled": true
   },
   "outputs": [
    {
     "name": "stderr",
     "output_type": "stream",
     "text": [
      "/opt/anaconda3/lib/python3.8/site-packages/ipykernel/ipkernel.py:287: DeprecationWarning: `should_run_async` will not call `transform_cell` automatically in the future. Please pass the result to `transformed_cell` argument and any exception that happen during thetransform in `preprocessing_exc_tuple` in IPython 7.17 and above.\n",
      "  and should_run_async(code)\n"
     ]
    },
    {
     "data": {
      "text/plain": [
       "(3255, 4)"
      ]
     },
     "execution_count": 109,
     "metadata": {},
     "output_type": "execute_result"
    }
   ],
   "source": [
    "df_cut.shape"
   ]
  },
  {
   "cell_type": "code",
   "execution_count": 110,
   "metadata": {
    "scrolled": true
   },
   "outputs": [
    {
     "name": "stderr",
     "output_type": "stream",
     "text": [
      "/opt/anaconda3/lib/python3.8/site-packages/ipykernel/ipkernel.py:287: DeprecationWarning: `should_run_async` will not call `transform_cell` automatically in the future. Please pass the result to `transformed_cell` argument and any exception that happen during thetransform in `preprocessing_exc_tuple` in IPython 7.17 and above.\n",
      "  and should_run_async(code)\n"
     ]
    }
   ],
   "source": [
    "sent_topics_df.reset_index(inplace=True)\n",
    "df_cut.reset_index(inplace=True)"
   ]
  },
  {
   "cell_type": "code",
   "execution_count": 111,
   "metadata": {},
   "outputs": [
    {
     "name": "stderr",
     "output_type": "stream",
     "text": [
      "/opt/anaconda3/lib/python3.8/site-packages/ipykernel/ipkernel.py:287: DeprecationWarning: `should_run_async` will not call `transform_cell` automatically in the future. Please pass the result to `transformed_cell` argument and any exception that happen during thetransform in `preprocessing_exc_tuple` in IPython 7.17 and above.\n",
      "  and should_run_async(code)\n"
     ]
    },
    {
     "data": {
      "text/html": [
       "<div>\n",
       "<style scoped>\n",
       "    .dataframe tbody tr th:only-of-type {\n",
       "        vertical-align: middle;\n",
       "    }\n",
       "\n",
       "    .dataframe tbody tr th {\n",
       "        vertical-align: top;\n",
       "    }\n",
       "\n",
       "    .dataframe thead th {\n",
       "        text-align: right;\n",
       "    }\n",
       "</style>\n",
       "<table border=\"1\" class=\"dataframe\">\n",
       "  <thead>\n",
       "    <tr style=\"text-align: right;\">\n",
       "      <th></th>\n",
       "      <th>index</th>\n",
       "      <th>Dominant_Topic</th>\n",
       "      <th>Perc_Contribution</th>\n",
       "      <th>Topic_Keywords</th>\n",
       "    </tr>\n",
       "  </thead>\n",
       "  <tbody>\n",
       "    <tr>\n",
       "      <th>3250</th>\n",
       "      <td>3250</td>\n",
       "      <td>7.0</td>\n",
       "      <td>0.1111</td>\n",
       "      <td>buy, arrive, smuggle, money, free, long, city,...</td>\n",
       "    </tr>\n",
       "    <tr>\n",
       "      <th>3251</th>\n",
       "      <td>3251</td>\n",
       "      <td>6.0</td>\n",
       "      <td>0.1111</td>\n",
       "      <td>people, wait, plan, world, trust, expert, live...</td>\n",
       "    </tr>\n",
       "    <tr>\n",
       "      <th>3252</th>\n",
       "      <td>3252</td>\n",
       "      <td>1.0</td>\n",
       "      <td>0.1145</td>\n",
       "      <td>health, start, receive, expensive, today, feel...</td>\n",
       "    </tr>\n",
       "    <tr>\n",
       "      <th>3253</th>\n",
       "      <td>3253</td>\n",
       "      <td>8.0</td>\n",
       "      <td>0.1154</td>\n",
       "      <td>time, public, work, medical, protect, launch, ...</td>\n",
       "    </tr>\n",
       "    <tr>\n",
       "      <th>3254</th>\n",
       "      <td>3254</td>\n",
       "      <td>7.0</td>\n",
       "      <td>0.1779</td>\n",
       "      <td>buy, arrive, smuggle, money, free, long, city,...</td>\n",
       "    </tr>\n",
       "  </tbody>\n",
       "</table>\n",
       "</div>"
      ],
      "text/plain": [
       "      index  Dominant_Topic  Perc_Contribution  \\\n",
       "3250   3250             7.0             0.1111   \n",
       "3251   3251             6.0             0.1111   \n",
       "3252   3252             1.0             0.1145   \n",
       "3253   3253             8.0             0.1154   \n",
       "3254   3254             7.0             0.1779   \n",
       "\n",
       "                                         Topic_Keywords  \n",
       "3250  buy, arrive, smuggle, money, free, long, city,...  \n",
       "3251  people, wait, plan, world, trust, expert, live...  \n",
       "3252  health, start, receive, expensive, today, feel...  \n",
       "3253  time, public, work, medical, protect, launch, ...  \n",
       "3254  buy, arrive, smuggle, money, free, long, city,...  "
      ]
     },
     "execution_count": 111,
     "metadata": {},
     "output_type": "execute_result"
    }
   ],
   "source": [
    "sent_topics_df.tail()"
   ]
  },
  {
   "cell_type": "code",
   "execution_count": 112,
   "metadata": {},
   "outputs": [
    {
     "name": "stderr",
     "output_type": "stream",
     "text": [
      "/opt/anaconda3/lib/python3.8/site-packages/ipykernel/ipkernel.py:287: DeprecationWarning: `should_run_async` will not call `transform_cell` automatically in the future. Please pass the result to `transformed_cell` argument and any exception that happen during thetransform in `preprocessing_exc_tuple` in IPython 7.17 and above.\n",
      "  and should_run_async(code)\n"
     ]
    },
    {
     "data": {
      "text/html": [
       "<div>\n",
       "<style scoped>\n",
       "    .dataframe tbody tr th:only-of-type {\n",
       "        vertical-align: middle;\n",
       "    }\n",
       "\n",
       "    .dataframe tbody tr th {\n",
       "        vertical-align: top;\n",
       "    }\n",
       "\n",
       "    .dataframe thead th {\n",
       "        text-align: right;\n",
       "    }\n",
       "</style>\n",
       "<table border=\"1\" class=\"dataframe\">\n",
       "  <thead>\n",
       "    <tr style=\"text-align: right;\">\n",
       "      <th></th>\n",
       "      <th>index</th>\n",
       "      <th>id</th>\n",
       "      <th>tweet</th>\n",
       "      <th>retweets</th>\n",
       "      <th>translated_tweet</th>\n",
       "    </tr>\n",
       "  </thead>\n",
       "  <tbody>\n",
       "    <tr>\n",
       "      <th>3250</th>\n",
       "      <td>3328</td>\n",
       "      <td>1352566721417154304</td>\n",
       "      <td>additional fact checks on the covid-19 vaccine...</td>\n",
       "      <td>6</td>\n",
       "      <td>additional fact checks on the covid-19 vaccine...</td>\n",
       "    </tr>\n",
       "    <tr>\n",
       "      <th>3251</th>\n",
       "      <td>3329</td>\n",
       "      <td>1350723862258806784</td>\n",
       "      <td>sharing these frequently asked questions (faqs...</td>\n",
       "      <td>6</td>\n",
       "      <td>sharing these frequently asked questions (faqs...</td>\n",
       "    </tr>\n",
       "    <tr>\n",
       "      <th>3252</th>\n",
       "      <td>3330</td>\n",
       "      <td>1344961259217686528</td>\n",
       "      <td>this 2021, \"may the best vaccine win\" 💉💉💉</td>\n",
       "      <td>6</td>\n",
       "      <td>this 2021, \"may the best vaccine win\" 💉💉💉</td>\n",
       "    </tr>\n",
       "    <tr>\n",
       "      <th>3253</th>\n",
       "      <td>3331</td>\n",
       "      <td>1368866497540591616</td>\n",
       "      <td>protect yourself and your loved ones #bevaccin...</td>\n",
       "      <td>6</td>\n",
       "      <td>protect yourself and your loved ones #bevaccin...</td>\n",
       "    </tr>\n",
       "    <tr>\n",
       "      <th>3254</th>\n",
       "      <td>3332</td>\n",
       "      <td>1356878859644383232</td>\n",
       "      <td>mayor marcelino teodoro and sec. vince dizon d...</td>\n",
       "      <td>4</td>\n",
       "      <td>mayor marcelino teodoro and sec. vince dizon d...</td>\n",
       "    </tr>\n",
       "  </tbody>\n",
       "</table>\n",
       "</div>"
      ],
      "text/plain": [
       "      index                   id  \\\n",
       "3250   3328  1352566721417154304   \n",
       "3251   3329  1350723862258806784   \n",
       "3252   3330  1344961259217686528   \n",
       "3253   3331  1368866497540591616   \n",
       "3254   3332  1356878859644383232   \n",
       "\n",
       "                                                  tweet  retweets  \\\n",
       "3250  additional fact checks on the covid-19 vaccine...         6   \n",
       "3251  sharing these frequently asked questions (faqs...         6   \n",
       "3252          this 2021, \"may the best vaccine win\" 💉💉💉         6   \n",
       "3253  protect yourself and your loved ones #bevaccin...         6   \n",
       "3254  mayor marcelino teodoro and sec. vince dizon d...         4   \n",
       "\n",
       "                                       translated_tweet  \n",
       "3250  additional fact checks on the covid-19 vaccine...  \n",
       "3251  sharing these frequently asked questions (faqs...  \n",
       "3252          this 2021, \"may the best vaccine win\" 💉💉💉  \n",
       "3253  protect yourself and your loved ones #bevaccin...  \n",
       "3254  mayor marcelino teodoro and sec. vince dizon d...  "
      ]
     },
     "execution_count": 112,
     "metadata": {},
     "output_type": "execute_result"
    }
   ],
   "source": [
    "df_cut.tail()"
   ]
  },
  {
   "cell_type": "code",
   "execution_count": 113,
   "metadata": {
    "scrolled": true
   },
   "outputs": [
    {
     "name": "stderr",
     "output_type": "stream",
     "text": [
      "/opt/anaconda3/lib/python3.8/site-packages/ipykernel/ipkernel.py:287: DeprecationWarning: `should_run_async` will not call `transform_cell` automatically in the future. Please pass the result to `transformed_cell` argument and any exception that happen during thetransform in `preprocessing_exc_tuple` in IPython 7.17 and above.\n",
      "  and should_run_async(code)\n"
     ]
    }
   ],
   "source": [
    "df_merged = pd.merge(df_cut, sent_topics_df, how='right', right_on='index', left_index=True)"
   ]
  },
  {
   "cell_type": "code",
   "execution_count": 114,
   "metadata": {
    "scrolled": true
   },
   "outputs": [
    {
     "name": "stderr",
     "output_type": "stream",
     "text": [
      "/opt/anaconda3/lib/python3.8/site-packages/ipykernel/ipkernel.py:287: DeprecationWarning: `should_run_async` will not call `transform_cell` automatically in the future. Please pass the result to `transformed_cell` argument and any exception that happen during thetransform in `preprocessing_exc_tuple` in IPython 7.17 and above.\n",
      "  and should_run_async(code)\n"
     ]
    },
    {
     "data": {
      "text/plain": [
       "(3255, 10)"
      ]
     },
     "execution_count": 114,
     "metadata": {},
     "output_type": "execute_result"
    }
   ],
   "source": [
    "df_merged.shape"
   ]
  },
  {
   "cell_type": "code",
   "execution_count": 115,
   "metadata": {
    "scrolled": true
   },
   "outputs": [
    {
     "name": "stderr",
     "output_type": "stream",
     "text": [
      "/opt/anaconda3/lib/python3.8/site-packages/ipykernel/ipkernel.py:287: DeprecationWarning: `should_run_async` will not call `transform_cell` automatically in the future. Please pass the result to `transformed_cell` argument and any exception that happen during thetransform in `preprocessing_exc_tuple` in IPython 7.17 and above.\n",
      "  and should_run_async(code)\n"
     ]
    },
    {
     "data": {
      "text/plain": [
       "index                0\n",
       "index_x              0\n",
       "id                   0\n",
       "tweet                0\n",
       "retweets             0\n",
       "translated_tweet     0\n",
       "index_y              0\n",
       "Dominant_Topic       0\n",
       "Perc_Contribution    0\n",
       "Topic_Keywords       0\n",
       "dtype: int64"
      ]
     },
     "execution_count": 115,
     "metadata": {},
     "output_type": "execute_result"
    }
   ],
   "source": [
    "df_merged.isna().sum()"
   ]
  },
  {
   "cell_type": "code",
   "execution_count": 116,
   "metadata": {
    "scrolled": true
   },
   "outputs": [
    {
     "name": "stderr",
     "output_type": "stream",
     "text": [
      "/opt/anaconda3/lib/python3.8/site-packages/ipykernel/ipkernel.py:287: DeprecationWarning: `should_run_async` will not call `transform_cell` automatically in the future. Please pass the result to `transformed_cell` argument and any exception that happen during thetransform in `preprocessing_exc_tuple` in IPython 7.17 and above.\n",
      "  and should_run_async(code)\n"
     ]
    },
    {
     "data": {
      "text/html": [
       "<div>\n",
       "<style scoped>\n",
       "    .dataframe tbody tr th:only-of-type {\n",
       "        vertical-align: middle;\n",
       "    }\n",
       "\n",
       "    .dataframe tbody tr th {\n",
       "        vertical-align: top;\n",
       "    }\n",
       "\n",
       "    .dataframe thead th {\n",
       "        text-align: right;\n",
       "    }\n",
       "</style>\n",
       "<table border=\"1\" class=\"dataframe\">\n",
       "  <thead>\n",
       "    <tr style=\"text-align: right;\">\n",
       "      <th></th>\n",
       "      <th>index</th>\n",
       "      <th>index_x</th>\n",
       "      <th>id</th>\n",
       "      <th>tweet</th>\n",
       "      <th>retweets</th>\n",
       "      <th>translated_tweet</th>\n",
       "      <th>index_y</th>\n",
       "      <th>Dominant_Topic</th>\n",
       "      <th>Perc_Contribution</th>\n",
       "      <th>Topic_Keywords</th>\n",
       "    </tr>\n",
       "  </thead>\n",
       "  <tbody>\n",
       "    <tr>\n",
       "      <th>0</th>\n",
       "      <td>0</td>\n",
       "      <td>0</td>\n",
       "      <td>1348608500046340096</td>\n",
       "      <td>kaloka eh. push na push dun sa vaccine from ch...</td>\n",
       "      <td>3</td>\n",
       "      <td>crazy. they push so much for the vaccine from ...</td>\n",
       "      <td>0</td>\n",
       "      <td>9.0</td>\n",
       "      <td>0.1296</td>\n",
       "      <td>government, make, china, national, company, or...</td>\n",
       "    </tr>\n",
       "    <tr>\n",
       "      <th>1</th>\n",
       "      <td>1</td>\n",
       "      <td>1</td>\n",
       "      <td>1347059249227079680</td>\n",
       "      <td>vaccine day nla daddy ngayon sa guam sana goods</td>\n",
       "      <td>3</td>\n",
       "      <td>it's daddy's vaccine day in guam i hope everyt...</td>\n",
       "      <td>1</td>\n",
       "      <td>0.0</td>\n",
       "      <td>0.1319</td>\n",
       "      <td>give, good, hope, issue, safe, news, pandemic,...</td>\n",
       "    </tr>\n",
       "    <tr>\n",
       "      <th>2</th>\n",
       "      <td>2</td>\n",
       "      <td>2</td>\n",
       "      <td>1349389062700863488</td>\n",
       "      <td>lgu rin namin here astrazeneca yung inaeye na ...</td>\n",
       "      <td>5</td>\n",
       "      <td>our lgu here is also eyeing to procure astraze...</td>\n",
       "      <td>2</td>\n",
       "      <td>9.0</td>\n",
       "      <td>0.1111</td>\n",
       "      <td>government, make, china, national, company, or...</td>\n",
       "    </tr>\n",
       "  </tbody>\n",
       "</table>\n",
       "</div>"
      ],
      "text/plain": [
       "   index  index_x                   id  \\\n",
       "0      0        0  1348608500046340096   \n",
       "1      1        1  1347059249227079680   \n",
       "2      2        2  1349389062700863488   \n",
       "\n",
       "                                               tweet  retweets  \\\n",
       "0  kaloka eh. push na push dun sa vaccine from ch...         3   \n",
       "1    vaccine day nla daddy ngayon sa guam sana goods         3   \n",
       "2  lgu rin namin here astrazeneca yung inaeye na ...         5   \n",
       "\n",
       "                                    translated_tweet  index_y  Dominant_Topic  \\\n",
       "0  crazy. they push so much for the vaccine from ...        0             9.0   \n",
       "1  it's daddy's vaccine day in guam i hope everyt...        1             0.0   \n",
       "2  our lgu here is also eyeing to procure astraze...        2             9.0   \n",
       "\n",
       "   Perc_Contribution                                     Topic_Keywords  \n",
       "0             0.1296  government, make, china, national, company, or...  \n",
       "1             0.1319  give, good, hope, issue, safe, news, pandemic,...  \n",
       "2             0.1111  government, make, china, national, company, or...  "
      ]
     },
     "execution_count": 116,
     "metadata": {},
     "output_type": "execute_result"
    }
   ],
   "source": [
    "df_merged.head(3)"
   ]
  },
  {
   "cell_type": "code",
   "execution_count": 117,
   "metadata": {
    "scrolled": true
   },
   "outputs": [
    {
     "name": "stderr",
     "output_type": "stream",
     "text": [
      "/opt/anaconda3/lib/python3.8/site-packages/ipykernel/ipkernel.py:287: DeprecationWarning: `should_run_async` will not call `transform_cell` automatically in the future. Please pass the result to `transformed_cell` argument and any exception that happen during thetransform in `preprocessing_exc_tuple` in IPython 7.17 and above.\n",
      "  and should_run_async(code)\n"
     ]
    }
   ],
   "source": [
    "df_merged.drop(columns=['index','index_x','index_y'], axis=1, inplace=True)"
   ]
  },
  {
   "cell_type": "code",
   "execution_count": 118,
   "metadata": {
    "scrolled": true
   },
   "outputs": [
    {
     "name": "stderr",
     "output_type": "stream",
     "text": [
      "/opt/anaconda3/lib/python3.8/site-packages/ipykernel/ipkernel.py:287: DeprecationWarning: `should_run_async` will not call `transform_cell` automatically in the future. Please pass the result to `transformed_cell` argument and any exception that happen during thetransform in `preprocessing_exc_tuple` in IPython 7.17 and above.\n",
      "  and should_run_async(code)\n"
     ]
    }
   ],
   "source": [
    "df_merged['Dominant_Topic'] = df_merged['Dominant_Topic'].astype(int)"
   ]
  },
  {
   "cell_type": "code",
   "execution_count": 119,
   "metadata": {},
   "outputs": [
    {
     "name": "stderr",
     "output_type": "stream",
     "text": [
      "/opt/anaconda3/lib/python3.8/site-packages/ipykernel/ipkernel.py:287: DeprecationWarning: `should_run_async` will not call `transform_cell` automatically in the future. Please pass the result to `transformed_cell` argument and any exception that happen during thetransform in `preprocessing_exc_tuple` in IPython 7.17 and above.\n",
      "  and should_run_async(code)\n"
     ]
    }
   ],
   "source": [
    "list_ = []\n",
    "for row in df_merged.itertuples(index=False):\n",
    "    if row.retweets != 1:\n",
    "        list_.extend([list(row)]*(row.retweets))\n",
    "    else:\n",
    "        list_.append(list(row))"
   ]
  },
  {
   "cell_type": "code",
   "execution_count": 120,
   "metadata": {
    "scrolled": false
   },
   "outputs": [
    {
     "name": "stderr",
     "output_type": "stream",
     "text": [
      "/opt/anaconda3/lib/python3.8/site-packages/ipykernel/ipkernel.py:287: DeprecationWarning: `should_run_async` will not call `transform_cell` automatically in the future. Please pass the result to `transformed_cell` argument and any exception that happen during thetransform in `preprocessing_exc_tuple` in IPython 7.17 and above.\n",
      "  and should_run_async(code)\n"
     ]
    }
   ],
   "source": [
    "df_retweets = pd.DataFrame(list_, columns=df_merged.columns)"
   ]
  },
  {
   "cell_type": "code",
   "execution_count": 121,
   "metadata": {
    "scrolled": false
   },
   "outputs": [
    {
     "name": "stderr",
     "output_type": "stream",
     "text": [
      "/opt/anaconda3/lib/python3.8/site-packages/ipykernel/ipkernel.py:287: DeprecationWarning: `should_run_async` will not call `transform_cell` automatically in the future. Please pass the result to `transformed_cell` argument and any exception that happen during thetransform in `preprocessing_exc_tuple` in IPython 7.17 and above.\n",
      "  and should_run_async(code)\n"
     ]
    },
    {
     "data": {
      "text/plain": [
       "Dominant_Topic  Topic_Keywords                                                                   \n",
       "0               give, good, hope, issue, safe, news, pandemic, care, move, stupid                    3020\n",
       "1               health, start, receive, expensive, today, feel, early, brand, hospital, end          3210\n",
       "2               dose, approval, approve, president, local, deal, supply, arrival, march, register    3628\n",
       "3               efficacy, effective, case, day, high, safety, low, datum, show, result               3017\n",
       "4               inject, choose, question, base, leader, priority, price, choice, cost, die           2857\n",
       "5               country, program, mayor, czar, lack, focus, variant, surge, procurement, lead        2533\n",
       "6               people, wait, plan, world, trust, expert, live, life, lot, doctor                    2585\n",
       "7               buy, arrive, smuggle, money, free, long, city, sec, donate, big                      2672\n",
       "8               time, public, work, medical, protect, launch, official, unregistered, risk, law      3117\n",
       "9               government, make, china, national, company, order, procure, step, push, budget       2726\n",
       "dtype: int64"
      ]
     },
     "execution_count": 121,
     "metadata": {},
     "output_type": "execute_result"
    }
   ],
   "source": [
    "df_retweets.groupby(['Dominant_Topic','Topic_Keywords']).size()"
   ]
  },
  {
   "cell_type": "code",
   "execution_count": 137,
   "metadata": {},
   "outputs": [
    {
     "name": "stderr",
     "output_type": "stream",
     "text": [
      "/opt/anaconda3/lib/python3.8/site-packages/ipykernel/ipkernel.py:287: DeprecationWarning: `should_run_async` will not call `transform_cell` automatically in the future. Please pass the result to `transformed_cell` argument and any exception that happen during thetransform in `preprocessing_exc_tuple` in IPython 7.17 and above.\n",
      "  and should_run_async(code)\n"
     ]
    },
    {
     "data": {
      "text/html": [
       "<div>\n",
       "<style scoped>\n",
       "    .dataframe tbody tr th:only-of-type {\n",
       "        vertical-align: middle;\n",
       "    }\n",
       "\n",
       "    .dataframe tbody tr th {\n",
       "        vertical-align: top;\n",
       "    }\n",
       "\n",
       "    .dataframe thead th {\n",
       "        text-align: right;\n",
       "    }\n",
       "</style>\n",
       "<table border=\"1\" class=\"dataframe\">\n",
       "  <thead>\n",
       "    <tr style=\"text-align: right;\">\n",
       "      <th></th>\n",
       "      <th>id</th>\n",
       "      <th>tweet</th>\n",
       "      <th>retweets</th>\n",
       "      <th>translated_tweet</th>\n",
       "      <th>Dominant_Topic</th>\n",
       "      <th>Perc_Contribution</th>\n",
       "      <th>Topic_Keywords</th>\n",
       "      <th>Topic_Name</th>\n",
       "    </tr>\n",
       "  </thead>\n",
       "  <tbody>\n",
       "    <tr>\n",
       "      <th>0</th>\n",
       "      <td>1348608500046340096</td>\n",
       "      <td>kaloka eh. push na push dun sa vaccine from ch...</td>\n",
       "      <td>3</td>\n",
       "      <td>crazy. they push so much for the vaccine from ...</td>\n",
       "      <td>9</td>\n",
       "      <td>0.1296</td>\n",
       "      <td>government, make, china, national, company, or...</td>\n",
       "      <td>Vaccine arrival</td>\n",
       "    </tr>\n",
       "    <tr>\n",
       "      <th>1</th>\n",
       "      <td>1348608500046340096</td>\n",
       "      <td>kaloka eh. push na push dun sa vaccine from ch...</td>\n",
       "      <td>3</td>\n",
       "      <td>crazy. they push so much for the vaccine from ...</td>\n",
       "      <td>9</td>\n",
       "      <td>0.1296</td>\n",
       "      <td>government, make, china, national, company, or...</td>\n",
       "      <td>Vaccine arrival</td>\n",
       "    </tr>\n",
       "    <tr>\n",
       "      <th>2</th>\n",
       "      <td>1348608500046340096</td>\n",
       "      <td>kaloka eh. push na push dun sa vaccine from ch...</td>\n",
       "      <td>3</td>\n",
       "      <td>crazy. they push so much for the vaccine from ...</td>\n",
       "      <td>9</td>\n",
       "      <td>0.1296</td>\n",
       "      <td>government, make, china, national, company, or...</td>\n",
       "      <td>Vaccine arrival</td>\n",
       "    </tr>\n",
       "    <tr>\n",
       "      <th>3</th>\n",
       "      <td>1347059249227079680</td>\n",
       "      <td>vaccine day nla daddy ngayon sa guam sana goods</td>\n",
       "      <td>3</td>\n",
       "      <td>it's daddy's vaccine day in guam i hope everyt...</td>\n",
       "      <td>0</td>\n",
       "      <td>0.1319</td>\n",
       "      <td>give, good, hope, issue, safe, news, pandemic,...</td>\n",
       "      <td>Vaccine arrival</td>\n",
       "    </tr>\n",
       "    <tr>\n",
       "      <th>4</th>\n",
       "      <td>1347059249227079680</td>\n",
       "      <td>vaccine day nla daddy ngayon sa guam sana goods</td>\n",
       "      <td>3</td>\n",
       "      <td>it's daddy's vaccine day in guam i hope everyt...</td>\n",
       "      <td>0</td>\n",
       "      <td>0.1319</td>\n",
       "      <td>give, good, hope, issue, safe, news, pandemic,...</td>\n",
       "      <td>Vaccine arrival</td>\n",
       "    </tr>\n",
       "    <tr>\n",
       "      <th>...</th>\n",
       "      <td>...</td>\n",
       "      <td>...</td>\n",
       "      <td>...</td>\n",
       "      <td>...</td>\n",
       "      <td>...</td>\n",
       "      <td>...</td>\n",
       "      <td>...</td>\n",
       "      <td>...</td>\n",
       "    </tr>\n",
       "    <tr>\n",
       "      <th>29360</th>\n",
       "      <td>1368866497540591616</td>\n",
       "      <td>protect yourself and your loved ones #bevaccin...</td>\n",
       "      <td>6</td>\n",
       "      <td>protect yourself and your loved ones #bevaccin...</td>\n",
       "      <td>8</td>\n",
       "      <td>0.1154</td>\n",
       "      <td>time, public, work, medical, protect, launch, ...</td>\n",
       "      <td>Vaccine arrival</td>\n",
       "    </tr>\n",
       "    <tr>\n",
       "      <th>29361</th>\n",
       "      <td>1356878859644383232</td>\n",
       "      <td>mayor marcelino teodoro and sec. vince dizon d...</td>\n",
       "      <td>4</td>\n",
       "      <td>mayor marcelino teodoro and sec. vince dizon d...</td>\n",
       "      <td>7</td>\n",
       "      <td>0.1779</td>\n",
       "      <td>buy, arrive, smuggle, money, free, long, city,...</td>\n",
       "      <td>Vaccine arrival</td>\n",
       "    </tr>\n",
       "    <tr>\n",
       "      <th>29362</th>\n",
       "      <td>1356878859644383232</td>\n",
       "      <td>mayor marcelino teodoro and sec. vince dizon d...</td>\n",
       "      <td>4</td>\n",
       "      <td>mayor marcelino teodoro and sec. vince dizon d...</td>\n",
       "      <td>7</td>\n",
       "      <td>0.1779</td>\n",
       "      <td>buy, arrive, smuggle, money, free, long, city,...</td>\n",
       "      <td>Vaccine arrival</td>\n",
       "    </tr>\n",
       "    <tr>\n",
       "      <th>29363</th>\n",
       "      <td>1356878859644383232</td>\n",
       "      <td>mayor marcelino teodoro and sec. vince dizon d...</td>\n",
       "      <td>4</td>\n",
       "      <td>mayor marcelino teodoro and sec. vince dizon d...</td>\n",
       "      <td>7</td>\n",
       "      <td>0.1779</td>\n",
       "      <td>buy, arrive, smuggle, money, free, long, city,...</td>\n",
       "      <td>Vaccine arrival</td>\n",
       "    </tr>\n",
       "    <tr>\n",
       "      <th>29364</th>\n",
       "      <td>1356878859644383232</td>\n",
       "      <td>mayor marcelino teodoro and sec. vince dizon d...</td>\n",
       "      <td>4</td>\n",
       "      <td>mayor marcelino teodoro and sec. vince dizon d...</td>\n",
       "      <td>7</td>\n",
       "      <td>0.1779</td>\n",
       "      <td>buy, arrive, smuggle, money, free, long, city,...</td>\n",
       "      <td>Vaccine arrival</td>\n",
       "    </tr>\n",
       "  </tbody>\n",
       "</table>\n",
       "<p>29365 rows × 8 columns</p>\n",
       "</div>"
      ],
      "text/plain": [
       "                        id                                              tweet  \\\n",
       "0      1348608500046340096  kaloka eh. push na push dun sa vaccine from ch...   \n",
       "1      1348608500046340096  kaloka eh. push na push dun sa vaccine from ch...   \n",
       "2      1348608500046340096  kaloka eh. push na push dun sa vaccine from ch...   \n",
       "3      1347059249227079680    vaccine day nla daddy ngayon sa guam sana goods   \n",
       "4      1347059249227079680    vaccine day nla daddy ngayon sa guam sana goods   \n",
       "...                    ...                                                ...   \n",
       "29360  1368866497540591616  protect yourself and your loved ones #bevaccin...   \n",
       "29361  1356878859644383232  mayor marcelino teodoro and sec. vince dizon d...   \n",
       "29362  1356878859644383232  mayor marcelino teodoro and sec. vince dizon d...   \n",
       "29363  1356878859644383232  mayor marcelino teodoro and sec. vince dizon d...   \n",
       "29364  1356878859644383232  mayor marcelino teodoro and sec. vince dizon d...   \n",
       "\n",
       "       retweets                                   translated_tweet  \\\n",
       "0             3  crazy. they push so much for the vaccine from ...   \n",
       "1             3  crazy. they push so much for the vaccine from ...   \n",
       "2             3  crazy. they push so much for the vaccine from ...   \n",
       "3             3  it's daddy's vaccine day in guam i hope everyt...   \n",
       "4             3  it's daddy's vaccine day in guam i hope everyt...   \n",
       "...         ...                                                ...   \n",
       "29360         6  protect yourself and your loved ones #bevaccin...   \n",
       "29361         4  mayor marcelino teodoro and sec. vince dizon d...   \n",
       "29362         4  mayor marcelino teodoro and sec. vince dizon d...   \n",
       "29363         4  mayor marcelino teodoro and sec. vince dizon d...   \n",
       "29364         4  mayor marcelino teodoro and sec. vince dizon d...   \n",
       "\n",
       "       Dominant_Topic  Perc_Contribution  \\\n",
       "0                   9             0.1296   \n",
       "1                   9             0.1296   \n",
       "2                   9             0.1296   \n",
       "3                   0             0.1319   \n",
       "4                   0             0.1319   \n",
       "...               ...                ...   \n",
       "29360               8             0.1154   \n",
       "29361               7             0.1779   \n",
       "29362               7             0.1779   \n",
       "29363               7             0.1779   \n",
       "29364               7             0.1779   \n",
       "\n",
       "                                          Topic_Keywords       Topic_Name  \n",
       "0      government, make, china, national, company, or...  Vaccine arrival  \n",
       "1      government, make, china, national, company, or...  Vaccine arrival  \n",
       "2      government, make, china, national, company, or...  Vaccine arrival  \n",
       "3      give, good, hope, issue, safe, news, pandemic,...  Vaccine arrival  \n",
       "4      give, good, hope, issue, safe, news, pandemic,...  Vaccine arrival  \n",
       "...                                                  ...              ...  \n",
       "29360  time, public, work, medical, protect, launch, ...  Vaccine arrival  \n",
       "29361  buy, arrive, smuggle, money, free, long, city,...  Vaccine arrival  \n",
       "29362  buy, arrive, smuggle, money, free, long, city,...  Vaccine arrival  \n",
       "29363  buy, arrive, smuggle, money, free, long, city,...  Vaccine arrival  \n",
       "29364  buy, arrive, smuggle, money, free, long, city,...  Vaccine arrival  \n",
       "\n",
       "[29365 rows x 8 columns]"
      ]
     },
     "execution_count": 137,
     "metadata": {},
     "output_type": "execute_result"
    }
   ],
   "source": [
    "df_retweets"
   ]
  },
  {
   "cell_type": "code",
   "execution_count": 141,
   "metadata": {
    "scrolled": true
   },
   "outputs": [
    {
     "name": "stderr",
     "output_type": "stream",
     "text": [
      "/opt/anaconda3/lib/python3.8/site-packages/ipykernel/ipkernel.py:287: DeprecationWarning: `should_run_async` will not call `transform_cell` automatically in the future. Please pass the result to `transformed_cell` argument and any exception that happen during thetransform in `preprocessing_exc_tuple` in IPython 7.17 and above.\n",
      "  and should_run_async(code)\n",
      "<ipython-input-141-7879c2e3d5f5>:21: SettingWithCopyWarning: \n",
      "A value is trying to be set on a copy of a slice from a DataFrame\n",
      "\n",
      "See the caveats in the documentation: https://pandas.pydata.org/pandas-docs/stable/user_guide/indexing.html#returning-a-view-versus-a-copy\n",
      "  df_retweets['Topic_Name'][i] = 'Distrust on gov’t and China-made vaccines'\n",
      "<ipython-input-141-7879c2e3d5f5>:3: SettingWithCopyWarning: \n",
      "A value is trying to be set on a copy of a slice from a DataFrame\n",
      "\n",
      "See the caveats in the documentation: https://pandas.pydata.org/pandas-docs/stable/user_guide/indexing.html#returning-a-view-versus-a-copy\n",
      "  df_retweets['Topic_Name'][i] = 'Being hopeful and hopeless'\n",
      "<ipython-input-141-7879c2e3d5f5>:17: SettingWithCopyWarning: \n",
      "A value is trying to be set on a copy of a slice from a DataFrame\n",
      "\n",
      "See the caveats in the documentation: https://pandas.pydata.org/pandas-docs/stable/user_guide/indexing.html#returning-a-view-versus-a-copy\n",
      "  df_retweets['Topic_Name'][i] = 'Vaccine arrival'\n",
      "<ipython-input-141-7879c2e3d5f5>:19: SettingWithCopyWarning: \n",
      "A value is trying to be set on a copy of a slice from a DataFrame\n",
      "\n",
      "See the caveats in the documentation: https://pandas.pydata.org/pandas-docs/stable/user_guide/indexing.html#returning-a-view-versus-a-copy\n",
      "  df_retweets['Topic_Name'][i] = 'Unregistered vaccines'\n",
      "<ipython-input-141-7879c2e3d5f5>:11: SettingWithCopyWarning: \n",
      "A value is trying to be set on a copy of a slice from a DataFrame\n",
      "\n",
      "See the caveats in the documentation: https://pandas.pydata.org/pandas-docs/stable/user_guide/indexing.html#returning-a-view-versus-a-copy\n",
      "  df_retweets['Topic_Name'][i] = 'Vaccine injection'\n",
      "<ipython-input-141-7879c2e3d5f5>:15: SettingWithCopyWarning: \n",
      "A value is trying to be set on a copy of a slice from a DataFrame\n",
      "\n",
      "See the caveats in the documentation: https://pandas.pydata.org/pandas-docs/stable/user_guide/indexing.html#returning-a-view-versus-a-copy\n",
      "  df_retweets['Topic_Name'][i] = 'Call for a concrete vaccine rollout plan'\n",
      "<ipython-input-141-7879c2e3d5f5>:9: SettingWithCopyWarning: \n",
      "A value is trying to be set on a copy of a slice from a DataFrame\n",
      "\n",
      "See the caveats in the documentation: https://pandas.pydata.org/pandas-docs/stable/user_guide/indexing.html#returning-a-view-versus-a-copy\n",
      "  df_retweets['Topic_Name'][i] = 'Vaccine efficacy and safety'\n",
      "<ipython-input-141-7879c2e3d5f5>:7: SettingWithCopyWarning: \n",
      "A value is trying to be set on a copy of a slice from a DataFrame\n",
      "\n",
      "See the caveats in the documentation: https://pandas.pydata.org/pandas-docs/stable/user_guide/indexing.html#returning-a-view-versus-a-copy\n",
      "  df_retweets['Topic_Name'][i] = 'FDA approval of vaccines'\n",
      "<ipython-input-141-7879c2e3d5f5>:5: SettingWithCopyWarning: \n",
      "A value is trying to be set on a copy of a slice from a DataFrame\n",
      "\n",
      "See the caveats in the documentation: https://pandas.pydata.org/pandas-docs/stable/user_guide/indexing.html#returning-a-view-versus-a-copy\n",
      "  df_retweets['Topic_Name'][i] = 'Start of vaccines rollout'\n",
      "<ipython-input-141-7879c2e3d5f5>:13: SettingWithCopyWarning: \n",
      "A value is trying to be set on a copy of a slice from a DataFrame\n",
      "\n",
      "See the caveats in the documentation: https://pandas.pydata.org/pandas-docs/stable/user_guide/indexing.html#returning-a-view-versus-a-copy\n",
      "  df_retweets['Topic_Name'][i] = 'Travel ban against COVID-19 variants'\n"
     ]
    }
   ],
   "source": [
    "for i in range(0,len(df_retweets.id)):\n",
    "    if df_retweets['Dominant_Topic'][i] == 0:\n",
    "        df_retweets['Topic_Name'][i] = 'Being hopeful and hopeless'\n",
    "    elif df_retweets['Dominant_Topic'][i] == 1:\n",
    "        df_retweets['Topic_Name'][i] = 'Start of vaccines rollout'\n",
    "    elif df_retweets['Dominant_Topic'][i] == 2:\n",
    "        df_retweets['Topic_Name'][i] = 'FDA approval of vaccines'\n",
    "    elif df_retweets['Dominant_Topic'][i] == 3:\n",
    "        df_retweets['Topic_Name'][i] = 'Vaccine efficacy and safety'\n",
    "    elif df_retweets['Dominant_Topic'][i] == 4: \n",
    "        df_retweets['Topic_Name'][i] = 'Vaccine injection'\n",
    "    elif df_retweets['Dominant_Topic'][i] == 5: \n",
    "        df_retweets['Topic_Name'][i] = 'Travel ban against COVID-19 variants'\n",
    "    elif df_retweets['Dominant_Topic'][i] == 6:  \n",
    "        df_retweets['Topic_Name'][i] = 'Call for a concrete vaccine rollout plan'\n",
    "    elif df_retweets['Dominant_Topic'][i] == 7:\n",
    "        df_retweets['Topic_Name'][i] = 'Vaccine arrival'\n",
    "    elif df_retweets['Dominant_Topic'][i] == 8:\n",
    "        df_retweets['Topic_Name'][i] = 'Unregistered vaccines'\n",
    "    elif df_retweets['Dominant_Topic'][i] == 9: \n",
    "        df_retweets['Topic_Name'][i] = 'Distrust on gov’t and China-made vaccines' \n",
    "    else:\n",
    "        None"
   ]
  },
  {
   "cell_type": "code",
   "execution_count": 156,
   "metadata": {
    "scrolled": true
   },
   "outputs": [
    {
     "name": "stderr",
     "output_type": "stream",
     "text": [
      "/opt/anaconda3/lib/python3.8/site-packages/ipykernel/ipkernel.py:287: DeprecationWarning:\n",
      "\n",
      "`should_run_async` will not call `transform_cell` automatically in the future. Please pass the result to `transformed_cell` argument and any exception that happen during thetransform in `preprocessing_exc_tuple` in IPython 7.17 and above.\n",
      "\n"
     ]
    }
   ],
   "source": [
    "#df_retweets.to_csv('datasets/topic_modelling_complete.csv',index=False)"
   ]
  },
  {
   "cell_type": "markdown",
   "metadata": {},
   "source": [
    "###  2.4.2 Getting the precentage distribution per topics"
   ]
  },
  {
   "cell_type": "code",
   "execution_count": 143,
   "metadata": {
    "scrolled": false
   },
   "outputs": [
    {
     "name": "stderr",
     "output_type": "stream",
     "text": [
      "/opt/anaconda3/lib/python3.8/site-packages/ipykernel/ipkernel.py:287: DeprecationWarning: `should_run_async` will not call `transform_cell` automatically in the future. Please pass the result to `transformed_cell` argument and any exception that happen during thetransform in `preprocessing_exc_tuple` in IPython 7.17 and above.\n",
      "  and should_run_async(code)\n"
     ]
    }
   ],
   "source": [
    "topic_dist = df_retweets.groupby('Topic_Name')[['id']].count().reset_index()"
   ]
  },
  {
   "cell_type": "code",
   "execution_count": 144,
   "metadata": {},
   "outputs": [
    {
     "name": "stderr",
     "output_type": "stream",
     "text": [
      "/opt/anaconda3/lib/python3.8/site-packages/ipykernel/ipkernel.py:287: DeprecationWarning: `should_run_async` will not call `transform_cell` automatically in the future. Please pass the result to `transformed_cell` argument and any exception that happen during thetransform in `preprocessing_exc_tuple` in IPython 7.17 and above.\n",
      "  and should_run_async(code)\n"
     ]
    },
    {
     "data": {
      "text/html": [
       "<div>\n",
       "<style scoped>\n",
       "    .dataframe tbody tr th:only-of-type {\n",
       "        vertical-align: middle;\n",
       "    }\n",
       "\n",
       "    .dataframe tbody tr th {\n",
       "        vertical-align: top;\n",
       "    }\n",
       "\n",
       "    .dataframe thead th {\n",
       "        text-align: right;\n",
       "    }\n",
       "</style>\n",
       "<table border=\"1\" class=\"dataframe\">\n",
       "  <thead>\n",
       "    <tr style=\"text-align: right;\">\n",
       "      <th></th>\n",
       "      <th>Topic_Name</th>\n",
       "      <th>id</th>\n",
       "    </tr>\n",
       "  </thead>\n",
       "  <tbody>\n",
       "    <tr>\n",
       "      <th>0</th>\n",
       "      <td>Being hopeful and hopeless</td>\n",
       "      <td>3020</td>\n",
       "    </tr>\n",
       "    <tr>\n",
       "      <th>1</th>\n",
       "      <td>Call for a concrete vaccine rollout plan</td>\n",
       "      <td>2585</td>\n",
       "    </tr>\n",
       "    <tr>\n",
       "      <th>2</th>\n",
       "      <td>Distrust on gov’t and China-made vaccines</td>\n",
       "      <td>2726</td>\n",
       "    </tr>\n",
       "    <tr>\n",
       "      <th>3</th>\n",
       "      <td>FDA approval of vaccines</td>\n",
       "      <td>3628</td>\n",
       "    </tr>\n",
       "    <tr>\n",
       "      <th>4</th>\n",
       "      <td>Start of vaccines rollout</td>\n",
       "      <td>3210</td>\n",
       "    </tr>\n",
       "    <tr>\n",
       "      <th>5</th>\n",
       "      <td>Travel ban against COVID-19 variants</td>\n",
       "      <td>2533</td>\n",
       "    </tr>\n",
       "    <tr>\n",
       "      <th>6</th>\n",
       "      <td>Unregistered vaccines</td>\n",
       "      <td>3117</td>\n",
       "    </tr>\n",
       "    <tr>\n",
       "      <th>7</th>\n",
       "      <td>Vaccine arrival</td>\n",
       "      <td>2672</td>\n",
       "    </tr>\n",
       "    <tr>\n",
       "      <th>8</th>\n",
       "      <td>Vaccine efficacy and safety</td>\n",
       "      <td>3017</td>\n",
       "    </tr>\n",
       "    <tr>\n",
       "      <th>9</th>\n",
       "      <td>Vaccine injection</td>\n",
       "      <td>2857</td>\n",
       "    </tr>\n",
       "  </tbody>\n",
       "</table>\n",
       "</div>"
      ],
      "text/plain": [
       "                                  Topic_Name    id\n",
       "0                 Being hopeful and hopeless  3020\n",
       "1   Call for a concrete vaccine rollout plan  2585\n",
       "2  Distrust on gov’t and China-made vaccines  2726\n",
       "3                   FDA approval of vaccines  3628\n",
       "4                  Start of vaccines rollout  3210\n",
       "5       Travel ban against COVID-19 variants  2533\n",
       "6                      Unregistered vaccines  3117\n",
       "7                            Vaccine arrival  2672\n",
       "8                Vaccine efficacy and safety  3017\n",
       "9                          Vaccine injection  2857"
      ]
     },
     "execution_count": 144,
     "metadata": {},
     "output_type": "execute_result"
    }
   ],
   "source": [
    "topic_dist"
   ]
  },
  {
   "cell_type": "code",
   "execution_count": 150,
   "metadata": {
    "scrolled": true
   },
   "outputs": [
    {
     "name": "stderr",
     "output_type": "stream",
     "text": [
      "/opt/anaconda3/lib/python3.8/site-packages/ipykernel/ipkernel.py:287: DeprecationWarning:\n",
      "\n",
      "`should_run_async` will not call `transform_cell` automatically in the future. Please pass the result to `transformed_cell` argument and any exception that happen during thetransform in `preprocessing_exc_tuple` in IPython 7.17 and above.\n",
      "\n"
     ]
    }
   ],
   "source": [
    "topic_dist.sort_values(by='id',ascending=True,inplace=True)"
   ]
  },
  {
   "cell_type": "code",
   "execution_count": 146,
   "metadata": {},
   "outputs": [
    {
     "name": "stderr",
     "output_type": "stream",
     "text": [
      "/opt/anaconda3/lib/python3.8/site-packages/ipykernel/ipkernel.py:287: DeprecationWarning: `should_run_async` will not call `transform_cell` automatically in the future. Please pass the result to `transformed_cell` argument and any exception that happen during thetransform in `preprocessing_exc_tuple` in IPython 7.17 and above.\n",
      "  and should_run_async(code)\n"
     ]
    }
   ],
   "source": [
    "total = topic_dist['id'].sum()\n",
    "\n",
    "topic_dist['perc'] = (topic_dist['id'] / total) * 100"
   ]
  },
  {
   "cell_type": "code",
   "execution_count": 151,
   "metadata": {
    "scrolled": true
   },
   "outputs": [
    {
     "name": "stderr",
     "output_type": "stream",
     "text": [
      "/opt/anaconda3/lib/python3.8/site-packages/ipykernel/ipkernel.py:287: DeprecationWarning:\n",
      "\n",
      "`should_run_async` will not call `transform_cell` automatically in the future. Please pass the result to `transformed_cell` argument and any exception that happen during thetransform in `preprocessing_exc_tuple` in IPython 7.17 and above.\n",
      "\n"
     ]
    },
    {
     "data": {
      "text/html": [
       "<div>\n",
       "<style scoped>\n",
       "    .dataframe tbody tr th:only-of-type {\n",
       "        vertical-align: middle;\n",
       "    }\n",
       "\n",
       "    .dataframe tbody tr th {\n",
       "        vertical-align: top;\n",
       "    }\n",
       "\n",
       "    .dataframe thead th {\n",
       "        text-align: right;\n",
       "    }\n",
       "</style>\n",
       "<table border=\"1\" class=\"dataframe\">\n",
       "  <thead>\n",
       "    <tr style=\"text-align: right;\">\n",
       "      <th></th>\n",
       "      <th>Topic_Name</th>\n",
       "      <th>id</th>\n",
       "      <th>perc</th>\n",
       "    </tr>\n",
       "  </thead>\n",
       "  <tbody>\n",
       "    <tr>\n",
       "      <th>5</th>\n",
       "      <td>Travel ban against COVID-19 variants</td>\n",
       "      <td>2533</td>\n",
       "      <td>8.625915</td>\n",
       "    </tr>\n",
       "    <tr>\n",
       "      <th>1</th>\n",
       "      <td>Call for a concrete vaccine rollout plan</td>\n",
       "      <td>2585</td>\n",
       "      <td>8.802997</td>\n",
       "    </tr>\n",
       "    <tr>\n",
       "      <th>7</th>\n",
       "      <td>Vaccine arrival</td>\n",
       "      <td>2672</td>\n",
       "      <td>9.099268</td>\n",
       "    </tr>\n",
       "    <tr>\n",
       "      <th>2</th>\n",
       "      <td>Distrust on gov’t and China-made vaccines</td>\n",
       "      <td>2726</td>\n",
       "      <td>9.283160</td>\n",
       "    </tr>\n",
       "    <tr>\n",
       "      <th>9</th>\n",
       "      <td>Vaccine injection</td>\n",
       "      <td>2857</td>\n",
       "      <td>9.729270</td>\n",
       "    </tr>\n",
       "    <tr>\n",
       "      <th>8</th>\n",
       "      <td>Vaccine efficacy and safety</td>\n",
       "      <td>3017</td>\n",
       "      <td>10.274136</td>\n",
       "    </tr>\n",
       "    <tr>\n",
       "      <th>0</th>\n",
       "      <td>Being hopeful and hopeless</td>\n",
       "      <td>3020</td>\n",
       "      <td>10.284352</td>\n",
       "    </tr>\n",
       "    <tr>\n",
       "      <th>6</th>\n",
       "      <td>Unregistered vaccines</td>\n",
       "      <td>3117</td>\n",
       "      <td>10.614677</td>\n",
       "    </tr>\n",
       "    <tr>\n",
       "      <th>4</th>\n",
       "      <td>Start of vaccines rollout</td>\n",
       "      <td>3210</td>\n",
       "      <td>10.931381</td>\n",
       "    </tr>\n",
       "    <tr>\n",
       "      <th>3</th>\n",
       "      <td>FDA approval of vaccines</td>\n",
       "      <td>3628</td>\n",
       "      <td>12.354844</td>\n",
       "    </tr>\n",
       "  </tbody>\n",
       "</table>\n",
       "</div>"
      ],
      "text/plain": [
       "                                  Topic_Name    id       perc\n",
       "5       Travel ban against COVID-19 variants  2533   8.625915\n",
       "1   Call for a concrete vaccine rollout plan  2585   8.802997\n",
       "7                            Vaccine arrival  2672   9.099268\n",
       "2  Distrust on gov’t and China-made vaccines  2726   9.283160\n",
       "9                          Vaccine injection  2857   9.729270\n",
       "8                Vaccine efficacy and safety  3017  10.274136\n",
       "0                 Being hopeful and hopeless  3020  10.284352\n",
       "6                      Unregistered vaccines  3117  10.614677\n",
       "4                  Start of vaccines rollout  3210  10.931381\n",
       "3                   FDA approval of vaccines  3628  12.354844"
      ]
     },
     "execution_count": 151,
     "metadata": {},
     "output_type": "execute_result"
    }
   ],
   "source": [
    "topic_dist"
   ]
  },
  {
   "cell_type": "code",
   "execution_count": 152,
   "metadata": {},
   "outputs": [
    {
     "name": "stderr",
     "output_type": "stream",
     "text": [
      "/opt/anaconda3/lib/python3.8/site-packages/ipykernel/ipkernel.py:287: DeprecationWarning:\n",
      "\n",
      "`should_run_async` will not call `transform_cell` automatically in the future. Please pass the result to `transformed_cell` argument and any exception that happen during thetransform in `preprocessing_exc_tuple` in IPython 7.17 and above.\n",
      "\n"
     ]
    },
    {
     "data": {
      "application/vnd.plotly.v1+json": {
       "config": {
        "plotlyServerURL": "https://plot.ly"
       },
       "data": [
        {
         "alignmentgroup": "True",
         "hovertemplate": "perc=%{text}<br>Topic_Name=%{y}<extra></extra>",
         "legendgroup": "",
         "marker": {
          "color": "#84a3a7"
         },
         "name": "",
         "offsetgroup": "",
         "orientation": "h",
         "showlegend": false,
         "text": [
          8.62591520517623,
          8.802996764856122,
          9.099267835859017,
          9.283160224757363,
          9.72926953856632,
          10.274135876042909,
          10.284352119870595,
          10.614677336965777,
          10.931380895624041,
          12.354844202281628
         ],
         "textfont": {
          "color": "#84a3a7",
          "size": 14
         },
         "textposition": "outside",
         "type": "bar",
         "x": [
          8.62591520517623,
          8.802996764856122,
          9.099267835859017,
          9.283160224757363,
          9.72926953856632,
          10.274135876042909,
          10.284352119870595,
          10.614677336965777,
          10.931380895624041,
          12.354844202281628
         ],
         "xaxis": "x",
         "y": [
          "Travel ban against COVID-19 variants",
          "Call for a concrete vaccine rollout plan",
          "Vaccine arrival",
          "Distrust on gov’t and China-made vaccines",
          "Vaccine injection",
          "Vaccine efficacy and safety",
          "Being hopeful and hopeless",
          "Unregistered vaccines",
          "Start of vaccines rollout",
          "FDA approval of vaccines"
         ],
         "yaxis": "y"
        }
       ],
       "layout": {
        "barmode": "relative",
        "height": 400,
        "hovermode": false,
        "legend": {
         "tracegroupgap": 0
        },
        "margin": {
         "b": 10,
         "l": 30,
         "pad": 15,
         "r": 0,
         "t": 60
        },
        "paper_bgcolor": "rgba(0,0,0,0)",
        "plot_bgcolor": "rgba(0,0,0,0)",
        "template": {
         "data": {
          "bar": [
           {
            "error_x": {
             "color": "#2a3f5f"
            },
            "error_y": {
             "color": "#2a3f5f"
            },
            "marker": {
             "line": {
              "color": "#E5ECF6",
              "width": 0.5
             }
            },
            "type": "bar"
           }
          ],
          "barpolar": [
           {
            "marker": {
             "line": {
              "color": "#E5ECF6",
              "width": 0.5
             }
            },
            "type": "barpolar"
           }
          ],
          "carpet": [
           {
            "aaxis": {
             "endlinecolor": "#2a3f5f",
             "gridcolor": "white",
             "linecolor": "white",
             "minorgridcolor": "white",
             "startlinecolor": "#2a3f5f"
            },
            "baxis": {
             "endlinecolor": "#2a3f5f",
             "gridcolor": "white",
             "linecolor": "white",
             "minorgridcolor": "white",
             "startlinecolor": "#2a3f5f"
            },
            "type": "carpet"
           }
          ],
          "choropleth": [
           {
            "colorbar": {
             "outlinewidth": 0,
             "ticks": ""
            },
            "type": "choropleth"
           }
          ],
          "contour": [
           {
            "colorbar": {
             "outlinewidth": 0,
             "ticks": ""
            },
            "colorscale": [
             [
              0,
              "#0d0887"
             ],
             [
              0.1111111111111111,
              "#46039f"
             ],
             [
              0.2222222222222222,
              "#7201a8"
             ],
             [
              0.3333333333333333,
              "#9c179e"
             ],
             [
              0.4444444444444444,
              "#bd3786"
             ],
             [
              0.5555555555555556,
              "#d8576b"
             ],
             [
              0.6666666666666666,
              "#ed7953"
             ],
             [
              0.7777777777777778,
              "#fb9f3a"
             ],
             [
              0.8888888888888888,
              "#fdca26"
             ],
             [
              1,
              "#f0f921"
             ]
            ],
            "type": "contour"
           }
          ],
          "contourcarpet": [
           {
            "colorbar": {
             "outlinewidth": 0,
             "ticks": ""
            },
            "type": "contourcarpet"
           }
          ],
          "heatmap": [
           {
            "colorbar": {
             "outlinewidth": 0,
             "ticks": ""
            },
            "colorscale": [
             [
              0,
              "#0d0887"
             ],
             [
              0.1111111111111111,
              "#46039f"
             ],
             [
              0.2222222222222222,
              "#7201a8"
             ],
             [
              0.3333333333333333,
              "#9c179e"
             ],
             [
              0.4444444444444444,
              "#bd3786"
             ],
             [
              0.5555555555555556,
              "#d8576b"
             ],
             [
              0.6666666666666666,
              "#ed7953"
             ],
             [
              0.7777777777777778,
              "#fb9f3a"
             ],
             [
              0.8888888888888888,
              "#fdca26"
             ],
             [
              1,
              "#f0f921"
             ]
            ],
            "type": "heatmap"
           }
          ],
          "heatmapgl": [
           {
            "colorbar": {
             "outlinewidth": 0,
             "ticks": ""
            },
            "colorscale": [
             [
              0,
              "#0d0887"
             ],
             [
              0.1111111111111111,
              "#46039f"
             ],
             [
              0.2222222222222222,
              "#7201a8"
             ],
             [
              0.3333333333333333,
              "#9c179e"
             ],
             [
              0.4444444444444444,
              "#bd3786"
             ],
             [
              0.5555555555555556,
              "#d8576b"
             ],
             [
              0.6666666666666666,
              "#ed7953"
             ],
             [
              0.7777777777777778,
              "#fb9f3a"
             ],
             [
              0.8888888888888888,
              "#fdca26"
             ],
             [
              1,
              "#f0f921"
             ]
            ],
            "type": "heatmapgl"
           }
          ],
          "histogram": [
           {
            "marker": {
             "colorbar": {
              "outlinewidth": 0,
              "ticks": ""
             }
            },
            "type": "histogram"
           }
          ],
          "histogram2d": [
           {
            "colorbar": {
             "outlinewidth": 0,
             "ticks": ""
            },
            "colorscale": [
             [
              0,
              "#0d0887"
             ],
             [
              0.1111111111111111,
              "#46039f"
             ],
             [
              0.2222222222222222,
              "#7201a8"
             ],
             [
              0.3333333333333333,
              "#9c179e"
             ],
             [
              0.4444444444444444,
              "#bd3786"
             ],
             [
              0.5555555555555556,
              "#d8576b"
             ],
             [
              0.6666666666666666,
              "#ed7953"
             ],
             [
              0.7777777777777778,
              "#fb9f3a"
             ],
             [
              0.8888888888888888,
              "#fdca26"
             ],
             [
              1,
              "#f0f921"
             ]
            ],
            "type": "histogram2d"
           }
          ],
          "histogram2dcontour": [
           {
            "colorbar": {
             "outlinewidth": 0,
             "ticks": ""
            },
            "colorscale": [
             [
              0,
              "#0d0887"
             ],
             [
              0.1111111111111111,
              "#46039f"
             ],
             [
              0.2222222222222222,
              "#7201a8"
             ],
             [
              0.3333333333333333,
              "#9c179e"
             ],
             [
              0.4444444444444444,
              "#bd3786"
             ],
             [
              0.5555555555555556,
              "#d8576b"
             ],
             [
              0.6666666666666666,
              "#ed7953"
             ],
             [
              0.7777777777777778,
              "#fb9f3a"
             ],
             [
              0.8888888888888888,
              "#fdca26"
             ],
             [
              1,
              "#f0f921"
             ]
            ],
            "type": "histogram2dcontour"
           }
          ],
          "mesh3d": [
           {
            "colorbar": {
             "outlinewidth": 0,
             "ticks": ""
            },
            "type": "mesh3d"
           }
          ],
          "parcoords": [
           {
            "line": {
             "colorbar": {
              "outlinewidth": 0,
              "ticks": ""
             }
            },
            "type": "parcoords"
           }
          ],
          "pie": [
           {
            "automargin": true,
            "type": "pie"
           }
          ],
          "scatter": [
           {
            "marker": {
             "colorbar": {
              "outlinewidth": 0,
              "ticks": ""
             }
            },
            "type": "scatter"
           }
          ],
          "scatter3d": [
           {
            "line": {
             "colorbar": {
              "outlinewidth": 0,
              "ticks": ""
             }
            },
            "marker": {
             "colorbar": {
              "outlinewidth": 0,
              "ticks": ""
             }
            },
            "type": "scatter3d"
           }
          ],
          "scattercarpet": [
           {
            "marker": {
             "colorbar": {
              "outlinewidth": 0,
              "ticks": ""
             }
            },
            "type": "scattercarpet"
           }
          ],
          "scattergeo": [
           {
            "marker": {
             "colorbar": {
              "outlinewidth": 0,
              "ticks": ""
             }
            },
            "type": "scattergeo"
           }
          ],
          "scattergl": [
           {
            "marker": {
             "colorbar": {
              "outlinewidth": 0,
              "ticks": ""
             }
            },
            "type": "scattergl"
           }
          ],
          "scattermapbox": [
           {
            "marker": {
             "colorbar": {
              "outlinewidth": 0,
              "ticks": ""
             }
            },
            "type": "scattermapbox"
           }
          ],
          "scatterpolar": [
           {
            "marker": {
             "colorbar": {
              "outlinewidth": 0,
              "ticks": ""
             }
            },
            "type": "scatterpolar"
           }
          ],
          "scatterpolargl": [
           {
            "marker": {
             "colorbar": {
              "outlinewidth": 0,
              "ticks": ""
             }
            },
            "type": "scatterpolargl"
           }
          ],
          "scatterternary": [
           {
            "marker": {
             "colorbar": {
              "outlinewidth": 0,
              "ticks": ""
             }
            },
            "type": "scatterternary"
           }
          ],
          "surface": [
           {
            "colorbar": {
             "outlinewidth": 0,
             "ticks": ""
            },
            "colorscale": [
             [
              0,
              "#0d0887"
             ],
             [
              0.1111111111111111,
              "#46039f"
             ],
             [
              0.2222222222222222,
              "#7201a8"
             ],
             [
              0.3333333333333333,
              "#9c179e"
             ],
             [
              0.4444444444444444,
              "#bd3786"
             ],
             [
              0.5555555555555556,
              "#d8576b"
             ],
             [
              0.6666666666666666,
              "#ed7953"
             ],
             [
              0.7777777777777778,
              "#fb9f3a"
             ],
             [
              0.8888888888888888,
              "#fdca26"
             ],
             [
              1,
              "#f0f921"
             ]
            ],
            "type": "surface"
           }
          ],
          "table": [
           {
            "cells": {
             "fill": {
              "color": "#EBF0F8"
             },
             "line": {
              "color": "white"
             }
            },
            "header": {
             "fill": {
              "color": "#C8D4E3"
             },
             "line": {
              "color": "white"
             }
            },
            "type": "table"
           }
          ]
         },
         "layout": {
          "annotationdefaults": {
           "arrowcolor": "#2a3f5f",
           "arrowhead": 0,
           "arrowwidth": 1
          },
          "autotypenumbers": "strict",
          "coloraxis": {
           "colorbar": {
            "outlinewidth": 0,
            "ticks": ""
           }
          },
          "colorscale": {
           "diverging": [
            [
             0,
             "#8e0152"
            ],
            [
             0.1,
             "#c51b7d"
            ],
            [
             0.2,
             "#de77ae"
            ],
            [
             0.3,
             "#f1b6da"
            ],
            [
             0.4,
             "#fde0ef"
            ],
            [
             0.5,
             "#f7f7f7"
            ],
            [
             0.6,
             "#e6f5d0"
            ],
            [
             0.7,
             "#b8e186"
            ],
            [
             0.8,
             "#7fbc41"
            ],
            [
             0.9,
             "#4d9221"
            ],
            [
             1,
             "#276419"
            ]
           ],
           "sequential": [
            [
             0,
             "#0d0887"
            ],
            [
             0.1111111111111111,
             "#46039f"
            ],
            [
             0.2222222222222222,
             "#7201a8"
            ],
            [
             0.3333333333333333,
             "#9c179e"
            ],
            [
             0.4444444444444444,
             "#bd3786"
            ],
            [
             0.5555555555555556,
             "#d8576b"
            ],
            [
             0.6666666666666666,
             "#ed7953"
            ],
            [
             0.7777777777777778,
             "#fb9f3a"
            ],
            [
             0.8888888888888888,
             "#fdca26"
            ],
            [
             1,
             "#f0f921"
            ]
           ],
           "sequentialminus": [
            [
             0,
             "#0d0887"
            ],
            [
             0.1111111111111111,
             "#46039f"
            ],
            [
             0.2222222222222222,
             "#7201a8"
            ],
            [
             0.3333333333333333,
             "#9c179e"
            ],
            [
             0.4444444444444444,
             "#bd3786"
            ],
            [
             0.5555555555555556,
             "#d8576b"
            ],
            [
             0.6666666666666666,
             "#ed7953"
            ],
            [
             0.7777777777777778,
             "#fb9f3a"
            ],
            [
             0.8888888888888888,
             "#fdca26"
            ],
            [
             1,
             "#f0f921"
            ]
           ]
          },
          "colorway": [
           "#636efa",
           "#EF553B",
           "#00cc96",
           "#ab63fa",
           "#FFA15A",
           "#19d3f3",
           "#FF6692",
           "#B6E880",
           "#FF97FF",
           "#FECB52"
          ],
          "font": {
           "color": "#2a3f5f"
          },
          "geo": {
           "bgcolor": "white",
           "lakecolor": "white",
           "landcolor": "#E5ECF6",
           "showlakes": true,
           "showland": true,
           "subunitcolor": "white"
          },
          "hoverlabel": {
           "align": "left"
          },
          "hovermode": "closest",
          "mapbox": {
           "style": "light"
          },
          "paper_bgcolor": "white",
          "plot_bgcolor": "#E5ECF6",
          "polar": {
           "angularaxis": {
            "gridcolor": "white",
            "linecolor": "white",
            "ticks": ""
           },
           "bgcolor": "#E5ECF6",
           "radialaxis": {
            "gridcolor": "white",
            "linecolor": "white",
            "ticks": ""
           }
          },
          "scene": {
           "xaxis": {
            "backgroundcolor": "#E5ECF6",
            "gridcolor": "white",
            "gridwidth": 2,
            "linecolor": "white",
            "showbackground": true,
            "ticks": "",
            "zerolinecolor": "white"
           },
           "yaxis": {
            "backgroundcolor": "#E5ECF6",
            "gridcolor": "white",
            "gridwidth": 2,
            "linecolor": "white",
            "showbackground": true,
            "ticks": "",
            "zerolinecolor": "white"
           },
           "zaxis": {
            "backgroundcolor": "#E5ECF6",
            "gridcolor": "white",
            "gridwidth": 2,
            "linecolor": "white",
            "showbackground": true,
            "ticks": "",
            "zerolinecolor": "white"
           }
          },
          "shapedefaults": {
           "line": {
            "color": "#2a3f5f"
           }
          },
          "ternary": {
           "aaxis": {
            "gridcolor": "white",
            "linecolor": "white",
            "ticks": ""
           },
           "baxis": {
            "gridcolor": "white",
            "linecolor": "white",
            "ticks": ""
           },
           "bgcolor": "#E5ECF6",
           "caxis": {
            "gridcolor": "white",
            "linecolor": "white",
            "ticks": ""
           }
          },
          "title": {
           "x": 0.05
          },
          "xaxis": {
           "automargin": true,
           "gridcolor": "white",
           "linecolor": "white",
           "ticks": "",
           "title": {
            "standoff": 15
           },
           "zerolinecolor": "white",
           "zerolinewidth": 2
          },
          "yaxis": {
           "automargin": true,
           "gridcolor": "white",
           "linecolor": "white",
           "ticks": "",
           "title": {
            "standoff": 15
           },
           "zerolinecolor": "white",
           "zerolinewidth": 2
          }
         }
        },
        "width": 800,
        "xaxis": {
         "anchor": "y",
         "domain": [
          0,
          1
         ],
         "showticklabels": false,
         "title": {
          "text": "perc"
         }
        },
        "yaxis": {
         "anchor": "x",
         "domain": [
          0,
          1
         ],
         "title": {
          "text": "Topic_Name"
         }
        }
       }
      },
      "text/html": [
       "<div>                            <div id=\"9b5c5c8d-ba15-4406-938f-a2d7e2108fa9\" class=\"plotly-graph-div\" style=\"height:400px; width:800px;\"></div>            <script type=\"text/javascript\">                require([\"plotly\"], function(Plotly) {                    window.PLOTLYENV=window.PLOTLYENV || {};                                    if (document.getElementById(\"9b5c5c8d-ba15-4406-938f-a2d7e2108fa9\")) {                    Plotly.newPlot(                        \"9b5c5c8d-ba15-4406-938f-a2d7e2108fa9\",                        [{\"alignmentgroup\": \"True\", \"hovertemplate\": \"perc=%{text}<br>Topic_Name=%{y}<extra></extra>\", \"legendgroup\": \"\", \"marker\": {\"color\": \"#84a3a7\"}, \"name\": \"\", \"offsetgroup\": \"\", \"orientation\": \"h\", \"showlegend\": false, \"text\": [8.62591520517623, 8.802996764856122, 9.099267835859017, 9.283160224757363, 9.72926953856632, 10.274135876042909, 10.284352119870595, 10.614677336965777, 10.931380895624041, 12.354844202281628], \"textfont\": {\"color\": \"#84a3a7\", \"size\": 14}, \"textposition\": \"outside\", \"type\": \"bar\", \"x\": [8.62591520517623, 8.802996764856122, 9.099267835859017, 9.283160224757363, 9.72926953856632, 10.274135876042909, 10.284352119870595, 10.614677336965777, 10.931380895624041, 12.354844202281628], \"xaxis\": \"x\", \"y\": [\"Travel ban against COVID-19 variants\", \"Call for a concrete vaccine rollout plan\", \"Vaccine arrival\", \"Distrust on gov\\u2019t and China-made vaccines\", \"Vaccine injection\", \"Vaccine efficacy and safety\", \"Being hopeful and hopeless\", \"Unregistered vaccines\", \"Start of vaccines rollout\", \"FDA approval of vaccines\"], \"yaxis\": \"y\"}],                        {\"barmode\": \"relative\", \"height\": 400, \"hovermode\": false, \"legend\": {\"tracegroupgap\": 0}, \"margin\": {\"b\": 10, \"l\": 30, \"pad\": 15, \"r\": 0, \"t\": 60}, \"paper_bgcolor\": \"rgba(0,0,0,0)\", \"plot_bgcolor\": \"rgba(0,0,0,0)\", \"template\": {\"data\": {\"bar\": [{\"error_x\": {\"color\": \"#2a3f5f\"}, \"error_y\": {\"color\": \"#2a3f5f\"}, \"marker\": {\"line\": {\"color\": \"#E5ECF6\", \"width\": 0.5}}, \"type\": \"bar\"}], \"barpolar\": [{\"marker\": {\"line\": {\"color\": \"#E5ECF6\", \"width\": 0.5}}, \"type\": \"barpolar\"}], \"carpet\": [{\"aaxis\": {\"endlinecolor\": \"#2a3f5f\", \"gridcolor\": \"white\", \"linecolor\": \"white\", \"minorgridcolor\": \"white\", \"startlinecolor\": \"#2a3f5f\"}, \"baxis\": {\"endlinecolor\": \"#2a3f5f\", \"gridcolor\": \"white\", \"linecolor\": \"white\", \"minorgridcolor\": \"white\", \"startlinecolor\": \"#2a3f5f\"}, \"type\": \"carpet\"}], \"choropleth\": [{\"colorbar\": {\"outlinewidth\": 0, \"ticks\": \"\"}, \"type\": \"choropleth\"}], \"contour\": [{\"colorbar\": {\"outlinewidth\": 0, \"ticks\": \"\"}, \"colorscale\": [[0.0, \"#0d0887\"], [0.1111111111111111, \"#46039f\"], [0.2222222222222222, \"#7201a8\"], [0.3333333333333333, \"#9c179e\"], [0.4444444444444444, \"#bd3786\"], [0.5555555555555556, \"#d8576b\"], [0.6666666666666666, \"#ed7953\"], [0.7777777777777778, \"#fb9f3a\"], [0.8888888888888888, \"#fdca26\"], [1.0, \"#f0f921\"]], \"type\": \"contour\"}], \"contourcarpet\": [{\"colorbar\": {\"outlinewidth\": 0, \"ticks\": \"\"}, \"type\": \"contourcarpet\"}], \"heatmap\": [{\"colorbar\": {\"outlinewidth\": 0, \"ticks\": \"\"}, \"colorscale\": [[0.0, \"#0d0887\"], [0.1111111111111111, \"#46039f\"], [0.2222222222222222, \"#7201a8\"], [0.3333333333333333, \"#9c179e\"], [0.4444444444444444, \"#bd3786\"], [0.5555555555555556, \"#d8576b\"], [0.6666666666666666, \"#ed7953\"], [0.7777777777777778, \"#fb9f3a\"], [0.8888888888888888, \"#fdca26\"], [1.0, \"#f0f921\"]], \"type\": \"heatmap\"}], \"heatmapgl\": [{\"colorbar\": {\"outlinewidth\": 0, \"ticks\": \"\"}, \"colorscale\": [[0.0, \"#0d0887\"], [0.1111111111111111, \"#46039f\"], [0.2222222222222222, \"#7201a8\"], [0.3333333333333333, \"#9c179e\"], [0.4444444444444444, \"#bd3786\"], [0.5555555555555556, \"#d8576b\"], [0.6666666666666666, \"#ed7953\"], [0.7777777777777778, \"#fb9f3a\"], [0.8888888888888888, \"#fdca26\"], [1.0, \"#f0f921\"]], \"type\": \"heatmapgl\"}], \"histogram\": [{\"marker\": {\"colorbar\": {\"outlinewidth\": 0, \"ticks\": \"\"}}, \"type\": \"histogram\"}], \"histogram2d\": [{\"colorbar\": {\"outlinewidth\": 0, \"ticks\": \"\"}, \"colorscale\": [[0.0, \"#0d0887\"], [0.1111111111111111, \"#46039f\"], [0.2222222222222222, \"#7201a8\"], [0.3333333333333333, \"#9c179e\"], [0.4444444444444444, \"#bd3786\"], [0.5555555555555556, \"#d8576b\"], [0.6666666666666666, \"#ed7953\"], [0.7777777777777778, \"#fb9f3a\"], [0.8888888888888888, \"#fdca26\"], [1.0, \"#f0f921\"]], \"type\": \"histogram2d\"}], \"histogram2dcontour\": [{\"colorbar\": {\"outlinewidth\": 0, \"ticks\": \"\"}, \"colorscale\": [[0.0, \"#0d0887\"], [0.1111111111111111, \"#46039f\"], [0.2222222222222222, \"#7201a8\"], [0.3333333333333333, \"#9c179e\"], [0.4444444444444444, \"#bd3786\"], [0.5555555555555556, \"#d8576b\"], [0.6666666666666666, \"#ed7953\"], [0.7777777777777778, \"#fb9f3a\"], [0.8888888888888888, \"#fdca26\"], [1.0, \"#f0f921\"]], \"type\": \"histogram2dcontour\"}], \"mesh3d\": [{\"colorbar\": {\"outlinewidth\": 0, \"ticks\": \"\"}, \"type\": \"mesh3d\"}], \"parcoords\": [{\"line\": {\"colorbar\": {\"outlinewidth\": 0, \"ticks\": \"\"}}, \"type\": \"parcoords\"}], \"pie\": [{\"automargin\": true, \"type\": \"pie\"}], \"scatter\": [{\"marker\": {\"colorbar\": {\"outlinewidth\": 0, \"ticks\": \"\"}}, \"type\": \"scatter\"}], \"scatter3d\": [{\"line\": {\"colorbar\": {\"outlinewidth\": 0, \"ticks\": \"\"}}, \"marker\": {\"colorbar\": {\"outlinewidth\": 0, \"ticks\": \"\"}}, \"type\": \"scatter3d\"}], \"scattercarpet\": [{\"marker\": {\"colorbar\": {\"outlinewidth\": 0, \"ticks\": \"\"}}, \"type\": \"scattercarpet\"}], \"scattergeo\": [{\"marker\": {\"colorbar\": {\"outlinewidth\": 0, \"ticks\": \"\"}}, \"type\": \"scattergeo\"}], \"scattergl\": [{\"marker\": {\"colorbar\": {\"outlinewidth\": 0, \"ticks\": \"\"}}, \"type\": \"scattergl\"}], \"scattermapbox\": [{\"marker\": {\"colorbar\": {\"outlinewidth\": 0, \"ticks\": \"\"}}, \"type\": \"scattermapbox\"}], \"scatterpolar\": [{\"marker\": {\"colorbar\": {\"outlinewidth\": 0, \"ticks\": \"\"}}, \"type\": \"scatterpolar\"}], \"scatterpolargl\": [{\"marker\": {\"colorbar\": {\"outlinewidth\": 0, \"ticks\": \"\"}}, \"type\": \"scatterpolargl\"}], \"scatterternary\": [{\"marker\": {\"colorbar\": {\"outlinewidth\": 0, \"ticks\": \"\"}}, \"type\": \"scatterternary\"}], \"surface\": [{\"colorbar\": {\"outlinewidth\": 0, \"ticks\": \"\"}, \"colorscale\": [[0.0, \"#0d0887\"], [0.1111111111111111, \"#46039f\"], [0.2222222222222222, \"#7201a8\"], [0.3333333333333333, \"#9c179e\"], [0.4444444444444444, \"#bd3786\"], [0.5555555555555556, \"#d8576b\"], [0.6666666666666666, \"#ed7953\"], [0.7777777777777778, \"#fb9f3a\"], [0.8888888888888888, \"#fdca26\"], [1.0, \"#f0f921\"]], \"type\": \"surface\"}], \"table\": [{\"cells\": {\"fill\": {\"color\": \"#EBF0F8\"}, \"line\": {\"color\": \"white\"}}, \"header\": {\"fill\": {\"color\": \"#C8D4E3\"}, \"line\": {\"color\": \"white\"}}, \"type\": \"table\"}]}, \"layout\": {\"annotationdefaults\": {\"arrowcolor\": \"#2a3f5f\", \"arrowhead\": 0, \"arrowwidth\": 1}, \"autotypenumbers\": \"strict\", \"coloraxis\": {\"colorbar\": {\"outlinewidth\": 0, \"ticks\": \"\"}}, \"colorscale\": {\"diverging\": [[0, \"#8e0152\"], [0.1, \"#c51b7d\"], [0.2, \"#de77ae\"], [0.3, \"#f1b6da\"], [0.4, \"#fde0ef\"], [0.5, \"#f7f7f7\"], [0.6, \"#e6f5d0\"], [0.7, \"#b8e186\"], [0.8, \"#7fbc41\"], [0.9, \"#4d9221\"], [1, \"#276419\"]], \"sequential\": [[0.0, \"#0d0887\"], [0.1111111111111111, \"#46039f\"], [0.2222222222222222, \"#7201a8\"], [0.3333333333333333, \"#9c179e\"], [0.4444444444444444, \"#bd3786\"], [0.5555555555555556, \"#d8576b\"], [0.6666666666666666, \"#ed7953\"], [0.7777777777777778, \"#fb9f3a\"], [0.8888888888888888, \"#fdca26\"], [1.0, \"#f0f921\"]], \"sequentialminus\": [[0.0, \"#0d0887\"], [0.1111111111111111, \"#46039f\"], [0.2222222222222222, \"#7201a8\"], [0.3333333333333333, \"#9c179e\"], [0.4444444444444444, \"#bd3786\"], [0.5555555555555556, \"#d8576b\"], [0.6666666666666666, \"#ed7953\"], [0.7777777777777778, \"#fb9f3a\"], [0.8888888888888888, \"#fdca26\"], [1.0, \"#f0f921\"]]}, \"colorway\": [\"#636efa\", \"#EF553B\", \"#00cc96\", \"#ab63fa\", \"#FFA15A\", \"#19d3f3\", \"#FF6692\", \"#B6E880\", \"#FF97FF\", \"#FECB52\"], \"font\": {\"color\": \"#2a3f5f\"}, \"geo\": {\"bgcolor\": \"white\", \"lakecolor\": \"white\", \"landcolor\": \"#E5ECF6\", \"showlakes\": true, \"showland\": true, \"subunitcolor\": \"white\"}, \"hoverlabel\": {\"align\": \"left\"}, \"hovermode\": \"closest\", \"mapbox\": {\"style\": \"light\"}, \"paper_bgcolor\": \"white\", \"plot_bgcolor\": \"#E5ECF6\", \"polar\": {\"angularaxis\": {\"gridcolor\": \"white\", \"linecolor\": \"white\", \"ticks\": \"\"}, \"bgcolor\": \"#E5ECF6\", \"radialaxis\": {\"gridcolor\": \"white\", \"linecolor\": \"white\", \"ticks\": \"\"}}, \"scene\": {\"xaxis\": {\"backgroundcolor\": \"#E5ECF6\", \"gridcolor\": \"white\", \"gridwidth\": 2, \"linecolor\": \"white\", \"showbackground\": true, \"ticks\": \"\", \"zerolinecolor\": \"white\"}, \"yaxis\": {\"backgroundcolor\": \"#E5ECF6\", \"gridcolor\": \"white\", \"gridwidth\": 2, \"linecolor\": \"white\", \"showbackground\": true, \"ticks\": \"\", \"zerolinecolor\": \"white\"}, \"zaxis\": {\"backgroundcolor\": \"#E5ECF6\", \"gridcolor\": \"white\", \"gridwidth\": 2, \"linecolor\": \"white\", \"showbackground\": true, \"ticks\": \"\", \"zerolinecolor\": \"white\"}}, \"shapedefaults\": {\"line\": {\"color\": \"#2a3f5f\"}}, \"ternary\": {\"aaxis\": {\"gridcolor\": \"white\", \"linecolor\": \"white\", \"ticks\": \"\"}, \"baxis\": {\"gridcolor\": \"white\", \"linecolor\": \"white\", \"ticks\": \"\"}, \"bgcolor\": \"#E5ECF6\", \"caxis\": {\"gridcolor\": \"white\", \"linecolor\": \"white\", \"ticks\": \"\"}}, \"title\": {\"x\": 0.05}, \"xaxis\": {\"automargin\": true, \"gridcolor\": \"white\", \"linecolor\": \"white\", \"ticks\": \"\", \"title\": {\"standoff\": 15}, \"zerolinecolor\": \"white\", \"zerolinewidth\": 2}, \"yaxis\": {\"automargin\": true, \"gridcolor\": \"white\", \"linecolor\": \"white\", \"ticks\": \"\", \"title\": {\"standoff\": 15}, \"zerolinecolor\": \"white\", \"zerolinewidth\": 2}}}, \"width\": 800, \"xaxis\": {\"anchor\": \"y\", \"domain\": [0.0, 1.0], \"showticklabels\": false, \"title\": {\"text\": \"perc\"}}, \"yaxis\": {\"anchor\": \"x\", \"domain\": [0.0, 1.0], \"title\": {\"text\": \"Topic_Name\"}}},                        {\"responsive\": true}                    ).then(function(){\n",
       "                            \n",
       "var gd = document.getElementById('9b5c5c8d-ba15-4406-938f-a2d7e2108fa9');\n",
       "var x = new MutationObserver(function (mutations, observer) {{\n",
       "        var display = window.getComputedStyle(gd).display;\n",
       "        if (!display || display === 'none') {{\n",
       "            console.log([gd, 'removed!']);\n",
       "            Plotly.purge(gd);\n",
       "            observer.disconnect();\n",
       "        }}\n",
       "}});\n",
       "\n",
       "// Listen for the removal of the full notebook cells\n",
       "var notebookContainer = gd.closest('#notebook-container');\n",
       "if (notebookContainer) {{\n",
       "    x.observe(notebookContainer, {childList: true});\n",
       "}}\n",
       "\n",
       "// Listen for the clearing of the current output cell\n",
       "var outputEl = gd.closest('.output');\n",
       "if (outputEl) {{\n",
       "    x.observe(outputEl, {childList: true});\n",
       "}}\n",
       "\n",
       "                        })                };                });            </script>        </div>"
      ]
     },
     "metadata": {},
     "output_type": "display_data"
    }
   ],
   "source": [
    "import plotly.express as px\n",
    "\n",
    "fig = px.bar(topic_dist, x=\"perc\", y=\"Topic_Name\", orientation='h',\n",
    "             height=400,\n",
    "             width = 800,\n",
    "             text = 'perc')\n",
    "\n",
    "fig.update_traces(marker_color='#84a3a7',\n",
    "                 textposition='outside',\n",
    "                 textfont=dict(size=14,\n",
    "                               color=\"#84a3a7\"\n",
    "                              ))\n",
    "\n",
    "fig.update_layout(plot_bgcolor='rgba(0,0,0,0)',\n",
    "                  paper_bgcolor='rgba(0,0,0,0)',\n",
    "                  hovermode=False,\n",
    "                  xaxis = dict(showticklabels = False),\n",
    "                  margin=dict(l=30, r=0, b=10, pad=15),)\n",
    "\n",
    "\n",
    "fig.show()"
   ]
  }
 ],
 "metadata": {
  "kernelspec": {
   "display_name": "Python 3",
   "language": "python",
   "name": "python3"
  },
  "language_info": {
   "codemirror_mode": {
    "name": "ipython",
    "version": 3
   },
   "file_extension": ".py",
   "mimetype": "text/x-python",
   "name": "python",
   "nbconvert_exporter": "python",
   "pygments_lexer": "ipython3",
   "version": "3.8.5"
  }
 },
 "nbformat": 4,
 "nbformat_minor": 4
}
