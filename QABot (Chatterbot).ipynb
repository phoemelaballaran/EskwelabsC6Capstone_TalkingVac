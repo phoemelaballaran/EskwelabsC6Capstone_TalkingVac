{
 "cells": [
  {
   "cell_type": "markdown",
   "id": "5cde69e9",
   "metadata": {},
   "source": [
    "# Question Answering Bot using Chatterbot"
   ]
  },
  {
   "cell_type": "markdown",
   "id": "1b5054c8",
   "metadata": {},
   "source": [
    "ChatterBot is a Python library that makes it easy to generate automated responses to a user’s input. ChatterBot uses a selection of machine learning algorithms to produce different types of responses. This makes it easy for developers to create chat bots and automate conversations with users. For more details about ChatterBot, check out its [documentation page](https://chatterbot.readthedocs.io/en/stable/)."
   ]
  },
  {
   "cell_type": "markdown",
   "id": "08ef23cf",
   "metadata": {},
   "source": [
    "## 1. Import libraries"
   ]
  },
  {
   "cell_type": "code",
   "execution_count": 1,
   "id": "e65eac41",
   "metadata": {},
   "outputs": [
    {
     "name": "stderr",
     "output_type": "stream",
     "text": [
      "[nltk_data] Downloading package punkt to /Users/macbook/nltk_data...\n",
      "[nltk_data]   Package punkt is already up-to-date!\n",
      "[nltk_data] Downloading package stopwords to\n",
      "[nltk_data]     /Users/macbook/nltk_data...\n",
      "[nltk_data]   Package stopwords is already up-to-date!\n",
      "[nltk_data] Downloading package wordnet to /Users/macbook/nltk_data...\n",
      "[nltk_data]   Package wordnet is already up-to-date!\n"
     ]
    }
   ],
   "source": [
    "import pandas as pd\n",
    "import numpy as np\n",
    "\n",
    "import chatterbot\n",
    "from chatterbot import ChatBot\n",
    "from chatterbot.conversation import Statement\n",
    "from chatterbot.trainers import ListTrainer\n",
    "from chatterbot.trainers import ChatterBotCorpusTrainer\n",
    "from chatterbot import *\n",
    "\n",
    "import nltk\n",
    "from nltk.corpus import stopwords\n",
    "from nltk.tokenize import word_tokenize \n",
    "from nltk.stem import WordNetLemmatizer\n",
    "nltk.download('punkt')\n",
    "nltk.download('stopwords')\n",
    "nltk.download('wordnet')\n",
    "\n",
    "import fuzzywuzzy\n",
    "from fuzzywuzzy import fuzz"
   ]
  },
  {
   "cell_type": "code",
   "execution_count": 2,
   "id": "382d0467",
   "metadata": {},
   "outputs": [],
   "source": [
    "vaccine_faq = pd.read_csv('datasets/Vaccine FAQ.csv', encoding = \"ISO-8859-1\", index_col = 0).reset_index()\n",
    "covid_faq = pd.read_csv('datasets/COVID FAQ.csv', encoding = \"ISO-8859-1\", index_col = 0).reset_index()"
   ]
  },
  {
   "cell_type": "code",
   "execution_count": 3,
   "id": "6a01efea",
   "metadata": {
    "scrolled": true
   },
   "outputs": [
    {
     "data": {
      "text/html": [
       "<div>\n",
       "<style scoped>\n",
       "    .dataframe tbody tr th:only-of-type {\n",
       "        vertical-align: middle;\n",
       "    }\n",
       "\n",
       "    .dataframe tbody tr th {\n",
       "        vertical-align: top;\n",
       "    }\n",
       "\n",
       "    .dataframe thead th {\n",
       "        text-align: right;\n",
       "    }\n",
       "</style>\n",
       "<table border=\"1\" class=\"dataframe\">\n",
       "  <thead>\n",
       "    <tr style=\"text-align: right;\">\n",
       "      <th></th>\n",
       "      <th>Topic</th>\n",
       "      <th>Source</th>\n",
       "      <th>Date Accessed</th>\n",
       "      <th>Question</th>\n",
       "      <th>Answer</th>\n",
       "      <th>Source:</th>\n",
       "    </tr>\n",
       "  </thead>\n",
       "  <tbody>\n",
       "    <tr>\n",
       "      <th>0</th>\n",
       "      <td>Vaccines General Info</td>\n",
       "      <td>Department of Health</td>\n",
       "      <td>3/31/2021</td>\n",
       "      <td>How do vaccines differ?</td>\n",
       "      <td>Vaccines differ in their composition and how t...</td>\n",
       "      <td>https://doh.gov.ph/node/28189</td>\n",
       "    </tr>\n",
       "    <tr>\n",
       "      <th>1</th>\n",
       "      <td>Vaccines General Info</td>\n",
       "      <td>Department of Health</td>\n",
       "      <td>3/31/2021</td>\n",
       "      <td>How does a flu vaccine differ from a COVID vac...</td>\n",
       "      <td>Vaccines differ in their composition and how t...</td>\n",
       "      <td>NaN</td>\n",
       "    </tr>\n",
       "  </tbody>\n",
       "</table>\n",
       "</div>"
      ],
      "text/plain": [
       "                   Topic                Source Date Accessed  \\\n",
       "0  Vaccines General Info  Department of Health     3/31/2021   \n",
       "1  Vaccines General Info  Department of Health     3/31/2021   \n",
       "\n",
       "                                            Question  \\\n",
       "0                            How do vaccines differ?   \n",
       "1  How does a flu vaccine differ from a COVID vac...   \n",
       "\n",
       "                                              Answer  \\\n",
       "0  Vaccines differ in their composition and how t...   \n",
       "1  Vaccines differ in their composition and how t...   \n",
       "\n",
       "                         Source:  \n",
       "0  https://doh.gov.ph/node/28189  \n",
       "1                            NaN  "
      ]
     },
     "execution_count": 3,
     "metadata": {},
     "output_type": "execute_result"
    }
   ],
   "source": [
    "vaccine_faq.head(2)"
   ]
  },
  {
   "cell_type": "code",
   "execution_count": 4,
   "id": "fa282481",
   "metadata": {},
   "outputs": [
    {
     "data": {
      "text/html": [
       "<div>\n",
       "<style scoped>\n",
       "    .dataframe tbody tr th:only-of-type {\n",
       "        vertical-align: middle;\n",
       "    }\n",
       "\n",
       "    .dataframe tbody tr th {\n",
       "        vertical-align: top;\n",
       "    }\n",
       "\n",
       "    .dataframe thead th {\n",
       "        text-align: right;\n",
       "    }\n",
       "</style>\n",
       "<table border=\"1\" class=\"dataframe\">\n",
       "  <thead>\n",
       "    <tr style=\"text-align: right;\">\n",
       "      <th></th>\n",
       "      <th>Topic</th>\n",
       "      <th>Source</th>\n",
       "      <th>Last Updated</th>\n",
       "      <th>Question</th>\n",
       "      <th>Answer</th>\n",
       "    </tr>\n",
       "  </thead>\n",
       "  <tbody>\n",
       "    <tr>\n",
       "      <th>0</th>\n",
       "      <td>COVID-19 Disease</td>\n",
       "      <td>World Health Organization</td>\n",
       "      <td>3/29/2021</td>\n",
       "      <td>What is COVID-19?</td>\n",
       "      <td>COVID-19 is the disease caused by a new corona...</td>\n",
       "    </tr>\n",
       "    <tr>\n",
       "      <th>1</th>\n",
       "      <td>Symptoms</td>\n",
       "      <td>World Health Organization</td>\n",
       "      <td>3/29/2021</td>\n",
       "      <td>What are the symptoms of COVID-19?</td>\n",
       "      <td>The most common symptoms of COVID-19 are fever...</td>\n",
       "    </tr>\n",
       "  </tbody>\n",
       "</table>\n",
       "</div>"
      ],
      "text/plain": [
       "              Topic                     Source Last Updated  \\\n",
       "0  COVID-19 Disease  World Health Organization    3/29/2021   \n",
       "1          Symptoms  World Health Organization    3/29/2021   \n",
       "\n",
       "                             Question  \\\n",
       "0                   What is COVID-19?   \n",
       "1  What are the symptoms of COVID-19?   \n",
       "\n",
       "                                              Answer  \n",
       "0  COVID-19 is the disease caused by a new corona...  \n",
       "1  The most common symptoms of COVID-19 are fever...  "
      ]
     },
     "execution_count": 4,
     "metadata": {},
     "output_type": "execute_result"
    }
   ],
   "source": [
    "covid_faq.head(2)"
   ]
  },
  {
   "cell_type": "markdown",
   "id": "7ed091eb",
   "metadata": {},
   "source": [
    "## 2. Formatting dataset"
   ]
  },
  {
   "cell_type": "markdown",
   "id": "d8b29f25",
   "metadata": {},
   "source": [
    "### 2.1 Create functions"
   ]
  },
  {
   "cell_type": "markdown",
   "id": "fe712eaa",
   "metadata": {},
   "source": [
    "Create function for removing punctuation marks"
   ]
  },
  {
   "cell_type": "code",
   "execution_count": 5,
   "id": "c9724f2c",
   "metadata": {},
   "outputs": [],
   "source": [
    "def remove_punctuation(sentence):\n",
    "    punc = \"!()-[]{};:'\\,<>./?@#$%^&*_~\"\n",
    "    \n",
    "    for word in sentence: \n",
    "        if word in punc: \n",
    "            sentence = sentence.replace(word, \"\")\n",
    "            \n",
    "    return sentence"
   ]
  },
  {
   "cell_type": "markdown",
   "id": "75c2e5a6",
   "metadata": {},
   "source": [
    "Create function for lemmatizing words"
   ]
  },
  {
   "cell_type": "code",
   "execution_count": 6,
   "id": "b2bda5bb",
   "metadata": {},
   "outputs": [],
   "source": [
    "def lemmatize(sentence):\n",
    "    lemmatizer = WordNetLemmatizer()\n",
    "    word_tokens = word_tokenize(sentence) \n",
    "    \n",
    "    lemmatized_sentence = ''\n",
    "    \n",
    "    for word in word_tokens:\n",
    "        lemma = lemmatizer.lemmatize(word)\n",
    "        lemmatized_sentence = lemmatized_sentence + str(lemma) + ' '\n",
    "        \n",
    "    return lemmatized_sentence.rstrip()"
   ]
  },
  {
   "cell_type": "markdown",
   "id": "e14d4a73",
   "metadata": {},
   "source": [
    "Create function for removing stopwords"
   ]
  },
  {
   "cell_type": "code",
   "execution_count": 7,
   "id": "c5aaf5bf",
   "metadata": {},
   "outputs": [],
   "source": [
    "def remove_stopwords(sentence):\n",
    "    stop_words = set(stopwords.words('english'))  - set(['where', 'when', 'why'])\n",
    "    word_tokens = word_tokenize(sentence) \n",
    "\n",
    "    filtered_sentence = [w for w in word_tokens if not w in stop_words] \n",
    "    filtered_sentence = ''\n",
    "\n",
    "    for w in word_tokens: \n",
    "        if w not in stop_words: \n",
    "            filtered_sentence = filtered_sentence +  str(w) + ' '\n",
    "    \n",
    "    return filtered_sentence.rstrip()"
   ]
  },
  {
   "cell_type": "markdown",
   "id": "d45c0aa1",
   "metadata": {},
   "source": [
    "Create function to replace different variations of \"COVID-19\""
   ]
  },
  {
   "cell_type": "code",
   "execution_count": 8,
   "id": "9530fa9f",
   "metadata": {},
   "outputs": [],
   "source": [
    "def replace_tags(sentence):\n",
    "    tags = {'covid19':'covid','covid-19':'covid','covid 19':'covid','corona':'covid','coronavirus':'covid','virus':'covid'}\n",
    "    \n",
    "    for i, j in tags.items():\n",
    "        sentence = sentence.replace(i, j)\n",
    "    \n",
    "    return sentence"
   ]
  },
  {
   "cell_type": "code",
   "execution_count": 9,
   "id": "f754cb13",
   "metadata": {},
   "outputs": [],
   "source": [
    "def preprocessor(sentence):\n",
    "    return replace_tags(remove_stopwords(lemmatize(remove_punctuation(sentence.lower()))))"
   ]
  },
  {
   "cell_type": "markdown",
   "id": "70c5153c",
   "metadata": {},
   "source": [
    "## 2.2 Process datasets"
   ]
  },
  {
   "cell_type": "markdown",
   "id": "a3918a9b",
   "metadata": {},
   "source": [
    "Turn dataframes into lists of lists"
   ]
  },
  {
   "cell_type": "code",
   "execution_count": 10,
   "id": "b3c60745",
   "metadata": {},
   "outputs": [],
   "source": [
    "covid_list=[]\n",
    "vaccine_list=[]\n",
    "for i in range(0, len(vaccine_faq)):\n",
    "    vaccine_list.append(vaccine_faq['Question'][i])\n",
    "    vaccine_list.append(vaccine_faq['Answer'][i])\n",
    "for i in range(0, len(covid_faq)):\n",
    "    covid_list.append(covid_faq['Question'][i])\n",
    "    covid_list.append(covid_faq['Answer'][i])"
   ]
  },
  {
   "cell_type": "markdown",
   "id": "84c13275",
   "metadata": {},
   "source": [
    "Process the lists"
   ]
  },
  {
   "cell_type": "code",
   "execution_count": 11,
   "id": "bc04f97d",
   "metadata": {},
   "outputs": [],
   "source": [
    "covidfaqclean=[]\n",
    "vaccinefaqclean=[]\n",
    "for i in range(0,len(covid_list)//2):\n",
    "    covidfaqclean.append(preprocessor(covid_list[2*i]).rstrip())\n",
    "    covidfaqclean.append(covid_list[2*i+1])\n",
    "for i in range(0,len(vaccine_list)//2):\n",
    "    vaccinefaqclean.append(preprocessor(vaccine_list[2*i]).rstrip())\n",
    "    vaccinefaqclean.append(vaccine_list[2*i+1])"
   ]
  },
  {
   "cell_type": "markdown",
   "id": "e99ab43b",
   "metadata": {},
   "source": [
    "## 3. Creating ChatBot Instances"
   ]
  },
  {
   "cell_type": "markdown",
   "id": "17478cff",
   "metadata": {},
   "source": [
    "ChatBot instance for the COVID dataset"
   ]
  },
  {
   "cell_type": "code",
   "execution_count": 12,
   "id": "2f795b2b",
   "metadata": {
    "scrolled": true
   },
   "outputs": [
    {
     "name": "stderr",
     "output_type": "stream",
     "text": [
      "[nltk_data] Downloading package averaged_perceptron_tagger to\n",
      "[nltk_data]     /Users/macbook/nltk_data...\n",
      "[nltk_data]   Package averaged_perceptron_tagger is already up-to-\n",
      "[nltk_data]       date!\n",
      "[nltk_data] Downloading package punkt to /Users/macbook/nltk_data...\n",
      "[nltk_data]   Package punkt is already up-to-date!\n",
      "[nltk_data] Downloading package stopwords to\n",
      "[nltk_data]     /Users/macbook/nltk_data...\n",
      "[nltk_data]   Package stopwords is already up-to-date!\n"
     ]
    }
   ],
   "source": [
    "covidchatbot = ChatBot('COVIDBot', read_only = True,\n",
    "    storage_adapter='chatterbot.storage.SQLStorageAdapter',\n",
    "    logic_adapters=[      \n",
    "        {'import_path': 'chatterbot.logic.BestMatch',\n",
    "         'default_response': 'I am sorry, but I do not understand. I am still learning.',\n",
    "         'statement_comparison_function': 'chatterbot.comparisons.jaccard_similarity',\n",
    "         'maximum_similarity_threshold': 0.95},\n",
    "        {'import_path': 'chatterbot.logic.BestMatch',\n",
    "         'default_response': 'I am sorry, but I do not understand. I am still learning.',\n",
    "         'statement_comparison_function': 'chatterbot.comparisons.levenshtein_distance',\n",
    "         'maximum_similarity_threshold': 0.95},\n",
    "        {'import_path': 'chatterbot.logic.BestMatch',\n",
    "         'default_response': 'I am sorry, but I do not understand. I am still learning.',\n",
    "         'statement_comparison_function': 'chatterbot.comparisons.synset_distance',\n",
    "         'maximum_similarity_threshold': 0.95}\n",
    "    ],\n",
    "    database_uri='sqlite:///coviddatabase.sqlite3',\n",
    "    trainer='chatterbot.trainers.ListTrainer'\n",
    ")"
   ]
  },
  {
   "cell_type": "markdown",
   "id": "80891547",
   "metadata": {},
   "source": [
    "ChatBot instance for the vaccine dataset"
   ]
  },
  {
   "cell_type": "code",
   "execution_count": 13,
   "id": "2f9bd689",
   "metadata": {},
   "outputs": [
    {
     "name": "stderr",
     "output_type": "stream",
     "text": [
      "[nltk_data] Downloading package averaged_perceptron_tagger to\n",
      "[nltk_data]     /Users/macbook/nltk_data...\n",
      "[nltk_data]   Package averaged_perceptron_tagger is already up-to-\n",
      "[nltk_data]       date!\n",
      "[nltk_data] Downloading package punkt to /Users/macbook/nltk_data...\n",
      "[nltk_data]   Package punkt is already up-to-date!\n",
      "[nltk_data] Downloading package stopwords to\n",
      "[nltk_data]     /Users/macbook/nltk_data...\n",
      "[nltk_data]   Package stopwords is already up-to-date!\n"
     ]
    }
   ],
   "source": [
    "vaccinechatbot = ChatBot('VaccineBot', read_only = True,\n",
    "    storage_adapter='chatterbot.storage.SQLStorageAdapter',\n",
    "    logic_adapters=[      \n",
    "        {'import_path': 'chatterbot.logic.BestMatch',\n",
    "         'default_response': 'I am sorry, but I do not understand. I am still learning.',\n",
    "         'statement_comparison_function': 'chatterbot.comparisons.jaccard_similarity',\n",
    "         'maximum_similarity_threshold': 0.95},\n",
    "        {'import_path': 'chatterbot.logic.BestMatch',\n",
    "         'default_response': 'I am sorry, but I do not understand. I am still learning.',\n",
    "         'statement_comparison_function': 'chatterbot.comparisons.levenshtein_distance',\n",
    "         'maximum_similarity_threshold': 0.95},\n",
    "        {'import_path': 'chatterbot.logic.BestMatch',\n",
    "         'default_response': 'I am sorry, but I do not understand. I am still learning.',\n",
    "         'statement_comparison_function': 'chatterbot.comparisons.synset_distance',\n",
    "         'maximum_similarity_threshold': 0.95}\n",
    "    ],\n",
    "    database_uri='sqlite:///vaccinedatabase.sqlite3',\n",
    "    trainer='chatterbot.trainers.ListTrainer'\n",
    ")"
   ]
  },
  {
   "cell_type": "markdown",
   "id": "9f41c866",
   "metadata": {},
   "source": [
    "## 4. Training"
   ]
  },
  {
   "cell_type": "code",
   "execution_count": 14,
   "id": "b8477289",
   "metadata": {},
   "outputs": [],
   "source": [
    "#covidchatbot.storage.drop()\n",
    "#vaccinechatbot.storage.drop()"
   ]
  },
  {
   "cell_type": "markdown",
   "id": "2843ada3",
   "metadata": {},
   "source": [
    "Using COVID dataset"
   ]
  },
  {
   "cell_type": "code",
   "execution_count": 15,
   "id": "f533a7a1",
   "metadata": {},
   "outputs": [
    {
     "name": "stdout",
     "output_type": "stream",
     "text": [
      "List Trainer: [####################] 100%\n"
     ]
    }
   ],
   "source": [
    "covid_training_data = covidfaqclean\n",
    "covidtrainer = ListTrainer(covidchatbot)\n",
    "covidtrainer.train(covid_training_data)"
   ]
  },
  {
   "cell_type": "markdown",
   "id": "4d1eaca1",
   "metadata": {},
   "source": [
    "Using vaccine dataset"
   ]
  },
  {
   "cell_type": "code",
   "execution_count": 16,
   "id": "6cde876f",
   "metadata": {},
   "outputs": [
    {
     "name": "stdout",
     "output_type": "stream",
     "text": [
      "List Trainer: [####################] 100%\n"
     ]
    }
   ],
   "source": [
    "vaccine_training_data = vaccinefaqclean\n",
    "vaccinetrainer = ListTrainer(vaccinechatbot)\n",
    "vaccinetrainer.train(vaccine_training_data)"
   ]
  },
  {
   "cell_type": "markdown",
   "id": "cd90daca",
   "metadata": {},
   "source": [
    "## 5. Getting recommended questions and feedback"
   ]
  },
  {
   "cell_type": "markdown",
   "id": "42198d2d",
   "metadata": {},
   "source": [
    "Create function for getting recommended questions"
   ]
  },
  {
   "cell_type": "code",
   "execution_count": 17,
   "id": "ea03bf4b",
   "metadata": {},
   "outputs": [],
   "source": [
    "def recommend_questions(question_input, dataset):\n",
    "    output_list = [fuzz.token_set_ratio(i,question_input) for i in dataset[\"Question\"]]\n",
    "    similarity_score = list(enumerate(output_list))\n",
    "    similarity_score = sorted(similarity_score, key=lambda x: x[1], reverse=True)\n",
    "    similarity_score = similarity_score[1:6]\n",
    "    question_indices = [i[0] for i in similarity_score]\n",
    "    recommended=dataset[['Question','Answer']].iloc[question_indices]\n",
    "    recommendeddf=pd.DataFrame(recommended)\n",
    "    return print(\"Looking for another answer? Try these questions:\"),print(recommendeddf.to_string(header=False, index=False))"
   ]
  },
  {
   "cell_type": "markdown",
   "id": "c78c2e2a",
   "metadata": {},
   "source": [
    "Create function for getting feedback"
   ]
  },
  {
   "cell_type": "code",
   "execution_count": 18,
   "id": "187f7f30",
   "metadata": {},
   "outputs": [],
   "source": [
    "def get_feedback():\n",
    "\n",
    "    text = input()\n",
    "\n",
    "    if 'yes' in text.lower():\n",
    "        return True\n",
    "    elif 'no' in text.lower():\n",
    "        return False\n",
    "    else:\n",
    "        print('Please type either \"Yes\" or \"No\"')\n",
    "        return get_feedback()"
   ]
  },
  {
   "cell_type": "markdown",
   "id": "03409067",
   "metadata": {},
   "source": [
    "## 6. QA Process"
   ]
  },
  {
   "cell_type": "code",
   "execution_count": null,
   "id": "56e20ba9",
   "metadata": {},
   "outputs": [
    {
     "name": "stdout",
     "output_type": "stream",
     "text": [
      "\n",
      "Choose category (COVID or Vaccine): vaccine\n",
      "\n",
      "Question: what vaccines are available?\n",
      "\n",
      "Response: when covid vaccine ready distribution\n",
      "Confidence: 0.02\n",
      "\n",
      "\n",
      "Looking for another answer? Try these questions:\n",
      "What are the candidate vaccines that can become available once they pass FDA requirements and are granted EUA.                                                                                                Our current vaccine portfolio consists of eight vaccines - Pfizer-BioNTech, Oxford AstraZeneca, Sinovac CoronaVac, Gamaleya Sputnik V, Bharat BioTech, Moderna, Novavax, and Janssen. As of March 05, 2021, only Pfizer, AstraZeneca, and Sinovac have been issued an Emergency Use Authorization (EUA) by the Philippine FDA.\n",
      "                                                                     What are the available COVID-19 vaccines? The government is currently in the initial phase of vaccine rollout with the availability of Sinovac and AstraZeneca vaccines in the country. Likewise, the country is in the advanced stages of negotiations with the COVAX Facility and various other vaccine manufacturers. For more information on the available vaccine brands in the Philippines, please visit DOH's website: https://doh.gov.ph/covid19vaccinestracker\n",
      "                                                            Are vaccines already available in the Philippines? The government is currently in the initial phase of vaccine rollout with the availability of Sinovac and AstraZeneca vaccines in the country. Likewise, the country is in the advanced stages of negotiations with the COVAX Facility and various other vaccine manufacturers. For more information on the available vaccine brands in the Philippines, please visit DOH's website: https://doh.gov.ph/covid19vaccinestracker\n",
      "                                                     What are the available vaccine brands in the Philippines? The government is currently in the initial phase of vaccine rollout with the availability of Sinovac and AstraZeneca vaccines in the country. Likewise, the country is in the advanced stages of negotiations with the COVAX Facility and various other vaccine manufacturers. For more information on the available vaccine brands in the Philippines, please visit DOH's website: https://doh.gov.ph/covid19vaccinestracker\n",
      "                                                                What are already available in the Philippines? The government is currently in the initial phase of vaccine rollout with the availability of Sinovac and AstraZeneca vaccines in the country. Likewise, the country is in the advanced stages of negotiations with the COVAX Facility and various other vaccine manufacturers. For more information on the available vaccine brands in the Philippines, please visit DOH's website: https://doh.gov.ph/covid19vaccinestracker\n",
      "\n",
      " I am still learning. Does the response answer your question? Please type yes or no.\n"
     ]
    }
   ],
   "source": [
    "while True:\n",
    "    category = input('\\nChoose category (COVID or Vaccine): ')\n",
    "    \n",
    "    if category.lower() == 'covid':\n",
    "        question = input('\\nQuestion: ')\n",
    "        \n",
    "        if question.lower() != 'end':\n",
    "            response = covidchatbot.get_response(preprocessor(question))\n",
    "            print('\\nResponse: ' + str(response))\n",
    "            print('Confidence: ' + str(response.confidence))\n",
    "            print(\"\\n\")\n",
    "            recommend_questions(question, vaccine_faq)\n",
    "            print('\\n I am still learning. Does the response answer your question? Please type yes or no.')            \n",
    "            #if get_feedback() is False:\n",
    "                #correct_response = input('Please input correct response: ')\n",
    "                #trainer.train([preprocessor(question), correct_response])\n",
    "                #print('Response added to bot!')\n",
    "\n",
    "        else:\n",
    "            break\n",
    "            \n",
    "    elif category.lower() == 'vaccine':\n",
    "        question = input('\\nQuestion: ')\n",
    "        \n",
    "        if question.lower() != 'end':\n",
    "            response = vaccinechatbot.get_response(preprocessor(question))\n",
    "            print('\\nResponse: ' + str(response))\n",
    "            print('Confidence: ' + str(response.confidence))\n",
    "            print(\"\\n\")\n",
    "            recommend_questions(question, vaccine_faq)\n",
    "            print('\\n I am still learning. Does the response answer your question? Please type yes or no.')            \n",
    "            #if get_feedback() is False:\n",
    "                #correct_response = input('Please input correct response: ')\n",
    "                #trainer.train([preprocessor(question), correct_response])\n",
    "                #print('Response added to bot!')\n",
    "\n",
    "        else:\n",
    "            break"
   ]
  },
  {
   "cell_type": "code",
   "execution_count": null,
   "id": "1a6d757c",
   "metadata": {},
   "outputs": [],
   "source": []
  }
 ],
 "metadata": {
  "kernelspec": {
   "display_name": "Python 3",
   "language": "python",
   "name": "python3"
  },
  "language_info": {
   "codemirror_mode": {
    "name": "ipython",
    "version": 3
   },
   "file_extension": ".py",
   "mimetype": "text/x-python",
   "name": "python",
   "nbconvert_exporter": "python",
   "pygments_lexer": "ipython3",
   "version": "3.8.5"
  }
 },
 "nbformat": 4,
 "nbformat_minor": 5
}
