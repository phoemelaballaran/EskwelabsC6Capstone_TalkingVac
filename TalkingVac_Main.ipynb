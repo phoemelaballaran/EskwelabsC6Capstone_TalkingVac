{
 "cells": [
  {
   "cell_type": "markdown",
   "id": "d12ab57b",
   "metadata": {},
   "source": [
    "# TalkingVac: Answering Metro Manila’s COVID-19 Vaccine Questions"
   ]
  },
  {
   "cell_type": "markdown",
   "id": "3e589c1f",
   "metadata": {},
   "source": [
    "## Executive Summary"
   ]
  },
  {
   "cell_type": "markdown",
   "id": "5d7ea853",
   "metadata": {},
   "source": [
    "2020 will go down in our modern history as the year of the COVID-19 pandemic. This infectious respiratory disease has disrupted the daily lives of billions of people around the world.\n",
    "\n",
    "The first case of COVID-19 in the Philippines was identified on January 30, 2020 and eventually spread throughout the country prompting the government to impose lockdowns or community quarantines to limit the spread of the virus. In order for our daily lives to get back to normal, we have to reach herd immunity.\n",
    "\n",
    "\n",
    "### But what is herd immunity?\n",
    "\n",
    "Herd immunity occurs when a large portion of a community (the herd) becomes immune to a disease, making the spread from person to person unlikely. It is vital because herd immunity protects the whole community, and not just those who are immune to the disease. Moreover, the more contagious a disease is, the greater the proportion of the population that needs to be immune to it to stop its spread. For example, measles is a highly contagious illness. It's estimated that 94% of the population must be immune to interrupt the chain of transmission.\n",
    "\n",
    "\n",
    "### How do we achieve herd immunity for COVID-19?\n",
    "\n",
    "There are two paths: vaccines and natural infection. Vaccines are the ideal approach because they create immunity without causing illness or resulting complications. Using the concept of herd immunity, vaccines have successfully controlled deadly contagious diseases such as smallpox, polio, and many others. As for natural infection, even though majority of COVID-19 cases are asymptomatic or with mild symptoms, some individuals develop complications and develop severe symptoms which could be deadly.\n",
    "\n",
    "### In this project we explore:\n",
    "1. \"What are the sentiments of the people on COVID-19 vaccination?\" through *sentiment analysis*\n",
    "2. \"What are the main concerns on COVID-19 vaccination?\" through *topic modelling*\n",
    "3. \"How do we address people’s concerns/ questions on COVID-19 vaccination?\" through building a \"Question Answering Bot\""
   ]
  },
  {
   "cell_type": "markdown",
   "id": "60147c9c",
   "metadata": {},
   "source": [
    "## Data Information"
   ]
  },
  {
   "cell_type": "markdown",
   "id": "d709b936",
   "metadata": {},
   "source": [
    "### 1. Data Scraping"
   ]
  },
  {
   "attachments": {},
   "cell_type": "markdown",
   "id": "39d4f4eb",
   "metadata": {},
   "source": [
    "<img src=\"images/Data Extraction.png\" style=\"width: 800px;\"/>\n",
    " <figcaption><center><b>Figure 1.</b> Diagram of data scraping</center></figcaption>"
   ]
  },
  {
   "cell_type": "markdown",
   "id": "f2493971",
   "metadata": {},
   "source": [
    "We chose twitter to be our data source and we scraped it using snscrape. Our scraping is limited within Metro Manila because we will be translating the tweets later on and Google Translate can only translate Cebuano and Filipino for now. The timeframe of the tweets we scraped is within December 2020 to March 2021 using these keywords: *vaccine, vaccination, vax, covidvaccine, covidvaccination, covidvax, covidphvaccine, coronavirusvaccine, coronavax, vaccineph, covid19vaccine, getvaccinated, sinovac, astazeneca, az, coronavac, novovax, sputnikv, pfizer, moderna, coronavirusvaccination*.\n",
    "\n",
    "The total tweets we got were almost 30 thousand with a little more than 3 thousand unique tweets (tweets with unique tweet ID). We considered the other duplicate tweets as retweets.\n",
    "\n",
    "For a detailed process of data gathering, you may explore the [Data Gathering and Preprocessing (Tweets)](Data%20Gathering%20and%20Preprocessing%20(Tweets).ipynb) notebook."
   ]
  },
  {
   "cell_type": "markdown",
   "id": "78f4c02c",
   "metadata": {},
   "source": [
    "#### Table 1. Data dictionary (Tweets)\n",
    "\n",
    "| Data | Data Type | Description |\n",
    "| --- | --- | --- |\n",
    "| ID | Integer | Tweet ID |\n",
    "| Date | Datetime | Date of the tweet |\n",
    "| Content | String | Tweet |\n",
    "| City | String | City name, tagged while scraping |"
   ]
  },
  {
   "cell_type": "markdown",
   "id": "3d101d41",
   "metadata": {},
   "source": [
    "### 2. Data Pre-Processing"
   ]
  },
  {
   "attachments": {},
   "cell_type": "markdown",
   "id": "d9ceefe1",
   "metadata": {},
   "source": [
    "<img src=\"images/Data Preprocessing.png\" style=\"width: 800px;\"/>\n",
    "<figcaption><center><b>Figure 2.</b> Diagram of Data Pre-Processing</center></figcaption>"
   ]
  },
  {
   "cell_type": "markdown",
   "id": "1384d9e8",
   "metadata": {},
   "source": [
    "To ensure the quality of the insights from our models, we meticulously checked the tweets and removed unrelated tweets such as those:\n",
    "- mentioning a different kind of vaccine like flu or anti-rabbies,\n",
    "- using ‘az’ in replacement of the word as,\n",
    "- using a different dialect that cannot be translated by Google translate,\n",
    "- mentioning a vaccine brand name but are actually a totally different thing like a fashion store with the name Moderna.\n",
    "\n",
    "\n",
    "After that, we translated tweets using Google Translate API. But there were still tweets that Google wasn’t able to translate because of the way that the some words are spelled so we translated them manually.\n",
    "\n",
    "We then proceeded to transform this dataset into a format that the model requires. First, we converted them into lowercase and removed punctuation and numbers. Next is tokenization, which is basically just getting each word from the tweet, and then applying bigrams and trigams on them. Bigrams and trigrams joins two or three words that doesn't make sense to be used alone, such as \"high school\". After that, we removed the stop words, which are the most common words such as “the”, “is”, “in”, “for”, “where”, “when”, “to”, “at”, and many more. Lastly, the tweets are lemmatized wherein the words are converted to their meaningful base forms called lemma.\n",
    "\n",
    "For a detailed process of data pre-processing, you may explore the [Data Gathering and Preprocessing (Tweets)](Data%20Gathering%20and%20Preprocessing%20(Tweets).ipynb) notebook."
   ]
  },
  {
   "cell_type": "markdown",
   "id": "3d87ad83",
   "metadata": {},
   "source": [
    "## What are the sentiments of the people on COVID-19 vaccination?"
   ]
  },
  {
   "cell_type": "markdown",
   "id": "c03cfaa9",
   "metadata": {},
   "source": [
    "<img src=\"images/Sentiment Analysis.png\" style=\"width: 800px;\"/>\n",
    "<figcaption><center><b>Figure 3.</b> Process diagram of sentiment analysis</center></figcaption>"
   ]
  },
  {
   "cell_type": "markdown",
   "id": "bc9d9322",
   "metadata": {},
   "source": [
    "We answered the question “what are the sentiments of the people on covid-19 vaccination?” through sentiment analysis.  With the cleaned and formatted data, we computed the weights of each tweet to adjust the impact (1 for the original tweet, 0.5 for the retweets). Then, we generated positivity and subjectivity scores using Texblob to get the result. For a more detailed process of how we did sentiment analysis, head over to the [Sentiment Analysis](Sentiment%20Analysis.ipynb) notebook."
   ]
  },
  {
   "cell_type": "markdown",
   "id": "c540850d",
   "metadata": {},
   "source": [
    " <img src=\"images/Pie Sentiments.png\" style=\"width: 550px;\"/>\n",
    " <figcaption><center><b>Figure 4.</b> Percentage Distribution of Sentiments</center></figcaption>"
   ]
  },
  {
   "cell_type": "markdown",
   "id": "f98f7111",
   "metadata": {},
   "source": [
    "As we can see in Figure 4, almost half of the sentiments on Twitter were positive. The table below shows example tweets tagged as Postive, Negative, and Neutral."
   ]
  },
  {
   "cell_type": "markdown",
   "id": "a0da1305",
   "metadata": {},
   "source": [
    "#### Table 2. Example tweets tagged as Positive, Negative, and Neutral\n",
    "\n",
    "| Sentiment | Tweet |\n",
    "| --- | --- |\n",
    "| Positive | Not a covid free Christmas but atleast vaccines are already around the corner. |\n",
    "| Negative | More COVID-19 scams: Criminal networks expected to pitch fake vaccines |\n",
    "| Neutral | We deserve to be choosy because we need to find the right vaccine for us based on efficacy and safety |"
   ]
  },
  {
   "cell_type": "markdown",
   "id": "8ee5e5f3",
   "metadata": {},
   "source": [
    "## What are the main concerns on COVID-19 vaccination?"
   ]
  },
  {
   "cell_type": "markdown",
   "id": "a7ea9730",
   "metadata": {},
   "source": [
    "<img src=\"images/Process Topic Modelling.png\" style=\"width: 800px;\"/>\n",
    "<figcaption><center><b>Figure 5.</b> Process diagram of topic modelling</center></figcaption>"
   ]
  },
  {
   "cell_type": "markdown",
   "id": "f01a1d8a",
   "metadata": {},
   "source": [
    "Having an idea of how Metro Manila Twitter users feel towards vaccines and vaccination, we now want to be more specific. This leads to our second question: *What are the main concerns around COVID-19 vaccination?* This part uses topic modelling. In a nutshell, Topic Modeling uses statistical models to group similar tweets together.\n",
    "\n",
    "For this project, we explored different models such as LSI, LDA, LDA Mallet, and HDP. We went with LDA Mallet in generating our final topics because even though HDP had the highest coherence score, we couldn't find enough literature that could help us extract the optimum number of topics from the model. For a more comprehensive discussion on the models we explored and of how they performed, visit the [Topic Modelling](Topic%20Modelling.ipynb) notebook.\n",
    "\n",
    "To identify the topics generated, we looked at two things: words associated with each group, and the tweets that are most representative of each group."
   ]
  },
  {
   "cell_type": "markdown",
   "id": "5cdd0c16",
   "metadata": {},
   "source": [
    "#### Table 3. List of topics and corresponding keywords\n",
    "\n",
    "| Topic Name | Keywords |\n",
    "| --- | --- |\n",
    "| FDA approval of vaccines | dose, approval, approve, president, local, deal, supply, arrival, march, register |\n",
    "| Start of vaccines rollout | health, start, receive, expensive, today, feel, early, brand, hospital, end |\n",
    "| Unregistered vaccines | time, public, work, medical, protect, launch, official, unregistered, risk, law |\n",
    "| Being hopeful and hopeless | give, good, hope, issue, safe, news, pandemic, care, move, stupid |\n",
    "| Vaccine efficacy and safety | efficacy, effective, case, day, high, safety, low, datum, show, result |\n",
    "| Vaccine injection | inject, choose, question, base, leader, priority, price, choice, cost, die |\n",
    "| Distrust on gov’t and China-made vaccine | government, make, china, national, company, order, procure, step, push, budget |\n",
    "| Vaccine arrival | buy, arrive, smuggle, money, free, long, city, sec, donate, big |\n",
    "| Call for a concrete vaccine rollout plan | people, wait, plan, world, trust, expert, live, life, lot, doctor |\n",
    "| Travel ban against COVID-19 variants | country, program, mayor, czar, lack, focus, variant, surge, procurement, lead   |"
   ]
  },
  {
   "attachments": {},
   "cell_type": "markdown",
   "id": "8c9b1cb9",
   "metadata": {},
   "source": [
    " <img src=\"images/Topic Modelling.png\" style=\"width: 800px;\"/>\n",
    " <br></br> <br></br>\n",
    " <figcaption><center><b>Figure 6.</b> Percentage Distribution of Topics among Tweets</center></figcaption>"
   ]
  },
  {
   "cell_type": "markdown",
   "id": "5cc16d9c",
   "metadata": {},
   "source": [
    "In Figure 6, we can see that the topics are largely about the logistics, the procurement, and the efficacy of the vaccine. For example, 12% of the tweets talk about the FDA approval of vaccines, while another 11% talk about the start of the vaccine rollout. "
   ]
  },
  {
   "cell_type": "markdown",
   "id": "f368b950",
   "metadata": {},
   "source": [
    "## How do we address people’s concerns/ questions on COVID-19 vaccination?"
   ]
  },
  {
   "cell_type": "markdown",
   "id": "cf572cf0",
   "metadata": {},
   "source": [
    "<img src=\"images/QABot.png\" style=\"width: 800px;\"/>\n",
    "<figcaption><center><b>Figure 7.</b> Process diagram of sentiment analysis</center></figcaption>"
   ]
  },
  {
   "cell_type": "markdown",
   "id": "a6e783bd",
   "metadata": {},
   "source": [
    "Our final question then is 'How do we address people's main questions or concerns on COVID-19 vaccination?' as identified using topic modelling. We decided to create a chatbot which is a concrete, useful, and highly relevant product which addresses the identified concerns on covid vaccines. \n",
    "\n",
    "We have created a question answering bot by training it on various question and answer pairs on general COVID-19 vaccine queries. Once the user inputs a question, the bot then matches the input question with the questions in the training dataset. It then gets the answer to the question closest to the input, which it returns as an output."
   ]
  },
  {
   "cell_type": "markdown",
   "id": "d2c8fd24",
   "metadata": {},
   "source": [
    "<img src=\"images/TalkingVac logo 2.png\" style=\"width: 300px;\"/>\n",
    "<figcaption><center><b>Figure 8.</b> TalkingVac logo</center></figcaption>"
   ]
  },
  {
   "cell_type": "markdown",
   "id": "adc34542",
   "metadata": {},
   "source": [
    "TalkingVac is our COVID-19 vaccine chatbot that is best used for quickly accessing generally verified information about COVID-19 and COVID-19 vaccination. It takes in a wide variety of frequently asked question and answer pairs from various reputable web sources such as Philippine Department of Health (DOH), Philippine Society of Microbiology and Infectious Diseases (PSMID), World Health Organization (WHO), and United States Centers for Disease Control and Prevention (CDC)."
   ]
  },
  {
   "cell_type": "markdown",
   "id": "d7a079b4",
   "metadata": {},
   "source": [
    "We have created two types of chatbots, one using Chatterbot, and the other using BERT to be able to leverage on the accuracy levels of both approaches.\n",
    "\n",
    "Head over to the [QABot (Chatterbot) notebook](QABot%20(Chatterbot).ipynb) and [QABot (BERT) notebook](QABot%20(BERT).ipynb) to explore the question answering bots.\n",
    "\n",
    "### Current capability of TalkingVac\n",
    "- Frequently asked questions about COVID-19 Vaccines and Vaccination in the Philippines.\n",
    "- General guidelines on vaccination (e.g. how to get vaccinated, things to do before and after vaccination)\n",
    "\n",
    "### Current limitations of TalkingVac\n",
    "- Cannot give real-time COVID-19 statistics\n",
    "- Does not have specific, personalized, and/or localized information\n",
    "- Cannot answer to questions in Filipino"
   ]
  },
  {
   "cell_type": "markdown",
   "id": "8e666b49",
   "metadata": {},
   "source": [
    "#### Table 4. Data dictionary (QABot)\n",
    "\n",
    "| Data | Data Type | Description |\n",
    "| --- | --- | --- |\n",
    "| Topic | String | General category where the question falls under |\n",
    "| Source | String | Name of the Organization whose website is where the QA pair was taken from |\n",
    "| Link | String | URL of the webpage where the QA pair was taken from  |\n",
    "| Last Updated | Date | Date when the information was accessed |\n",
    "| Question | String | Question related to COVID-19 or COVID-19 vaccines |\n",
    "| Answer | String | Corresponding answer to the question  |"
   ]
  },
  {
   "cell_type": "code",
   "execution_count": null,
   "id": "c6615c3c",
   "metadata": {},
   "outputs": [],
   "source": []
  }
 ],
 "metadata": {
  "kernelspec": {
   "display_name": "Python 3",
   "language": "python",
   "name": "python3"
  },
  "language_info": {
   "codemirror_mode": {
    "name": "ipython",
    "version": 3
   },
   "file_extension": ".py",
   "mimetype": "text/x-python",
   "name": "python",
   "nbconvert_exporter": "python",
   "pygments_lexer": "ipython3",
   "version": "3.8.5"
  }
 },
 "nbformat": 4,
 "nbformat_minor": 5
}
